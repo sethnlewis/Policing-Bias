{
 "cells": [
  {
   "cell_type": "markdown",
   "id": "3d486c7a",
   "metadata": {},
   "source": [
    "https://data.seattle.gov/Public-Safety/Terry-Stops/28ny-9ts8"
   ]
  },
  {
   "cell_type": "code",
   "execution_count": 30,
   "id": "3b3e5a7d",
   "metadata": {},
   "outputs": [
    {
     "name": "stdout",
     "output_type": "stream",
     "text": [
      "The autoreload extension is already loaded. To reload it, use:\n",
      "  %reload_ext autoreload\n"
     ]
    }
   ],
   "source": [
    "import pandas as pd\n",
    "import numpy as np\n",
    "import matplotlib.pyplot as plt\n",
    "import seaborn as sns\n",
    "import pickle\n",
    "import os, sys\n",
    "\n",
    "from custom_functions import *\n",
    "from datetime import time\n",
    "#from sklearn.pipeline import make_pipeline, Pipeline\n",
    "from imblearn.pipeline import make_pipeline, Pipeline\n",
    "from sklearn.model_selection import train_test_split\n",
    "from sklearn.model_selection import cross_val_score, KFold, GridSearchCV\n",
    "from sklearn.preprocessing import OneHotEncoder, LabelEncoder\n",
    "from sklearn.compose import make_column_selector, make_column_transformer\n",
    "from sklearn.linear_model import LogisticRegression\n",
    "from sklearn.neighbors import KNeighborsClassifier\n",
    "from sklearn.preprocessing import StandardScaler, MinMaxScaler\n",
    "from sklearn.metrics import f1_score, accuracy_score, plot_confusion_matrix\n",
    "from sklearn.tree import DecisionTreeClassifier\n",
    "from sklearn.ensemble import RandomForestClassifier\n",
    "from xgboost import XGBClassifier\n",
    "from feature_importance import FeatureImportance\n",
    "\n",
    "\n",
    "from imblearn.over_sampling import SMOTE\n",
    "\n",
    "%load_ext autoreload\n",
    "%autoreload 2\n",
    "%matplotlib inline\n",
    "pd.set_option('display.max_columns', 100)\n",
    "\n",
    "RANDOM_STATE = 1000\n",
    "\n",
    "raw_terry_path = os.path.join('..', 'data', 'raw', 'terry-stops.csv')\n",
    "processed_data_path = os.path.join('..', 'data', 'processed')\n",
    "UNKNOWN = 'Not provided'\n",
    "N_SPLITS = 3\n",
    "JOBS = 1"
   ]
  },
  {
   "cell_type": "code",
   "execution_count": 2,
   "id": "d2e5e39c",
   "metadata": {},
   "outputs": [],
   "source": [
    "df = pd.read_csv(raw_terry_path, dtype='str')\n",
    "\n",
    "# Strip spaces, as relevant\n",
    "for col in df.columns:\n",
    "    df[col] = df[col].str.strip()"
   ]
  },
  {
   "cell_type": "code",
   "execution_count": 3,
   "id": "e46fd609",
   "metadata": {},
   "outputs": [
    {
     "data": {
      "text/plain": [
       "N    36147\n",
       "Y    10588\n",
       "-      478\n",
       "Name: Frisk Flag, dtype: int64"
      ]
     },
     "execution_count": 3,
     "metadata": {},
     "output_type": "execute_result"
    }
   ],
   "source": [
    "df['Frisk Flag'].value_counts()"
   ]
  },
  {
   "cell_type": "code",
   "execution_count": 4,
   "id": "969ffa6c",
   "metadata": {},
   "outputs": [],
   "source": [
    "# ------ CLEAN DATA ONE COLUMN AT A TIME -------\n",
    "\n",
    "# Subject Age Group\n",
    "df['Subject Age Group'].replace('-', np.nan, inplace=True)\n",
    "\n",
    "# Subject ID\n",
    "df['Subject ID'].replace('-1', UNKNOWN, inplace=True)\n",
    "\n",
    "# Weapon Type\n",
    "weapon_type_dict = {'Firearm Other': 'Firearm', \n",
    "                    'Lethal Cutting Instrument': 'Knife', \n",
    "                    'Handgun': 'Firearm', \n",
    "                    '-': 'None', \n",
    "                    'Club, Blackjack, Brass Knuckles': 'Blunt/Striking', \n",
    "                    'Knife/Cutting/Stabbing Instrument': 'Knife', \n",
    "                    'Other Firearm': 'Firearm', \n",
    "                    'Rifle': 'Firearm', \n",
    "                    'Fire/Incendiary Device': 'Other', \n",
    "                    'Blunt Object/Striking Implement': 'Blunt/Striking', \n",
    "                    'Firearm (unk type)': 'Firearm', \n",
    "                    'Mace/Pepper Spray': 'Other', \n",
    "                    'None/Not Applicable': 'None', \n",
    "                    'Club': 'Blunt/Striking', \n",
    "                    'Taser/Stun Gun': 'Other', \n",
    "                    'Shotgun': 'Other', \n",
    "                    'Brass Knuckles': 'Blunt/Striking', \n",
    "                    'Automatic Handgun': 'Firearm', \n",
    "                    'Blackjack': 'Blunt/Striking', \n",
    "                    'Personal Weapons (hands, feet, etc.)': 'Blunt/Striking'}\n",
    "df['Weapon Type'].replace(weapon_type_dict, inplace=True)\n",
    "\n",
    "\n",
    "\n",
    "# Officer Year of Birth\n",
    "df['Officer YOB'] = df['Officer YOB'].astype('int')\n",
    "\n",
    "\n",
    "\n",
    "# Officer Race\n",
    "race_dict = {'Unknown': np.nan, \n",
    "            'Not Specified': np.nan,\n",
    "            '-': np.nan,\n",
    "            'Other': np.nan, \n",
    "            'Unknown': np.nan}\n",
    "df['Officer Race'].replace(race_dict, inplace=True)\n",
    "df['Subject Perceived Race'].replace(race_dict, inplace=True)\n",
    "\n",
    "\n",
    "\n",
    "# Subject Perceived Gender\n",
    "gender_dict = {'Unable to Determine': np.nan,\n",
    "              '-': np.nan,\n",
    "               'Unknown': np.nan,\n",
    "              'Gender Diverse (gender non-conforming and/or transgender)': 'Non-Binary',\n",
    "               'N': 'Non-Binary',\n",
    "               'M': 'Male',\n",
    "               'F': 'Female'}\n",
    "df['Subject Perceived Gender'].replace(gender_dict, inplace=True)\n",
    "df['Officer Gender'].replace(gender_dict, inplace=True)\n",
    "\n",
    "\n",
    "\n",
    "# Reported date and hour\n",
    "df['Reported Date'] = df['Reported Date'].astype('datetime64')\n",
    "    \n",
    "    \n",
    "# Call Type\n",
    "call_type_dict = {'-': UNKNOWN,\n",
    "                 'SCHEDULED EVENT (RECURRING)': UNKNOWN,\n",
    "                 'TEXT MESSAGE': UNKNOWN}\n",
    "df['Call Type'].replace(call_type_dict, inplace=True)\n",
    "    \n",
    "    \n",
    "# Frisk Flag\n",
    "df['Frisk Flag'].replace('-', np.nan, inplace=True)\n",
    "\n",
    "# Precinct\n",
    "precinct_dict = {'-': UNKNOWN,\n",
    "                'FK ERROR': UNKNOWN,\n",
    "                 'Unknown': UNKNOWN,\n",
    "                'SouthWest': 'Southwest'}\n",
    "df['Precinct'].replace(precinct_dict, inplace=True)\n",
    "\n",
    "\n",
    "# Sector\n",
    "df['Sector'].replace(['99', '-'], UNKNOWN, inplace=True)\n",
    "\n",
    "# Beat\n",
    "df['Beat'].replace(['S', '99', '-'], UNKNOWN, inplace=True)\n",
    "\n",
    "# Subject age group\n",
    "df['Subject Age Group'].replace('-', np.nan, inplace=True)\n",
    "\n",
    "df.dropna(inplace=True)"
   ]
  },
  {
   "cell_type": "markdown",
   "id": "e35ab6cc",
   "metadata": {},
   "source": [
    "# Feature Engineering"
   ]
  },
  {
   "cell_type": "markdown",
   "id": "3ea316b5",
   "metadata": {},
   "source": [
    "### Age group manipulation"
   ]
  },
  {
   "cell_type": "code",
   "execution_count": 5,
   "id": "6d9dfee8",
   "metadata": {
    "tags": []
   },
   "outputs": [
    {
     "data": {
      "image/png": "[encoded data removed]",
      "text/plain": [
       "<Figure size 432x288 with 1 Axes>"
      ]
     },
     "metadata": {
      "needs_background": "light"
     },
     "output_type": "display_data"
    }
   ],
   "source": [
    "# ------ ESTIMATE SUBJECT AGE ------\n",
    "\n",
    "years_in_category = {'1 - 17': [10, 17],\n",
    "'18 - 25': [18, 25],\n",
    "'26 - 35': [26, 35],\n",
    "'36 - 45': [36, 45],\n",
    "'46 - 55': [46, 55],\n",
    "'56 and Above': [56, 70]}\n",
    "\n",
    "def predict_ages():\n",
    "    avg, std, x, y = calculate_mean_and_std()    \n",
    "    ages = []\n",
    "    for age_categorical in df['Subject Age Group']:\n",
    "        age = predict_age_from_category(age_categorical, avg, std)\n",
    "        ages.append(age)\n",
    "    return ages, x, y\n",
    "\n",
    "\n",
    "def calculate_mean_and_std():\n",
    "    xy = {}\n",
    "    age_group_counts = dict(df['Subject Age Group'].value_counts())\n",
    "    \n",
    "    for age_group in df['Subject Age Group'].replace(UNKNOWN, np.nan).dropna().unique():\n",
    "        age_range_list = set_range(age_group)\n",
    "        age_range_ct = age_group_counts[age_group]\n",
    "        \n",
    "        for item in age_range_list:\n",
    "            xy[item] = int(age_range_ct/len(age_range_list))\n",
    "    \n",
    "    x = np.array(list(xy.keys()))\n",
    "    y = np.array(list(xy.values()))\n",
    "    avg = x.mean()\n",
    "    std = x.std()\n",
    "    return avg, std, x, y\n",
    "\n",
    "\n",
    "\n",
    "def set_range(age_range):\n",
    "    age_range = years_in_category[age_range]\n",
    "    start = age_range[0]\n",
    "    stop = age_range[1]\n",
    "    return np.linspace(start, stop, stop-start+1)\n",
    "\n",
    "def predict_age_from_category(bucket, avg, std):\n",
    "    if bucket == UNKNOWN:\n",
    "        year_range = np.array(list(years_in_category.values())).flatten()\n",
    "        min_age = year_range.min()\n",
    "        max_age = year_range.max()\n",
    "    else:\n",
    "        year_range = years_in_category[bucket]\n",
    "        min_age = year_range[0]\n",
    "        max_age = year_range[1]\n",
    "    age = 0\n",
    "    while ((age <= min_age-0.5) or (age > max_age+0.5)):\n",
    "        age = np.random.normal(avg, std)\n",
    "    return age\n",
    "\n",
    "\n",
    "plt.figure()\n",
    "df['Subject Age (Est)'], x, y = predict_ages()\n",
    "sns.histplot(df['Subject Age (Est)'], bins=60, kde=True);\n",
    "plt.scatter(x, y, c='r', s=10)\n",
    "plt.title('Subject Ages (Est)');"
   ]
  },
  {
   "cell_type": "code",
   "execution_count": 6,
   "id": "894987da",
   "metadata": {},
   "outputs": [
    {
     "data": {
      "text/plain": [
       "None              37114\n",
       "Knife              1832\n",
       "Firearm             393\n",
       "Blunt/Striking      122\n",
       "Other                38\n",
       "Name: Weapon Type, dtype: int64"
      ]
     },
     "execution_count": 6,
     "metadata": {},
     "output_type": "execute_result"
    }
   ],
   "source": [
    "df['Weapon Type'].value_counts()"
   ]
  },
  {
   "cell_type": "code",
   "execution_count": 7,
   "id": "576c18b5",
   "metadata": {},
   "outputs": [],
   "source": [
    "# Engineer new features\n",
    "\n",
    "# Calculate Officer Age\n",
    "if 'Officer YOB' in df.columns:\n",
    "    df['Officer Age'] = df['Reported Date'].apply(lambda x: x.year) - df['Officer YOB']\n",
    "    df['Officer Age'] = df['Officer Age'].apply(lambda x: np.nan if x > 100 else x)\n",
    "    df.drop('Officer YOB', axis=1, inplace=True)\n",
    "\n",
    "    \n",
    "# Determine whether or not weapon was involved\n",
    "#has_weapon = lambda x: 'No' if x == 'None' else 'Yes'\n",
    "df['Weapon (Y/N)'] = (df['Weapon Type'] != 'None').astype('int')\n",
    "\n",
    "\n",
    "# Calculate the number of stops per subject\n",
    "if 'Subject ID' in df.columns:\n",
    "    offense_ct_dict = dict(df['Subject ID'].value_counts())\n",
    "    df['Offense Count'] = df['Subject ID'].map(offense_ct_dict)\n",
    "    # Identify whether a subject has been involved in multiple stops\n",
    "    df['Repeat Offender (Y/N)'] = (df['Offense Count'] > 1).astype('int')\n",
    "    # Drop \"Offense Count\" for now given the number of missing values\n",
    "    if 'Offense Count' in df:\n",
    "        df.drop('Offense Count', axis=1, inplace=True)\n",
    "    df.drop('Subject ID', axis=1, inplace=True)\n",
    "\n",
    "\n",
    "# Identify whether race of officer is same as race of subject\n",
    "df['Same Race (Y/N)'] = (df['Officer Race'] == df['Subject Perceived Race']).astype('int')\n",
    "\n",
    "# Identify whether gender of officer is same as gender of subject\n",
    "df['Same Gender (Y/N)'] = (df['Officer Gender'] == df['Subject Perceived Gender']).astype('int')\n",
    "\n",
    "# Rename columns and drop 'na' rows\n",
    "if 'Arrest Flag' in df.columns:\n",
    "    df['Arrest (Y/N)'] = (df['Arrest Flag'] == 'Y').astype('int')\n",
    "    df.drop('Arrest Flag', axis=1, inplace=True)\n",
    "    \n",
    "if 'Frisk Flag' in df.columns:\n",
    "    df['Frisk (Y/N)'] = (df['Frisk Flag'] == 'Y').astype('int')\n",
    "    df.drop('Frisk Flag', axis=1, inplace=True)\n",
    "    \n",
    "# Stop resolution\n",
    "df['Stop Resolution: Arrest (Method2)'] = (df['Stop Resolution'] == 'Arrest').astype('int')\n",
    "\n",
    "\n",
    "# Revisiting subject perceived gender\n",
    "# Difficult decision to make, but with a sample size of only 5 people, the \n",
    "# amount of data is insufficient to provide a statistically significant understanding\n",
    "# of how non-binary perception affects arrest rate\n",
    "df['Subject Perceived Gender'].replace('Non-Binary', np.nan, inplace=True)\n",
    "\n",
    "\n",
    "# Optionally categorize 'Officer Squad'\n",
    "# Officer Squad"
   ]
  },
  {
   "cell_type": "code",
   "execution_count": 8,
   "id": "d5380804",
   "metadata": {},
   "outputs": [],
   "source": [
    "# Remove missing values and reset index\n",
    "df.dropna(inplace=True)\n",
    "df.reset_index(inplace=True, drop=True)"
   ]
  },
  {
   "cell_type": "code",
   "execution_count": 9,
   "id": "72f9e5f6",
   "metadata": {},
   "outputs": [
    {
     "name": "stdout",
     "output_type": "stream",
     "text": [
      "<class 'pandas.core.frame.DataFrame'>\n",
      "RangeIndex: 39495 entries, 0 to 39494\n",
      "Data columns (total 28 columns):\n",
      " #   Column                             Non-Null Count  Dtype         \n",
      "---  ------                             --------------  -----         \n",
      " 0   Subject Age Group                  39495 non-null  object        \n",
      " 1   GO / SC Num                        39495 non-null  object        \n",
      " 2   Terry Stop ID                      39495 non-null  object        \n",
      " 3   Stop Resolution                    39495 non-null  object        \n",
      " 4   Weapon Type                        39495 non-null  object        \n",
      " 5   Officer ID                         39495 non-null  object        \n",
      " 6   Officer Gender                     39495 non-null  object        \n",
      " 7   Officer Race                       39495 non-null  object        \n",
      " 8   Subject Perceived Race             39495 non-null  object        \n",
      " 9   Subject Perceived Gender           39495 non-null  object        \n",
      " 10  Reported Date                      39495 non-null  datetime64[ns]\n",
      " 11  Reported Time                      39495 non-null  object        \n",
      " 12  Initial Call Type                  39495 non-null  object        \n",
      " 13  Final Call Type                    39495 non-null  object        \n",
      " 14  Call Type                          39495 non-null  object        \n",
      " 15  Officer Squad                      39495 non-null  object        \n",
      " 16  Precinct                           39495 non-null  object        \n",
      " 17  Sector                             39495 non-null  object        \n",
      " 18  Beat                               39495 non-null  object        \n",
      " 19  Subject Age (Est)                  39495 non-null  float64       \n",
      " 20  Officer Age                        39495 non-null  int64         \n",
      " 21  Weapon (Y/N)                       39495 non-null  int32         \n",
      " 22  Repeat Offender (Y/N)              39495 non-null  int32         \n",
      " 23  Same Race (Y/N)                    39495 non-null  int32         \n",
      " 24  Same Gender (Y/N)                  39495 non-null  int32         \n",
      " 25  Arrest (Y/N)                       39495 non-null  int32         \n",
      " 26  Frisk (Y/N)                        39495 non-null  int32         \n",
      " 27  Stop Resolution: Arrest (Method2)  39495 non-null  int32         \n",
      "dtypes: datetime64[ns](1), float64(1), int32(7), int64(1), object(18)\n",
      "memory usage: 7.4+ MB\n"
     ]
    }
   ],
   "source": [
    "df.info()"
   ]
  },
  {
   "cell_type": "markdown",
   "id": "b9290df6",
   "metadata": {},
   "source": [
    "### Determine which \"Arrest\" field to use:\n",
    "- Option 1: 'Arrest Flag', which is now renamed to 'Arrest (Y/N)'\n",
    "- Option 2: 'Stop Resolution' value of 'Arrest'"
   ]
  },
  {
   "cell_type": "code",
   "execution_count": 10,
   "id": "3ff7e980",
   "metadata": {},
   "outputs": [
    {
     "name": "stdout",
     "output_type": "stream",
     "text": [
      "Option 1:\n",
      "0    36449\n",
      "1     3046\n",
      "Name: Arrest (Y/N), dtype: int64\n",
      "\n",
      "Option 2:\n",
      "0    29293\n",
      "1    10202\n",
      "Name: Stop Resolution: Arrest (Method2), dtype: int64\n"
     ]
    }
   ],
   "source": [
    "print('Option 1:')\n",
    "print(df['Arrest (Y/N)'].value_counts())\n",
    "print('\\nOption 2:')\n",
    "print(df['Stop Resolution: Arrest (Method2)'].value_counts())"
   ]
  },
  {
   "cell_type": "markdown",
   "id": "a0c403fa",
   "metadata": {},
   "source": [
    "##### Since there are more in Option 2, determine if all positives from Option 1 are included in this subset"
   ]
  },
  {
   "cell_type": "code",
   "execution_count": 11,
   "id": "84622533",
   "metadata": {},
   "outputs": [
    {
     "data": {
      "text/plain": [
       "0    7158\n",
       "1    3044\n",
       "Name: Arrest (Y/N), dtype: int64"
      ]
     },
     "execution_count": 11,
     "metadata": {},
     "output_type": "execute_result"
    }
   ],
   "source": [
    "# Determine if all of\n",
    "method2 = df.loc[df['Stop Resolution: Arrest (Method2)']==1].copy()\n",
    "method2['Arrest (Y/N)'].value_counts()"
   ]
  },
  {
   "cell_type": "markdown",
   "id": "ec2b63d7",
   "metadata": {},
   "source": [
    "##### All but 2 of the positive Arrest (Y/N) values are included in 'Stop Resolution: Arrest'. As a result, we see that the former is a subset of the latter. It is unclear why, but for the scope of this analysis, we will use the latter for the sake of a larger scope. "
   ]
  },
  {
   "cell_type": "code",
   "execution_count": 12,
   "id": "fcac9778",
   "metadata": {},
   "outputs": [
    {
     "name": "stdout",
     "output_type": "stream",
     "text": [
      "<class 'pandas.core.frame.DataFrame'>\n",
      "RangeIndex: 39495 entries, 0 to 39494\n",
      "Data columns (total 28 columns):\n",
      " #   Column                             Non-Null Count  Dtype         \n",
      "---  ------                             --------------  -----         \n",
      " 0   Subject Age Group                  39495 non-null  object        \n",
      " 1   GO / SC Num                        39495 non-null  object        \n",
      " 2   Terry Stop ID                      39495 non-null  object        \n",
      " 3   Stop Resolution                    39495 non-null  object        \n",
      " 4   Weapon Type                        39495 non-null  object        \n",
      " 5   Officer ID                         39495 non-null  object        \n",
      " 6   Officer Gender                     39495 non-null  object        \n",
      " 7   Officer Race                       39495 non-null  object        \n",
      " 8   Subject Perceived Race             39495 non-null  object        \n",
      " 9   Subject Perceived Gender           39495 non-null  object        \n",
      " 10  Reported Date                      39495 non-null  datetime64[ns]\n",
      " 11  Reported Time                      39495 non-null  object        \n",
      " 12  Initial Call Type                  39495 non-null  object        \n",
      " 13  Final Call Type                    39495 non-null  object        \n",
      " 14  Call Type                          39495 non-null  object        \n",
      " 15  Officer Squad                      39495 non-null  object        \n",
      " 16  Precinct                           39495 non-null  object        \n",
      " 17  Sector                             39495 non-null  object        \n",
      " 18  Beat                               39495 non-null  object        \n",
      " 19  Subject Age (Est)                  39495 non-null  float64       \n",
      " 20  Officer Age                        39495 non-null  int64         \n",
      " 21  Weapon (Y/N)                       39495 non-null  int32         \n",
      " 22  Repeat Offender (Y/N)              39495 non-null  int32         \n",
      " 23  Same Race (Y/N)                    39495 non-null  int32         \n",
      " 24  Same Gender (Y/N)                  39495 non-null  int32         \n",
      " 25  Arrest (Y/N)                       39495 non-null  int32         \n",
      " 26  Frisk (Y/N)                        39495 non-null  int32         \n",
      " 27  Stop Resolution: Arrest (Method2)  39495 non-null  int32         \n",
      "dtypes: datetime64[ns](1), float64(1), int32(7), int64(1), object(18)\n",
      "memory usage: 7.4+ MB\n"
     ]
    }
   ],
   "source": [
    "df.info()"
   ]
  },
  {
   "cell_type": "code",
   "execution_count": 13,
   "id": "6cb885fc",
   "metadata": {},
   "outputs": [],
   "source": [
    "df.rename({'Stop Resolution: Arrest (Method2)':'Stop Resolution: Arrest (Y/N)'}, axis=1, inplace=True)\n",
    "df.drop('Arrest (Y/N)', axis=1, inplace=True)"
   ]
  },
  {
   "cell_type": "code",
   "execution_count": 14,
   "id": "5faf4556",
   "metadata": {},
   "outputs": [
    {
     "name": "stdout",
     "output_type": "stream",
     "text": [
      "<class 'pandas.core.frame.DataFrame'>\n",
      "RangeIndex: 39495 entries, 0 to 39494\n",
      "Data columns (total 27 columns):\n",
      " #   Column                         Non-Null Count  Dtype         \n",
      "---  ------                         --------------  -----         \n",
      " 0   Subject Age Group              39495 non-null  object        \n",
      " 1   GO / SC Num                    39495 non-null  object        \n",
      " 2   Terry Stop ID                  39495 non-null  object        \n",
      " 3   Stop Resolution                39495 non-null  object        \n",
      " 4   Weapon Type                    39495 non-null  object        \n",
      " 5   Officer ID                     39495 non-null  object        \n",
      " 6   Officer Gender                 39495 non-null  object        \n",
      " 7   Officer Race                   39495 non-null  object        \n",
      " 8   Subject Perceived Race         39495 non-null  object        \n",
      " 9   Subject Perceived Gender       39495 non-null  object        \n",
      " 10  Reported Date                  39495 non-null  datetime64[ns]\n",
      " 11  Reported Time                  39495 non-null  object        \n",
      " 12  Initial Call Type              39495 non-null  object        \n",
      " 13  Final Call Type                39495 non-null  object        \n",
      " 14  Call Type                      39495 non-null  object        \n",
      " 15  Officer Squad                  39495 non-null  object        \n",
      " 16  Precinct                       39495 non-null  object        \n",
      " 17  Sector                         39495 non-null  object        \n",
      " 18  Beat                           39495 non-null  object        \n",
      " 19  Subject Age (Est)              39495 non-null  float64       \n",
      " 20  Officer Age                    39495 non-null  int64         \n",
      " 21  Weapon (Y/N)                   39495 non-null  int32         \n",
      " 22  Repeat Offender (Y/N)          39495 non-null  int32         \n",
      " 23  Same Race (Y/N)                39495 non-null  int32         \n",
      " 24  Same Gender (Y/N)              39495 non-null  int32         \n",
      " 25  Frisk (Y/N)                    39495 non-null  int32         \n",
      " 26  Stop Resolution: Arrest (Y/N)  39495 non-null  int32         \n",
      "dtypes: datetime64[ns](1), float64(1), int32(6), int64(1), object(18)\n",
      "memory usage: 7.2+ MB\n"
     ]
    }
   ],
   "source": [
    "df.info()"
   ]
  },
  {
   "cell_type": "markdown",
   "id": "6c7482d7",
   "metadata": {},
   "source": [
    "# Graphical EDA"
   ]
  },
  {
   "cell_type": "code",
   "execution_count": 15,
   "id": "dcb96ff2",
   "metadata": {
    "tags": []
   },
   "outputs": [
    {
     "data": {
      "image/png": "[encoded data removed]",
      "text/plain": [
       "<Figure size 1152x288 with 2 Axes>"
      ]
     },
     "metadata": {},
     "output_type": "display_data"
    },
    {
     "data": {
      "image/png": "[encoded data removed]",
      "text/plain": [
       "<Figure size 1728x1152 with 6 Axes>"
      ]
     },
     "metadata": {},
     "output_type": "display_data"
    },
    {
     "name": "stdout",
     "output_type": "stream",
     "text": [
      "                      Subject Perceived Race  Resolution_Arrest  \\\n",
      "6                                      White             5230.0   \n",
      "2                  Black or African American             3665.0   \n",
      "1                                      Asian              401.0   \n",
      "0           American Indian or Alaska Native              376.0   \n",
      "3                                   Hispanic              373.0   \n",
      "4                               Multi-Racial              142.0   \n",
      "5  Native Hawaiian or Other Pacific Islander               15.0   \n",
      "\n",
      "   Resolution_Citation / Infraction  Resolution_Field Contact  \\\n",
      "6                              63.0                    8830.0   \n",
      "2                              43.0                    4544.0   \n",
      "1                              12.0                     557.0   \n",
      "0                               5.0                     458.0   \n",
      "3                               7.0                     579.0   \n",
      "4                               1.0                     220.0   \n",
      "5                               0.0                      23.0   \n",
      "\n",
      "   Resolution_Offense Report  Resolution_Referred for Prosecution  \n",
      "6                     7097.0                                370.0  \n",
      "2                     4481.0                                209.0  \n",
      "1                      437.0                                 10.0  \n",
      "0                      402.0                                 24.0  \n",
      "3                      607.0                                 24.0  \n",
      "4                      263.0                                 13.0  \n",
      "5                       14.0                                  0.0  \n",
      "--------------------------------------------------------------------\n",
      "\n",
      "\n"
     ]
    },
    {
     "data": {
      "image/png": "[encoded data removed]",
      "text/plain": [
       "<Figure size 1152x288 with 2 Axes>"
      ]
     },
     "metadata": {},
     "output_type": "display_data"
    },
    {
     "name": "stdout",
     "output_type": "stream",
     "text": [
      "  Subject Perceived Gender  Stop Resolution: Arrest (Y/N)  Frisk (Y/N)\n",
      "1                     Male                       0.262188     0.254312\n",
      "0                   Female                       0.243071     0.115730\n",
      "--------------------------------------------------------------------\n",
      "\n",
      "\n"
     ]
    },
    {
     "data": {
      "image/png": "[encoded data removed]",
      "text/plain": [
       "<Figure size 1152x288 with 2 Axes>"
      ]
     },
     "metadata": {},
     "output_type": "display_data"
    },
    {
     "name": "stdout",
     "output_type": "stream",
     "text": [
      "                    Officer Race  Stop Resolution: Arrest (Y/N)  Frisk (Y/N)\n",
      "5              Two or More Races                       0.265077     0.211521\n",
      "6                          White                       0.262261     0.227299\n",
      "3             Hispanic or Latino                       0.259008     0.206443\n",
      "0  American Indian/Alaska Native                       0.248175     0.277372\n",
      "1                          Asian                       0.232504     0.213418\n",
      "2      Black or African American                       0.211126     0.258043\n",
      "4  Nat Hawaiian/Oth Pac Islander                       0.202597     0.241558\n",
      "--------------------------------------------------------------------\n",
      "\n",
      "\n"
     ]
    },
    {
     "data": {
      "image/png": "[encoded data removed]",
      "text/plain": [
       "<Figure size 1152x288 with 2 Axes>"
      ]
     },
     "metadata": {},
     "output_type": "display_data"
    },
    {
     "name": "stdout",
     "output_type": "stream",
     "text": [
      "  Officer Gender  Stop Resolution: Arrest (Y/N)  Frisk (Y/N)\n",
      "1           Male                       0.261355     0.229894\n",
      "0         Female                       0.234827     0.197749\n",
      "--------------------------------------------------------------------\n",
      "\n",
      "\n"
     ]
    },
    {
     "data": {
      "image/png": "[encoded data removed]",
      "text/plain": [
       "<Figure size 1152x288 with 2 Axes>"
      ]
     },
     "metadata": {},
     "output_type": "display_data"
    },
    {
     "name": "stdout",
     "output_type": "stream",
     "text": [
      "    Officer Age  Stop Resolution: Arrest (Y/N)  Frisk (Y/N)\n",
      "47           68                       0.500000     1.000000\n",
      "1            22                       0.330317     0.235294\n",
      "0            21                       0.315789     0.052632\n",
      "44           65                       0.312500     0.125000\n",
      "5            26                       0.309610     0.233247\n",
      "7            28                       0.302947     0.224678\n",
      "11           32                       0.297089     0.218322\n",
      "3            24                       0.289913     0.221109\n",
      "9            30                       0.281110     0.223582\n",
      "6            27                       0.278135     0.215970\n",
      "10           31                       0.276836     0.196610\n",
      "12           33                       0.273577     0.224299\n",
      "21           42                       0.271144     0.236318\n",
      "8            29                       0.270588     0.248366\n",
      "2            23                       0.270481     0.217165\n",
      "4            25                       0.268440     0.253930\n",
      "38           59                       0.256410     0.102564\n",
      "19           40                       0.254257     0.223610\n",
      "14           35                       0.253813     0.256864\n",
      "13           34                       0.250477     0.240935\n",
      "25           46                       0.244147     0.249164\n",
      "17           38                       0.241379     0.244422\n",
      "23           44                       0.240064     0.260731\n",
      "18           39                       0.238806     0.168772\n",
      "20           41                       0.235837     0.235837\n",
      "26           47                       0.233591     0.245174\n",
      "15           36                       0.221834     0.268122\n",
      "32           53                       0.217514     0.166667\n",
      "31           52                       0.217391     0.192029\n",
      "16           37                       0.211042     0.279608\n",
      "24           45                       0.204878     0.243902\n",
      "28           49                       0.203252     0.231707\n",
      "33           54                       0.190123     0.150617\n",
      "29           50                       0.187368     0.218947\n",
      "22           43                       0.178445     0.157244\n",
      "39           60                       0.171429     0.200000\n",
      "27           48                       0.169912     0.224779\n",
      "35           56                       0.166667     0.121622\n",
      "30           51                       0.163934     0.204918\n",
      "36           57                       0.160000     0.150000\n",
      "34           55                       0.158088     0.172794\n",
      "42           63                       0.142857     0.142857\n",
      "37           58                       0.134228     0.167785\n",
      "40           61                       0.085714     0.171429\n",
      "41           62                       0.058824     0.058824\n",
      "43           64                       0.000000     0.357143\n",
      "45           66                       0.000000     0.000000\n",
      "46           67                       0.000000     0.090909\n",
      "48           69                       0.000000     0.000000\n",
      "49           70                       0.000000     0.000000\n",
      "--------------------------------------------------------------------\n",
      "\n",
      "\n"
     ]
    }
   ],
   "source": [
    "# BAR GRAPHS FOR ***AVERAGE OR SUM*** OF METRICS\n",
    "\n",
    "df_graphical = pd.concat([df, pd.get_dummies(df['Stop Resolution'], prefix='Resolution')], axis=1)\n",
    "\n",
    "# Average metrics by age group\n",
    "x_axis = 'Subject Age Group'\n",
    "y_axis = ['Stop Resolution: Arrest (Y/N)', 'Frisk (Y/N)']#, 'Resolution_Arrest', 'Resolution_Citation / Infraction', 'Resolution_Field Contact', 'Resolution_Offense Report', 'Resolution_Referred for Prosecution']\n",
    "bar_plot(df_graphical, x_axis, y_axis, 'mean', verbose=False)\n",
    "\n",
    "# Average metrics by subject race\n",
    "x_axis = 'Subject Perceived Race'\n",
    "y_axis = ['Resolution_Arrest', 'Resolution_Citation / Infraction', 'Resolution_Field Contact', 'Resolution_Offense Report', 'Resolution_Referred for Prosecution']\n",
    "bar_plot(df_graphical, x_axis, y_axis, 'sum', verbose=True)\n",
    "\n",
    "# Gender metrics\n",
    "x_axis = 'Subject Perceived Gender'\n",
    "y_axis = ['Stop Resolution: Arrest (Y/N)', 'Frisk (Y/N)']\n",
    "bar_plot(df_graphical, x_axis, y_axis, 'mean', verbose=True)\n",
    "\n",
    "# Officer race\n",
    "x_axis = 'Officer Race'\n",
    "bar_plot(df_graphical, x_axis, y_axis, 'mean',verbose=True)\n",
    "\n",
    "# Officer gender\n",
    "x_axis = 'Officer Gender'\n",
    "bar_plot(df_graphical, x_axis, y_axis, 'mean', verbose=True)\n",
    "\n",
    "# Officer age\n",
    "x_axis = 'Officer Age'\n",
    "bar_plot(df_graphical, x_axis, y_axis, 'mean', verbose=True)"
   ]
  },
  {
   "cell_type": "markdown",
   "id": "de228165",
   "metadata": {},
   "source": [
    "# Refine dataset"
   ]
  },
  {
   "cell_type": "code",
   "execution_count": 16,
   "id": "66316b0e",
   "metadata": {},
   "outputs": [
    {
     "name": "stdout",
     "output_type": "stream",
     "text": [
      "Excluding: GO / SC Num\n",
      "Excluding: Terry Stop ID\n",
      "Excluding: Officer ID\n",
      "Excluding: Reported Time\n",
      "Excluding: Initial Call Type\n",
      "Excluding: Final Call Type\n",
      "Excluding: Officer Squad\n",
      "Excluding: Beat\n",
      "Including: Index(['Reported Date', 'Subject Age (Est)', 'Officer Age', 'Weapon (Y/N)',\n",
      "       'Repeat Offender (Y/N)', 'Same Race (Y/N)', 'Same Gender (Y/N)',\n",
      "       'Frisk (Y/N)', 'Stop Resolution: Arrest (Y/N)', 'Subject Age Group',\n",
      "       'Stop Resolution', 'Weapon Type', 'Officer Gender', 'Officer Race',\n",
      "       'Subject Perceived Race', 'Subject Perceived Gender', 'Call Type',\n",
      "       'Precinct', 'Sector'],\n",
      "      dtype='object')\n"
     ]
    }
   ],
   "source": [
    "# Refine dataset to continuous and categoricals w/reasonable number of unique values\n",
    "\n",
    "# Separate columns by type\n",
    "obj_columns = df.select_dtypes('object').columns\n",
    "continuous_columns = df.drop(obj_columns, axis=1).columns\n",
    "\n",
    "# Determine which columns are most valuable to OHE\n",
    "# based on small enough number of values\n",
    "cols_to_ohe = []\n",
    "for col in obj_columns:\n",
    "    if len(df[col].value_counts().index) < 30:\n",
    "        cols_to_ohe.append(col)\n",
    "    else:\n",
    "        print('Excluding:', col)\n",
    "\n",
    "df_refined = pd.concat([df[continuous_columns], df[cols_to_ohe]], axis=1)\n",
    "\n",
    "print(f'Including: {df_refined.columns}')\n",
    "#df_refined.info()"
   ]
  },
  {
   "cell_type": "markdown",
   "id": "a742fd93",
   "metadata": {},
   "source": [
    "##### Plot distributions"
   ]
  },
  {
   "cell_type": "code",
   "execution_count": 17,
   "id": "ae0c1b86",
   "metadata": {},
   "outputs": [
    {
     "data": {
      "image/png": "[encoded data removed]",
      "text/plain": [
       "<Figure size 1584x1440 with 20 Axes>"
      ]
     },
     "metadata": {
      "needs_background": "light"
     },
     "output_type": "display_data"
    }
   ],
   "source": [
    "#nrows = int(np.ceil(len(continuous_columns)/4))\n",
    "nrows = int(np.ceil(df_refined.shape[1]/4))\n",
    "fig, axes = plt.subplots(ncols=4, nrows=nrows, figsize=(22, 4*nrows))\n",
    "\n",
    "for ax, col in zip(axes.flatten(), df_refined.columns):\n",
    "    ax.hist(df_refined[col])\n",
    "    ax.set_title(col)\n",
    "    ax.tick_params('x', labelrotation=45)\n",
    "    #ax.tick_params(labelrotation=45)\n",
    "    \n",
    "plt.subplots_adjust(wspace=.75, hspace=.75)"
   ]
  },
  {
   "cell_type": "markdown",
   "id": "ea71b351",
   "metadata": {},
   "source": [
    "# Begin encoding and modeling"
   ]
  },
  {
   "cell_type": "code",
   "execution_count": 18,
   "id": "ac255781",
   "metadata": {},
   "outputs": [],
   "source": [
    "# OPTIONAL APPROACH: REMOVE ROWS WITH ANY UNKNOWNS (precinct, mostly)\n",
    "# df_refined_no_nas = df_refined.copy()\n",
    "# for col in df_refined_no_nas.columns:\n",
    "#     df_refined_no_nas.replace(UNKNOWN, np.nan, inplace=True)\n",
    "\n",
    "# df_refined_no_nas.dropna(inplace=True)\n",
    "# df_refined_no_nas.info()"
   ]
  },
  {
   "cell_type": "code",
   "execution_count": 19,
   "id": "0cadb4f1",
   "metadata": {},
   "outputs": [
    {
     "data": {
      "text/plain": [
       "911                              17799\n",
       "Not provided                     11186\n",
       "ONVIEW                            7428\n",
       "TELEPHONE OTHER, NOT 911          2791\n",
       "ALARM CALL (NOT POLICE ALARM)      291\n",
       "Name: Call Type, dtype: int64"
      ]
     },
     "execution_count": 19,
     "metadata": {},
     "output_type": "execute_result"
    }
   ],
   "source": [
    "df['Call Type'].value_counts()"
   ]
  },
  {
   "cell_type": "code",
   "execution_count": 20,
   "id": "6e145174",
   "metadata": {},
   "outputs": [],
   "source": [
    "# Split data\n",
    "y_label = 'Stop Resolution: Arrest (Y/N)'\n",
    "X = df_refined.drop([y_label,\n",
    "                     'Frisk (Y/N)', \n",
    "                     'Reported Date', \n",
    "                     'Subject Age Group', \n",
    "                     'Stop Resolution',\n",
    "                     'Call Type', \n",
    "                     #'Precinct',\n",
    "                     'Sector'], \n",
    "                     axis=1)\n",
    "y = df_refined[y_label]\n",
    "\n",
    "X, X_test, y, y_test = train_test_split(X, y, random_state = RANDOM_STATE)\n",
    "\n",
    "# Remove temptation to touch test dataset\n",
    "test_data = {'X_test': X_test, 'y_test': y_test}\n",
    "with open (os.path.join(processed_data_path, 'test_data.pickle'), 'wb') as f:\n",
    "    pickle.dump (test_data, f)\n",
    "X_test = None\n",
    "y_test = None\n",
    "X.reset_index(drop=True, inplace=True)\n",
    "y.reset_index(drop=True, inplace=True)\n",
    "\n",
    "# Declare object to hold history of all model runs\n",
    "model_history = ModelHistoryV2()"
   ]
  },
  {
   "cell_type": "markdown",
   "id": "1e039bec",
   "metadata": {},
   "source": [
    "#### Logistic Regression"
   ]
  },
  {
   "cell_type": "code",
   "execution_count": 21,
   "id": "6da2819a",
   "metadata": {},
   "outputs": [
    {
     "ename": "NameError",
     "evalue": "name 'stop' is not defined",
     "output_type": "error",
     "traceback": [
      "\u001b[1;31m---------------------------------------------------------------------------\u001b[0m",
      "\u001b[1;31mNameError\u001b[0m                                 Traceback (most recent call last)",
      "\u001b[1;32m<ipython-input-21-4f76a9dad686>\u001b[0m in \u001b[0;36m<module>\u001b[1;34m\u001b[0m\n\u001b[1;32m----> 1\u001b[1;33m \u001b[0mstop\u001b[0m\u001b[1;33m\u001b[0m\u001b[1;33m\u001b[0m\u001b[0m\n\u001b[0m",
      "\u001b[1;31mNameError\u001b[0m: name 'stop' is not defined"
     ]
    }
   ],
   "source": [
    "stop"
   ]
  },
  {
   "cell_type": "code",
   "execution_count": null,
   "id": "43d7aefb",
   "metadata": {},
   "outputs": [],
   "source": [
    "# # --- BASELINE (CONTINUOUS) ---\n",
    "X_numeric = X.select_dtypes(exclude='object')\n",
    "model = LogisticRegression(random_state=RANDOM_STATE, max_iter=1000, n_jobs=JOBS)\n",
    "model.fit(X_numeric, y)\n",
    "model_history.add_model(model, X_numeric, y, notes='Baseline')\n",
    "\n",
    "# # --- ADD CATEGORICALS ---\n",
    "string_selector = make_column_selector(dtype_include='object')\n",
    "number_selector = make_column_selector(dtype_exclude=['object'])\n",
    "col_transformer = make_column_transformer((OneHotEncoder(drop='first', sparse=False), string_selector), n_jobs=JOBS)\n",
    "model = LogisticRegression(random_state=RANDOM_STATE, max_iter=1000, n_jobs=JOBS)\n",
    "pipe = Pipeline([('cols', col_transformer),\n",
    "                 ('model', model)])\n",
    "pipe.fit(X, y)\n",
    "model_history.add_model(pipe, X, y, notes='Add categoricals')\n",
    "\n",
    "\n",
    "# # --- ADD SMOTE ---\n",
    "col_transformer = make_column_transformer((OneHotEncoder(drop='first', sparse=False), string_selector), n_jobs=JOBS)\n",
    "pipe = Pipeline([('cols', col_transformer),\n",
    "                 ('smote', SMOTE(random_state = RANDOM_STATE, n_jobs=JOBS)),\n",
    "                 ('model', model)])\n",
    "pipe.fit(X, y)\n",
    "model_history.add_model(pipe, X, y, notes='Add SMOTE')\n",
    "\n",
    "\n",
    "# # --- ADD STANDARD SCALER ---\n",
    "col_transformer = make_column_transformer((OneHotEncoder(drop='first', sparse=False), string_selector), \n",
    "                                          (StandardScaler(), number_selector), n_jobs=JOBS)\n",
    "pipe = Pipeline([('cols', col_transformer),\n",
    "                 ('smote', SMOTE(random_state = RANDOM_STATE, n_jobs=JOBS)),\n",
    "                 ('model', model)])\n",
    "pipe.fit(X, y)\n",
    "model_history.add_model(pipe, X, y, notes='Add standard scaler')\n",
    "\n",
    "\n",
    "# # --- SWITCH TO MIN-MAX SCALER ---\n",
    "col_transformer = make_column_transformer((OneHotEncoder(drop='first', sparse=False), string_selector), \n",
    "                                          (MinMaxScaler(), number_selector), n_jobs=JOBS)\n",
    "pipe = Pipeline([('cols', col_transformer),\n",
    "                 ('smote', SMOTE(random_state = RANDOM_STATE, n_jobs=JOBS)),\n",
    "                 ('model', model)])\n",
    "pipe.fit(X, y)\n",
    "model_history.add_model(pipe, X, y, display_results=False, notes='Switch to min-max scaler')\n",
    "\n",
    "\n",
    "# # --- ADD GRID SEARCH AND CROSS VAL ---\n",
    "pipe = Pipeline([('cols', col_transformer),\n",
    "                 ('smote', SMOTE(random_state = RANDOM_STATE, n_jobs=JOBS)),\n",
    "                 ('model', model)])\n",
    "\n",
    "param_grid = {'model__C': np.logspace(-4, 4, 2)}#25)}\n",
    "cv = KFold(N_SPLITS, shuffle=True, random_state=RANDOM_STATE)\n",
    "search = GridSearchCV(pipe, param_grid, cv=cv, n_jobs=JOBS)\n",
    "search.fit(X, y)\n",
    "model_history.add_model(search.best_estimator_, X, y, display_results=True, notes='Add grid search and cross val')"
   ]
  },
  {
   "cell_type": "code",
   "execution_count": null,
   "id": "ceb02fb9",
   "metadata": {
    "tags": []
   },
   "outputs": [],
   "source": [
    "# --- THIS CELL RESULTS IN DATA LEAKAGE DUE TO SMOTE, KEEPING FOR REFERENCE ONLY ---\n",
    "\n",
    "# # --- ENCODE AND SCALE ---\n",
    "\n",
    "# # ENCODE 'OBJECT' DATATYPES\n",
    "# ohe = OneHotEncoder(drop='first', sparse=False)\n",
    "# X_obj = X.select_dtypes(include='object')\n",
    "# ohe.fit(X_obj)\n",
    "\n",
    "# X_obj_ohe = ohe.transform(X_obj)\n",
    "# col_names_ohe = ohe.get_feature_names(X_obj.columns)\n",
    "# X_obj_ohe = pd.DataFrame(X_obj_ohe, columns = col_names_ohe)\n",
    "# X_numeric = X.drop(X_obj.columns, axis=1)\n",
    "# X_ohe_num = pd.concat([X_obj_ohe, X_numeric], axis=1)\n",
    "\n",
    "# ss = StandardScaler()\n",
    "# X_scaled = pd.DataFrame(ss.fit_transform(X_ohe_num), columns = X_ohe_num.columns)\n",
    "\n",
    "# smote = SMOTE()\n",
    "# X_resampled, y_resampled = smote.fit_resample(X_scaled, y)"
   ]
  },
  {
   "cell_type": "markdown",
   "id": "b3e5a576",
   "metadata": {},
   "source": [
    "#### K-Nearest Neighbors"
   ]
  },
  {
   "cell_type": "code",
   "execution_count": null,
   "id": "f3d91e9b",
   "metadata": {},
   "outputs": [],
   "source": [
    "# --- SKIP FOR NOW, COME BACK LATER ---\n",
    "\n",
    "# # --- IMPLEMENT K-NEAREST NEIGHBORS ---\n",
    "\n",
    "# cv = KFold(N_SPLITS, shuffle=True, random_state=RANDOM_STATE)\n",
    "# string_selector = make_column_selector(dtype_include='object')\n",
    "# number_selector = make_column_selector(dtype_exclude=['object'])\n",
    "# col_transformer = make_column_transformer((OneHotEncoder(drop='first', sparse=False), string_selector), \n",
    "#                                           (StandardScaler(), number_selector), n_jobs=JOBS)\n",
    "\n",
    "# model = KNeighborsClassifier(n_jobs=-1)\n",
    "# pipe = Pipeline([('cols', col_transformer),\n",
    "#                  ('smote', SMOTE(random_state = RANDOM_STATE, n_jobs=JOBS)),\n",
    "#                  ('model', model)])\n",
    "\n",
    "# param_grid = {'model__leaf_size': [50],\n",
    "#                'model__n_neighbors': np.arange(3, 8, 2)} \n",
    "# search = GridSearchCV(pipe, param_grid, cv=cv, n_jobs=JOBS)\n",
    "# search.fit(X, y)\n",
    "# model_history.add_model(search.best_estimator_, X, y, display_results=True, notes='grid search KNN')"
   ]
  },
  {
   "cell_type": "markdown",
   "id": "eb9a2634",
   "metadata": {},
   "source": [
    "#### Decision Tree Classification"
   ]
  },
  {
   "cell_type": "code",
   "execution_count": 26,
   "id": "e4999606",
   "metadata": {},
   "outputs": [
    {
     "data": {
      "text/html": [
       "<div>\n",
       "<style scoped>\n",
       "    .dataframe tbody tr th:only-of-type {\n",
       "        vertical-align: middle;\n",
       "    }\n",
       "\n",
       "    .dataframe tbody tr th {\n",
       "        vertical-align: top;\n",
       "    }\n",
       "\n",
       "    .dataframe thead th {\n",
       "        text-align: right;\n",
       "    }\n",
       "</style>\n",
       "<table border=\"1\" class=\"dataframe\">\n",
       "  <thead>\n",
       "    <tr style=\"text-align: right;\">\n",
       "      <th></th>\n",
       "      <th>Model</th>\n",
       "      <th>n_features</th>\n",
       "      <th>Features</th>\n",
       "      <th>F1 Score</th>\n",
       "      <th>Accuracy</th>\n",
       "      <th>Notes</th>\n",
       "    </tr>\n",
       "  </thead>\n",
       "  <tbody>\n",
       "    <tr>\n",
       "      <th>0</th>\n",
       "      <td>Pipeline(steps=[('cols',\\n                 Col...</td>\n",
       "      <td>12</td>\n",
       "      <td>Index(['Subject Age (Est)', 'Officer Age', 'We...</td>\n",
       "      <td>0.493735</td>\n",
       "      <td>0.56757</td>\n",
       "      <td>grid-based decision tree</td>\n",
       "    </tr>\n",
       "  </tbody>\n",
       "</table>\n",
       "</div>"
      ],
      "text/plain": [
       "                                               Model n_features  \\\n",
       "0  Pipeline(steps=[('cols',\\n                 Col...         12   \n",
       "\n",
       "                                            Features  F1 Score  Accuracy  \\\n",
       "0  Index(['Subject Age (Est)', 'Officer Age', 'We...  0.493735   0.56757   \n",
       "\n",
       "                      Notes  \n",
       "0  grid-based decision tree  "
      ]
     },
     "metadata": {},
     "output_type": "display_data"
    }
   ],
   "source": [
    "cv = KFold(N_SPLITS, shuffle=True, random_state=RANDOM_STATE)\n",
    "string_selector = make_column_selector(dtype_include='object')\n",
    "number_selector = make_column_selector(dtype_exclude=['object'])\n",
    "col_transformer = make_column_transformer((OneHotEncoder(drop='first', sparse=False), string_selector), \n",
    "                                          (StandardScaler(), number_selector), n_jobs=JOBS)\n",
    "\n",
    "model = DecisionTreeClassifier(random_state=RANDOM_STATE)\n",
    "\n",
    "pipe = Pipeline([('cols', col_transformer),\n",
    "                 ('smote', SMOTE(random_state = RANDOM_STATE, n_jobs=JOBS)),\n",
    "                 ('model', model)])\n",
    "\n",
    "param_grid = {'model__max_depth': [2, 6, 10], \n",
    "              'model__criterion': ['gini', 'entropy'],\n",
    "              'model__min_samples_split': [5, 10],\n",
    "              'model__min_samples_leaf': [5, 10]} \n",
    "\n",
    "search = GridSearchCV(pipe, param_grid, cv=cv, n_jobs=JOBS)\n",
    "search.fit(X, y)\n",
    "model_history.add_model(search.best_estimator_, X, y, display_results=True, notes='grid-based decision tree')"
   ]
  },
  {
   "cell_type": "code",
   "execution_count": 41,
   "id": "76a3a0e3",
   "metadata": {},
   "outputs": [
    {
     "ename": "NotFittedError",
     "evalue": "This Pipeline instance is not fitted yet. Call 'fit' with appropriate arguments before using this estimator.",
     "output_type": "error",
     "traceback": [
      "\u001b[1;31m---------------------------------------------------------------------------\u001b[0m",
      "\u001b[1;31mNotFittedError\u001b[0m                            Traceback (most recent call last)",
      "\u001b[1;32m<ipython-input-41-97fe1c03b431>\u001b[0m in \u001b[0;36m<module>\u001b[1;34m\u001b[0m\n\u001b[0;32m      2\u001b[0m \u001b[1;32mfrom\u001b[0m \u001b[0msklearn\u001b[0m\u001b[1;33m.\u001b[0m\u001b[0mtree\u001b[0m \u001b[1;32mimport\u001b[0m \u001b[0mplot_tree\u001b[0m\u001b[1;33m\u001b[0m\u001b[1;33m\u001b[0m\u001b[0m\n\u001b[0;32m      3\u001b[0m \u001b[1;33m\u001b[0m\u001b[0m\n\u001b[1;32m----> 4\u001b[1;33m plot_tree(search.best_estimator_, \n\u001b[0m\u001b[0;32m      5\u001b[0m           \u001b[0mfeature_names\u001b[0m \u001b[1;33m=\u001b[0m \u001b[0mX\u001b[0m\u001b[1;33m.\u001b[0m\u001b[0mcolumns\u001b[0m\u001b[1;33m,\u001b[0m\u001b[1;33m\u001b[0m\u001b[1;33m\u001b[0m\u001b[0m\n\u001b[0;32m      6\u001b[0m           \u001b[0mclass_names\u001b[0m\u001b[1;33m=\u001b[0m\u001b[0mnp\u001b[0m\u001b[1;33m.\u001b[0m\u001b[0munique\u001b[0m\u001b[1;33m(\u001b[0m\u001b[0my\u001b[0m\u001b[1;33m)\u001b[0m\u001b[1;33m.\u001b[0m\u001b[0mastype\u001b[0m\u001b[1;33m(\u001b[0m\u001b[1;34m'str'\u001b[0m\u001b[1;33m)\u001b[0m\u001b[1;33m,\u001b[0m\u001b[1;33m\u001b[0m\u001b[1;33m\u001b[0m\u001b[0m\n",
      "\u001b[1;32m~\\anaconda3\\lib\\site-packages\\sklearn\\utils\\validation.py\u001b[0m in \u001b[0;36minner_f\u001b[1;34m(*args, **kwargs)\u001b[0m\n\u001b[0;32m     61\u001b[0m             \u001b[0mextra_args\u001b[0m \u001b[1;33m=\u001b[0m \u001b[0mlen\u001b[0m\u001b[1;33m(\u001b[0m\u001b[0margs\u001b[0m\u001b[1;33m)\u001b[0m \u001b[1;33m-\u001b[0m \u001b[0mlen\u001b[0m\u001b[1;33m(\u001b[0m\u001b[0mall_args\u001b[0m\u001b[1;33m)\u001b[0m\u001b[1;33m\u001b[0m\u001b[1;33m\u001b[0m\u001b[0m\n\u001b[0;32m     62\u001b[0m             \u001b[1;32mif\u001b[0m \u001b[0mextra_args\u001b[0m \u001b[1;33m<=\u001b[0m \u001b[1;36m0\u001b[0m\u001b[1;33m:\u001b[0m\u001b[1;33m\u001b[0m\u001b[1;33m\u001b[0m\u001b[0m\n\u001b[1;32m---> 63\u001b[1;33m                 \u001b[1;32mreturn\u001b[0m \u001b[0mf\u001b[0m\u001b[1;33m(\u001b[0m\u001b[1;33m*\u001b[0m\u001b[0margs\u001b[0m\u001b[1;33m,\u001b[0m \u001b[1;33m**\u001b[0m\u001b[0mkwargs\u001b[0m\u001b[1;33m)\u001b[0m\u001b[1;33m\u001b[0m\u001b[1;33m\u001b[0m\u001b[0m\n\u001b[0m\u001b[0;32m     64\u001b[0m \u001b[1;33m\u001b[0m\u001b[0m\n\u001b[0;32m     65\u001b[0m             \u001b[1;31m# extra_args > 0\u001b[0m\u001b[1;33m\u001b[0m\u001b[1;33m\u001b[0m\u001b[1;33m\u001b[0m\u001b[0m\n",
      "\u001b[1;32m~\\anaconda3\\lib\\site-packages\\sklearn\\tree\\_export.py\u001b[0m in \u001b[0;36mplot_tree\u001b[1;34m(decision_tree, max_depth, feature_names, class_names, label, filled, impurity, node_ids, proportion, rotate, rounded, precision, ax, fontsize)\u001b[0m\n\u001b[0;32m    179\u001b[0m     \"\"\"\n\u001b[0;32m    180\u001b[0m \u001b[1;33m\u001b[0m\u001b[0m\n\u001b[1;32m--> 181\u001b[1;33m     \u001b[0mcheck_is_fitted\u001b[0m\u001b[1;33m(\u001b[0m\u001b[0mdecision_tree\u001b[0m\u001b[1;33m)\u001b[0m\u001b[1;33m\u001b[0m\u001b[1;33m\u001b[0m\u001b[0m\n\u001b[0m\u001b[0;32m    182\u001b[0m \u001b[1;33m\u001b[0m\u001b[0m\n\u001b[0;32m    183\u001b[0m     \u001b[1;32mif\u001b[0m \u001b[0mrotate\u001b[0m \u001b[1;33m!=\u001b[0m \u001b[1;34m'deprecated'\u001b[0m\u001b[1;33m:\u001b[0m\u001b[1;33m\u001b[0m\u001b[1;33m\u001b[0m\u001b[0m\n",
      "\u001b[1;32m~\\anaconda3\\lib\\site-packages\\sklearn\\utils\\validation.py\u001b[0m in \u001b[0;36minner_f\u001b[1;34m(*args, **kwargs)\u001b[0m\n\u001b[0;32m     61\u001b[0m             \u001b[0mextra_args\u001b[0m \u001b[1;33m=\u001b[0m \u001b[0mlen\u001b[0m\u001b[1;33m(\u001b[0m\u001b[0margs\u001b[0m\u001b[1;33m)\u001b[0m \u001b[1;33m-\u001b[0m \u001b[0mlen\u001b[0m\u001b[1;33m(\u001b[0m\u001b[0mall_args\u001b[0m\u001b[1;33m)\u001b[0m\u001b[1;33m\u001b[0m\u001b[1;33m\u001b[0m\u001b[0m\n\u001b[0;32m     62\u001b[0m             \u001b[1;32mif\u001b[0m \u001b[0mextra_args\u001b[0m \u001b[1;33m<=\u001b[0m \u001b[1;36m0\u001b[0m\u001b[1;33m:\u001b[0m\u001b[1;33m\u001b[0m\u001b[1;33m\u001b[0m\u001b[0m\n\u001b[1;32m---> 63\u001b[1;33m                 \u001b[1;32mreturn\u001b[0m \u001b[0mf\u001b[0m\u001b[1;33m(\u001b[0m\u001b[1;33m*\u001b[0m\u001b[0margs\u001b[0m\u001b[1;33m,\u001b[0m \u001b[1;33m**\u001b[0m\u001b[0mkwargs\u001b[0m\u001b[1;33m)\u001b[0m\u001b[1;33m\u001b[0m\u001b[1;33m\u001b[0m\u001b[0m\n\u001b[0m\u001b[0;32m     64\u001b[0m \u001b[1;33m\u001b[0m\u001b[0m\n\u001b[0;32m     65\u001b[0m             \u001b[1;31m# extra_args > 0\u001b[0m\u001b[1;33m\u001b[0m\u001b[1;33m\u001b[0m\u001b[1;33m\u001b[0m\u001b[0m\n",
      "\u001b[1;32m~\\anaconda3\\lib\\site-packages\\sklearn\\utils\\validation.py\u001b[0m in \u001b[0;36mcheck_is_fitted\u001b[1;34m(estimator, attributes, msg, all_or_any)\u001b[0m\n\u001b[0;32m   1039\u001b[0m \u001b[1;33m\u001b[0m\u001b[0m\n\u001b[0;32m   1040\u001b[0m     \u001b[1;32mif\u001b[0m \u001b[1;32mnot\u001b[0m \u001b[0mattrs\u001b[0m\u001b[1;33m:\u001b[0m\u001b[1;33m\u001b[0m\u001b[1;33m\u001b[0m\u001b[0m\n\u001b[1;32m-> 1041\u001b[1;33m         \u001b[1;32mraise\u001b[0m \u001b[0mNotFittedError\u001b[0m\u001b[1;33m(\u001b[0m\u001b[0mmsg\u001b[0m \u001b[1;33m%\u001b[0m \u001b[1;33m{\u001b[0m\u001b[1;34m'name'\u001b[0m\u001b[1;33m:\u001b[0m \u001b[0mtype\u001b[0m\u001b[1;33m(\u001b[0m\u001b[0mestimator\u001b[0m\u001b[1;33m)\u001b[0m\u001b[1;33m.\u001b[0m\u001b[0m__name__\u001b[0m\u001b[1;33m}\u001b[0m\u001b[1;33m)\u001b[0m\u001b[1;33m\u001b[0m\u001b[1;33m\u001b[0m\u001b[0m\n\u001b[0m\u001b[0;32m   1042\u001b[0m \u001b[1;33m\u001b[0m\u001b[0m\n\u001b[0;32m   1043\u001b[0m \u001b[1;33m\u001b[0m\u001b[0m\n",
      "\u001b[1;31mNotFittedError\u001b[0m: This Pipeline instance is not fitted yet. Call 'fit' with appropriate arguments before using this estimator."
     ]
    }
   ],
   "source": [
    "# # --- PLOT TREE\n",
    "# from sklearn.tree import plot_tree\n",
    "\n",
    "# plot_tree(search.best_estimator_, \n",
    "#           feature_names = X.columns, \n",
    "#           class_names=np.unique(y).astype('str'),\n",
    "#           filled=True, rounded=True)"
   ]
  },
  {
   "cell_type": "code",
   "execution_count": 38,
   "id": "3d98ac94",
   "metadata": {},
   "outputs": [
    {
     "data": {
      "application/vnd.plotly.v1+json": {
       "config": {
        "plotlyServerURL": "https://plot.ly"
       },
       "data": [
        {
         "alignmentgroup": "True",
         "hovertemplate": "value=%{x}<br>feature=%{y}<br>text=%{text}<extra></extra>",
         "legendgroup": "",
         "marker": {
          "color": "#636efa"
         },
         "name": "",
         "offsetgroup": "",
         "orientation": "h",
         "showlegend": false,
         "text": [
          0,
          0,
          0.2,
          0.3,
          0.3,
          0.4,
          0.4,
          0.4,
          0.5,
          0.6,
          0.8,
          1.2,
          1.7,
          1.9,
          2.6,
          2.7,
          4.5,
          5.6,
          6.4,
          21.8,
          23.4,
          26.8,
          48.3,
          50.1,
          100
         ],
         "textposition": "auto",
         "type": "bar",
         "x": [
          0,
          0,
          0.23912060352320985,
          0.2600410105659211,
          0.30185529734748756,
          0.3554362888738337,
          0.3775875359424606,
          0.39265104445265536,
          0.5326390197194595,
          0.5923976481049908,
          0.8303181141748457,
          1.169745387113466,
          1.7164851181742575,
          1.8593789105330414,
          2.5921107136204227,
          2.7470814926983715,
          4.519089391090099,
          5.628142526828272,
          6.395178498295169,
          21.840314004741863,
          23.444922959589515,
          26.760439936206502,
          48.297335576542075,
          50.05580297444878,
          100
         ],
         "xaxis": "x",
         "y": [
          "25. Officer Race_Asian",
          "24. Weapon Type_Other",
          "23. Same Race (Y/N)",
          "22. Precinct_Southwest",
          "21. Officer Race_Hispanic or Latino",
          "20. Officer Race_Nat Hawaiian/Oth Pac Islander",
          "19.  Precinct_North",
          "18. Same Gender (Y/N)",
          "17. Officer Gender_Male",
          "16. Subject Perceived Race_Multi-Racial",
          "15. Officer Race_White",
          "14. Subject Perceived Race_White",
          "13.  Precinct_South",
          "12. Subject Perceived Race_Hispanic",
          "11. Repeat Offender (Y/N)",
          "10. Officer Race_Black or African American",
          "9. Weapon Type_Firearm",
          "8. Subject Perceived Race_Black or African American",
          "7. Subject Age (Est)",
          "6. Weapon Type_Knife",
          "5. Weapon Type_None",
          "4.     Officer Age",
          "3.    Weapon (Y/N)",
          "2.   Precinct_West",
          "1. Precinct_Not provided"
         ],
         "yaxis": "y"
        }
       ],
       "layout": {
        "barmode": "relative",
        "height": 625,
        "legend": {
         "tracegroupgap": 0
        },
        "margin": {
         "t": 60
        },
        "showlegend": false,
        "template": {
         "data": {
          "bar": [
           {
            "error_x": {
             "color": "#2a3f5f"
            },
            "error_y": {
             "color": "#2a3f5f"
            },
            "marker": {
             "line": {
              "color": "#E5ECF6",
              "width": 0.5
             }
            },
            "type": "bar"
           }
          ],
          "barpolar": [
           {
            "marker": {
             "line": {
              "color": "#E5ECF6",
              "width": 0.5
             }
            },
            "type": "barpolar"
           }
          ],
          "carpet": [
           {
            "aaxis": {
             "endlinecolor": "#2a3f5f",
             "gridcolor": "white",
             "linecolor": "white",
             "minorgridcolor": "white",
             "startlinecolor": "#2a3f5f"
            },
            "baxis": {
             "endlinecolor": "#2a3f5f",
             "gridcolor": "white",
             "linecolor": "white",
             "minorgridcolor": "white",
             "startlinecolor": "#2a3f5f"
            },
            "type": "carpet"
           }
          ],
          "choropleth": [
           {
            "colorbar": {
             "outlinewidth": 0,
             "ticks": ""
            },
            "type": "choropleth"
           }
          ],
          "contour": [
           {
            "colorbar": {
             "outlinewidth": 0,
             "ticks": ""
            },
            "colorscale": [
             [
              0,
              "#0d0887"
             ],
             [
              0.1111111111111111,
              "#46039f"
             ],
             [
              0.2222222222222222,
              "#7201a8"
             ],
             [
              0.3333333333333333,
              "#9c179e"
             ],
             [
              0.4444444444444444,
              "#bd3786"
             ],
             [
              0.5555555555555556,
              "#d8576b"
             ],
             [
              0.6666666666666666,
              "#ed7953"
             ],
             [
              0.7777777777777778,
              "#fb9f3a"
             ],
             [
              0.8888888888888888,
              "#fdca26"
             ],
             [
              1,
              "#f0f921"
             ]
            ],
            "type": "contour"
           }
          ],
          "contourcarpet": [
           {
            "colorbar": {
             "outlinewidth": 0,
             "ticks": ""
            },
            "type": "contourcarpet"
           }
          ],
          "heatmap": [
           {
            "colorbar": {
             "outlinewidth": 0,
             "ticks": ""
            },
            "colorscale": [
             [
              0,
              "#0d0887"
             ],
             [
              0.1111111111111111,
              "#46039f"
             ],
             [
              0.2222222222222222,
              "#7201a8"
             ],
             [
              0.3333333333333333,
              "#9c179e"
             ],
             [
              0.4444444444444444,
              "#bd3786"
             ],
             [
              0.5555555555555556,
              "#d8576b"
             ],
             [
              0.6666666666666666,
              "#ed7953"
             ],
             [
              0.7777777777777778,
              "#fb9f3a"
             ],
             [
              0.8888888888888888,
              "#fdca26"
             ],
             [
              1,
              "#f0f921"
             ]
            ],
            "type": "heatmap"
           }
          ],
          "heatmapgl": [
           {
            "colorbar": {
             "outlinewidth": 0,
             "ticks": ""
            },
            "colorscale": [
             [
              0,
              "#0d0887"
             ],
             [
              0.1111111111111111,
              "#46039f"
             ],
             [
              0.2222222222222222,
              "#7201a8"
             ],
             [
              0.3333333333333333,
              "#9c179e"
             ],
             [
              0.4444444444444444,
              "#bd3786"
             ],
             [
              0.5555555555555556,
              "#d8576b"
             ],
             [
              0.6666666666666666,
              "#ed7953"
             ],
             [
              0.7777777777777778,
              "#fb9f3a"
             ],
             [
              0.8888888888888888,
              "#fdca26"
             ],
             [
              1,
              "#f0f921"
             ]
            ],
            "type": "heatmapgl"
           }
          ],
          "histogram": [
           {
            "marker": {
             "colorbar": {
              "outlinewidth": 0,
              "ticks": ""
             }
            },
            "type": "histogram"
           }
          ],
          "histogram2d": [
           {
            "colorbar": {
             "outlinewidth": 0,
             "ticks": ""
            },
            "colorscale": [
             [
              0,
              "#0d0887"
             ],
             [
              0.1111111111111111,
              "#46039f"
             ],
             [
              0.2222222222222222,
              "#7201a8"
             ],
             [
              0.3333333333333333,
              "#9c179e"
             ],
             [
              0.4444444444444444,
              "#bd3786"
             ],
             [
              0.5555555555555556,
              "#d8576b"
             ],
             [
              0.6666666666666666,
              "#ed7953"
             ],
             [
              0.7777777777777778,
              "#fb9f3a"
             ],
             [
              0.8888888888888888,
              "#fdca26"
             ],
             [
              1,
              "#f0f921"
             ]
            ],
            "type": "histogram2d"
           }
          ],
          "histogram2dcontour": [
           {
            "colorbar": {
             "outlinewidth": 0,
             "ticks": ""
            },
            "colorscale": [
             [
              0,
              "#0d0887"
             ],
             [
              0.1111111111111111,
              "#46039f"
             ],
             [
              0.2222222222222222,
              "#7201a8"
             ],
             [
              0.3333333333333333,
              "#9c179e"
             ],
             [
              0.4444444444444444,
              "#bd3786"
             ],
             [
              0.5555555555555556,
              "#d8576b"
             ],
             [
              0.6666666666666666,
              "#ed7953"
             ],
             [
              0.7777777777777778,
              "#fb9f3a"
             ],
             [
              0.8888888888888888,
              "#fdca26"
             ],
             [
              1,
              "#f0f921"
             ]
            ],
            "type": "histogram2dcontour"
           }
          ],
          "mesh3d": [
           {
            "colorbar": {
             "outlinewidth": 0,
             "ticks": ""
            },
            "type": "mesh3d"
           }
          ],
          "parcoords": [
           {
            "line": {
             "colorbar": {
              "outlinewidth": 0,
              "ticks": ""
             }
            },
            "type": "parcoords"
           }
          ],
          "pie": [
           {
            "automargin": true,
            "type": "pie"
           }
          ],
          "scatter": [
           {
            "marker": {
             "colorbar": {
              "outlinewidth": 0,
              "ticks": ""
             }
            },
            "type": "scatter"
           }
          ],
          "scatter3d": [
           {
            "line": {
             "colorbar": {
              "outlinewidth": 0,
              "ticks": ""
             }
            },
            "marker": {
             "colorbar": {
              "outlinewidth": 0,
              "ticks": ""
             }
            },
            "type": "scatter3d"
           }
          ],
          "scattercarpet": [
           {
            "marker": {
             "colorbar": {
              "outlinewidth": 0,
              "ticks": ""
             }
            },
            "type": "scattercarpet"
           }
          ],
          "scattergeo": [
           {
            "marker": {
             "colorbar": {
              "outlinewidth": 0,
              "ticks": ""
             }
            },
            "type": "scattergeo"
           }
          ],
          "scattergl": [
           {
            "marker": {
             "colorbar": {
              "outlinewidth": 0,
              "ticks": ""
             }
            },
            "type": "scattergl"
           }
          ],
          "scattermapbox": [
           {
            "marker": {
             "colorbar": {
              "outlinewidth": 0,
              "ticks": ""
             }
            },
            "type": "scattermapbox"
           }
          ],
          "scatterpolar": [
           {
            "marker": {
             "colorbar": {
              "outlinewidth": 0,
              "ticks": ""
             }
            },
            "type": "scatterpolar"
           }
          ],
          "scatterpolargl": [
           {
            "marker": {
             "colorbar": {
              "outlinewidth": 0,
              "ticks": ""
             }
            },
            "type": "scatterpolargl"
           }
          ],
          "scatterternary": [
           {
            "marker": {
             "colorbar": {
              "outlinewidth": 0,
              "ticks": ""
             }
            },
            "type": "scatterternary"
           }
          ],
          "surface": [
           {
            "colorbar": {
             "outlinewidth": 0,
             "ticks": ""
            },
            "colorscale": [
             [
              0,
              "#0d0887"
             ],
             [
              0.1111111111111111,
              "#46039f"
             ],
             [
              0.2222222222222222,
              "#7201a8"
             ],
             [
              0.3333333333333333,
              "#9c179e"
             ],
             [
              0.4444444444444444,
              "#bd3786"
             ],
             [
              0.5555555555555556,
              "#d8576b"
             ],
             [
              0.6666666666666666,
              "#ed7953"
             ],
             [
              0.7777777777777778,
              "#fb9f3a"
             ],
             [
              0.8888888888888888,
              "#fdca26"
             ],
             [
              1,
              "#f0f921"
             ]
            ],
            "type": "surface"
           }
          ],
          "table": [
           {
            "cells": {
             "fill": {
              "color": "#EBF0F8"
             },
             "line": {
              "color": "white"
             }
            },
            "header": {
             "fill": {
              "color": "#C8D4E3"
             },
             "line": {
              "color": "white"
             }
            },
            "type": "table"
           }
          ]
         },
         "layout": {
          "annotationdefaults": {
           "arrowcolor": "#2a3f5f",
           "arrowhead": 0,
           "arrowwidth": 1
          },
          "autotypenumbers": "strict",
          "coloraxis": {
           "colorbar": {
            "outlinewidth": 0,
            "ticks": ""
           }
          },
          "colorscale": {
           "diverging": [
            [
             0,
             "#8e0152"
            ],
            [
             0.1,
             "#c51b7d"
            ],
            [
             0.2,
             "#de77ae"
            ],
            [
             0.3,
             "#f1b6da"
            ],
            [
             0.4,
             "#fde0ef"
            ],
            [
             0.5,
             "#f7f7f7"
            ],
            [
             0.6,
             "#e6f5d0"
            ],
            [
             0.7,
             "#b8e186"
            ],
            [
             0.8,
             "#7fbc41"
            ],
            [
             0.9,
             "#4d9221"
            ],
            [
             1,
             "#276419"
            ]
           ],
           "sequential": [
            [
             0,
             "#0d0887"
            ],
            [
             0.1111111111111111,
             "#46039f"
            ],
            [
             0.2222222222222222,
             "#7201a8"
            ],
            [
             0.3333333333333333,
             "#9c179e"
            ],
            [
             0.4444444444444444,
             "#bd3786"
            ],
            [
             0.5555555555555556,
             "#d8576b"
            ],
            [
             0.6666666666666666,
             "#ed7953"
            ],
            [
             0.7777777777777778,
             "#fb9f3a"
            ],
            [
             0.8888888888888888,
             "#fdca26"
            ],
            [
             1,
             "#f0f921"
            ]
           ],
           "sequentialminus": [
            [
             0,
             "#0d0887"
            ],
            [
             0.1111111111111111,
             "#46039f"
            ],
            [
             0.2222222222222222,
             "#7201a8"
            ],
            [
             0.3333333333333333,
             "#9c179e"
            ],
            [
             0.4444444444444444,
             "#bd3786"
            ],
            [
             0.5555555555555556,
             "#d8576b"
            ],
            [
             0.6666666666666666,
             "#ed7953"
            ],
            [
             0.7777777777777778,
             "#fb9f3a"
            ],
            [
             0.8888888888888888,
             "#fdca26"
            ],
            [
             1,
             "#f0f921"
            ]
           ]
          },
          "colorway": [
           "#636efa",
           "#EF553B",
           "#00cc96",
           "#ab63fa",
           "#FFA15A",
           "#19d3f3",
           "#FF6692",
           "#B6E880",
           "#FF97FF",
           "#FECB52"
          ],
          "font": {
           "color": "#2a3f5f"
          },
          "geo": {
           "bgcolor": "white",
           "lakecolor": "white",
           "landcolor": "#E5ECF6",
           "showlakes": true,
           "showland": true,
           "subunitcolor": "white"
          },
          "hoverlabel": {
           "align": "left"
          },
          "hovermode": "closest",
          "mapbox": {
           "style": "light"
          },
          "paper_bgcolor": "white",
          "plot_bgcolor": "#E5ECF6",
          "polar": {
           "angularaxis": {
            "gridcolor": "white",
            "linecolor": "white",
            "ticks": ""
           },
           "bgcolor": "#E5ECF6",
           "radialaxis": {
            "gridcolor": "white",
            "linecolor": "white",
            "ticks": ""
           }
          },
          "scene": {
           "xaxis": {
            "backgroundcolor": "#E5ECF6",
            "gridcolor": "white",
            "gridwidth": 2,
            "linecolor": "white",
            "showbackground": true,
            "ticks": "",
            "zerolinecolor": "white"
           },
           "yaxis": {
            "backgroundcolor": "#E5ECF6",
            "gridcolor": "white",
            "gridwidth": 2,
            "linecolor": "white",
            "showbackground": true,
            "ticks": "",
            "zerolinecolor": "white"
           },
           "zaxis": {
            "backgroundcolor": "#E5ECF6",
            "gridcolor": "white",
            "gridwidth": 2,
            "linecolor": "white",
            "showbackground": true,
            "ticks": "",
            "zerolinecolor": "white"
           }
          },
          "shapedefaults": {
           "line": {
            "color": "#2a3f5f"
           }
          },
          "ternary": {
           "aaxis": {
            "gridcolor": "white",
            "linecolor": "white",
            "ticks": ""
           },
           "baxis": {
            "gridcolor": "white",
            "linecolor": "white",
            "ticks": ""
           },
           "bgcolor": "#E5ECF6",
           "caxis": {
            "gridcolor": "white",
            "linecolor": "white",
            "ticks": ""
           }
          },
          "title": {
           "x": 0.05
          },
          "xaxis": {
           "automargin": true,
           "gridcolor": "white",
           "linecolor": "white",
           "ticks": "",
           "title": {
            "standoff": 15
           },
           "zerolinecolor": "white",
           "zerolinewidth": 2
          },
          "yaxis": {
           "automargin": true,
           "gridcolor": "white",
           "linecolor": "white",
           "ticks": "",
           "title": {
            "standoff": 15
           },
           "zerolinecolor": "white",
           "zerolinewidth": 2
          }
         }
        },
        "title": {
         "text": "Top 25 (of 30) Feature Importances",
         "x": 0.5
        },
        "width": 750,
        "xaxis": {
         "anchor": "y",
         "domain": [
          0,
          1
         ],
         "title": {
          "text": "value"
         }
        },
        "yaxis": {
         "anchor": "x",
         "domain": [
          0,
          1
         ],
         "tickfont": {
          "family": "Courier New",
          "size": 15
         },
         "title": {
          "text": ""
         }
        }
       }
      },
      "text/html": [
       "<div>                            <div id=\"6cb62c5b-11b3-43c3-9403-8bc29e360af8\" class=\"plotly-graph-div\" style=\"height:625px; width:750px;\"></div>            <script type=\"text/javascript\">                require([\"plotly\"], function(Plotly) {                    window.PLOTLYENV=window.PLOTLYENV || {};                                    if (document.getElementById(\"6cb62c5b-11b3-43c3-9403-8bc29e360af8\")) {                    Plotly.newPlot(                        \"6cb62c5b-11b3-43c3-9403-8bc29e360af8\",                        [{\"alignmentgroup\": \"True\", \"hovertemplate\": \"value=%{x}<br>feature=%{y}<br>text=%{text}<extra></extra>\", \"legendgroup\": \"\", \"marker\": {\"color\": \"#636efa\"}, \"name\": \"\", \"offsetgroup\": \"\", \"orientation\": \"h\", \"showlegend\": false, \"text\": [0.0, 0.0, 0.2, 0.3, 0.3, 0.4, 0.4, 0.4, 0.5, 0.6, 0.8, 1.2, 1.7, 1.9, 2.6, 2.7, 4.5, 5.6, 6.4, 21.8, 23.4, 26.8, 48.3, 50.1, 100.0], \"textposition\": \"auto\", \"type\": \"bar\", \"x\": [0.0, 0.0, 0.23912060352320985, 0.2600410105659211, 0.30185529734748756, 0.3554362888738337, 0.3775875359424606, 0.39265104445265536, 0.5326390197194595, 0.5923976481049908, 0.8303181141748457, 1.169745387113466, 1.7164851181742575, 1.8593789105330414, 2.5921107136204227, 2.7470814926983715, 4.519089391090099, 5.628142526828272, 6.395178498295169, 21.840314004741863, 23.444922959589515, 26.760439936206502, 48.297335576542075, 50.05580297444878, 100.0], \"xaxis\": \"x\", \"y\": [\"25. Officer Race_Asian\", \"24. Weapon Type_Other\", \"23. Same Race (Y/N)\", \"22. Precinct_Southwest\", \"21. Officer Race_Hispanic or Latino\", \"20. Officer Race_Nat Hawaiian/Oth Pac Islander\", \"19.  Precinct_North\", \"18. Same Gender (Y/N)\", \"17. Officer Gender_Male\", \"16. Subject Perceived Race_Multi-Racial\", \"15. Officer Race_White\", \"14. Subject Perceived Race_White\", \"13.  Precinct_South\", \"12. Subject Perceived Race_Hispanic\", \"11. Repeat Offender (Y/N)\", \"10. Officer Race_Black or African American\", \"9. Weapon Type_Firearm\", \"8. Subject Perceived Race_Black or African American\", \"7. Subject Age (Est)\", \"6. Weapon Type_Knife\", \"5. Weapon Type_None\", \"4.     Officer Age\", \"3.    Weapon (Y/N)\", \"2.   Precinct_West\", \"1. Precinct_Not provided\"], \"yaxis\": \"y\"}],                        {\"barmode\": \"relative\", \"height\": 625, \"legend\": {\"tracegroupgap\": 0}, \"margin\": {\"t\": 60}, \"showlegend\": false, \"template\": {\"data\": {\"bar\": [{\"error_x\": {\"color\": \"#2a3f5f\"}, \"error_y\": {\"color\": \"#2a3f5f\"}, \"marker\": {\"line\": {\"color\": \"#E5ECF6\", \"width\": 0.5}}, \"type\": \"bar\"}], \"barpolar\": [{\"marker\": {\"line\": {\"color\": \"#E5ECF6\", \"width\": 0.5}}, \"type\": \"barpolar\"}], \"carpet\": [{\"aaxis\": {\"endlinecolor\": \"#2a3f5f\", \"gridcolor\": \"white\", \"linecolor\": \"white\", \"minorgridcolor\": \"white\", \"startlinecolor\": \"#2a3f5f\"}, \"baxis\": {\"endlinecolor\": \"#2a3f5f\", \"gridcolor\": \"white\", \"linecolor\": \"white\", \"minorgridcolor\": \"white\", \"startlinecolor\": \"#2a3f5f\"}, \"type\": \"carpet\"}], \"choropleth\": [{\"colorbar\": {\"outlinewidth\": 0, \"ticks\": \"\"}, \"type\": \"choropleth\"}], \"contour\": [{\"colorbar\": {\"outlinewidth\": 0, \"ticks\": \"\"}, \"colorscale\": [[0.0, \"#0d0887\"], [0.1111111111111111, \"#46039f\"], [0.2222222222222222, \"#7201a8\"], [0.3333333333333333, \"#9c179e\"], [0.4444444444444444, \"#bd3786\"], [0.5555555555555556, \"#d8576b\"], [0.6666666666666666, \"#ed7953\"], [0.7777777777777778, \"#fb9f3a\"], [0.8888888888888888, \"#fdca26\"], [1.0, \"#f0f921\"]], \"type\": \"contour\"}], \"contourcarpet\": [{\"colorbar\": {\"outlinewidth\": 0, \"ticks\": \"\"}, \"type\": \"contourcarpet\"}], \"heatmap\": [{\"colorbar\": {\"outlinewidth\": 0, \"ticks\": \"\"}, \"colorscale\": [[0.0, \"#0d0887\"], [0.1111111111111111, \"#46039f\"], [0.2222222222222222, \"#7201a8\"], [0.3333333333333333, \"#9c179e\"], [0.4444444444444444, \"#bd3786\"], [0.5555555555555556, \"#d8576b\"], [0.6666666666666666, \"#ed7953\"], [0.7777777777777778, \"#fb9f3a\"], [0.8888888888888888, \"#fdca26\"], [1.0, \"#f0f921\"]], \"type\": \"heatmap\"}], \"heatmapgl\": [{\"colorbar\": {\"outlinewidth\": 0, \"ticks\": \"\"}, \"colorscale\": [[0.0, \"#0d0887\"], [0.1111111111111111, \"#46039f\"], [0.2222222222222222, \"#7201a8\"], [0.3333333333333333, \"#9c179e\"], [0.4444444444444444, \"#bd3786\"], [0.5555555555555556, \"#d8576b\"], [0.6666666666666666, \"#ed7953\"], [0.7777777777777778, \"#fb9f3a\"], [0.8888888888888888, \"#fdca26\"], [1.0, \"#f0f921\"]], \"type\": \"heatmapgl\"}], \"histogram\": [{\"marker\": {\"colorbar\": {\"outlinewidth\": 0, \"ticks\": \"\"}}, \"type\": \"histogram\"}], \"histogram2d\": [{\"colorbar\": {\"outlinewidth\": 0, \"ticks\": \"\"}, \"colorscale\": [[0.0, \"#0d0887\"], [0.1111111111111111, \"#46039f\"], [0.2222222222222222, \"#7201a8\"], [0.3333333333333333, \"#9c179e\"], [0.4444444444444444, \"#bd3786\"], [0.5555555555555556, \"#d8576b\"], [0.6666666666666666, \"#ed7953\"], [0.7777777777777778, \"#fb9f3a\"], [0.8888888888888888, \"#fdca26\"], [1.0, \"#f0f921\"]], \"type\": \"histogram2d\"}], \"histogram2dcontour\": [{\"colorbar\": {\"outlinewidth\": 0, \"ticks\": \"\"}, \"colorscale\": [[0.0, \"#0d0887\"], [0.1111111111111111, \"#46039f\"], [0.2222222222222222, \"#7201a8\"], [0.3333333333333333, \"#9c179e\"], [0.4444444444444444, \"#bd3786\"], [0.5555555555555556, \"#d8576b\"], [0.6666666666666666, \"#ed7953\"], [0.7777777777777778, \"#fb9f3a\"], [0.8888888888888888, \"#fdca26\"], [1.0, \"#f0f921\"]], \"type\": \"histogram2dcontour\"}], \"mesh3d\": [{\"colorbar\": {\"outlinewidth\": 0, \"ticks\": \"\"}, \"type\": \"mesh3d\"}], \"parcoords\": [{\"line\": {\"colorbar\": {\"outlinewidth\": 0, \"ticks\": \"\"}}, \"type\": \"parcoords\"}], \"pie\": [{\"automargin\": true, \"type\": \"pie\"}], \"scatter\": [{\"marker\": {\"colorbar\": {\"outlinewidth\": 0, \"ticks\": \"\"}}, \"type\": \"scatter\"}], \"scatter3d\": [{\"line\": {\"colorbar\": {\"outlinewidth\": 0, \"ticks\": \"\"}}, \"marker\": {\"colorbar\": {\"outlinewidth\": 0, \"ticks\": \"\"}}, \"type\": \"scatter3d\"}], \"scattercarpet\": [{\"marker\": {\"colorbar\": {\"outlinewidth\": 0, \"ticks\": \"\"}}, \"type\": \"scattercarpet\"}], \"scattergeo\": [{\"marker\": {\"colorbar\": {\"outlinewidth\": 0, \"ticks\": \"\"}}, \"type\": \"scattergeo\"}], \"scattergl\": [{\"marker\": {\"colorbar\": {\"outlinewidth\": 0, \"ticks\": \"\"}}, \"type\": \"scattergl\"}], \"scattermapbox\": [{\"marker\": {\"colorbar\": {\"outlinewidth\": 0, \"ticks\": \"\"}}, \"type\": \"scattermapbox\"}], \"scatterpolar\": [{\"marker\": {\"colorbar\": {\"outlinewidth\": 0, \"ticks\": \"\"}}, \"type\": \"scatterpolar\"}], \"scatterpolargl\": [{\"marker\": {\"colorbar\": {\"outlinewidth\": 0, \"ticks\": \"\"}}, \"type\": \"scatterpolargl\"}], \"scatterternary\": [{\"marker\": {\"colorbar\": {\"outlinewidth\": 0, \"ticks\": \"\"}}, \"type\": \"scatterternary\"}], \"surface\": [{\"colorbar\": {\"outlinewidth\": 0, \"ticks\": \"\"}, \"colorscale\": [[0.0, \"#0d0887\"], [0.1111111111111111, \"#46039f\"], [0.2222222222222222, \"#7201a8\"], [0.3333333333333333, \"#9c179e\"], [0.4444444444444444, \"#bd3786\"], [0.5555555555555556, \"#d8576b\"], [0.6666666666666666, \"#ed7953\"], [0.7777777777777778, \"#fb9f3a\"], [0.8888888888888888, \"#fdca26\"], [1.0, \"#f0f921\"]], \"type\": \"surface\"}], \"table\": [{\"cells\": {\"fill\": {\"color\": \"#EBF0F8\"}, \"line\": {\"color\": \"white\"}}, \"header\": {\"fill\": {\"color\": \"#C8D4E3\"}, \"line\": {\"color\": \"white\"}}, \"type\": \"table\"}]}, \"layout\": {\"annotationdefaults\": {\"arrowcolor\": \"#2a3f5f\", \"arrowhead\": 0, \"arrowwidth\": 1}, \"autotypenumbers\": \"strict\", \"coloraxis\": {\"colorbar\": {\"outlinewidth\": 0, \"ticks\": \"\"}}, \"colorscale\": {\"diverging\": [[0, \"#8e0152\"], [0.1, \"#c51b7d\"], [0.2, \"#de77ae\"], [0.3, \"#f1b6da\"], [0.4, \"#fde0ef\"], [0.5, \"#f7f7f7\"], [0.6, \"#e6f5d0\"], [0.7, \"#b8e186\"], [0.8, \"#7fbc41\"], [0.9, \"#4d9221\"], [1, \"#276419\"]], \"sequential\": [[0.0, \"#0d0887\"], [0.1111111111111111, \"#46039f\"], [0.2222222222222222, \"#7201a8\"], [0.3333333333333333, \"#9c179e\"], [0.4444444444444444, \"#bd3786\"], [0.5555555555555556, \"#d8576b\"], [0.6666666666666666, \"#ed7953\"], [0.7777777777777778, \"#fb9f3a\"], [0.8888888888888888, \"#fdca26\"], [1.0, \"#f0f921\"]], \"sequentialminus\": [[0.0, \"#0d0887\"], [0.1111111111111111, \"#46039f\"], [0.2222222222222222, \"#7201a8\"], [0.3333333333333333, \"#9c179e\"], [0.4444444444444444, \"#bd3786\"], [0.5555555555555556, \"#d8576b\"], [0.6666666666666666, \"#ed7953\"], [0.7777777777777778, \"#fb9f3a\"], [0.8888888888888888, \"#fdca26\"], [1.0, \"#f0f921\"]]}, \"colorway\": [\"#636efa\", \"#EF553B\", \"#00cc96\", \"#ab63fa\", \"#FFA15A\", \"#19d3f3\", \"#FF6692\", \"#B6E880\", \"#FF97FF\", \"#FECB52\"], \"font\": {\"color\": \"#2a3f5f\"}, \"geo\": {\"bgcolor\": \"white\", \"lakecolor\": \"white\", \"landcolor\": \"#E5ECF6\", \"showlakes\": true, \"showland\": true, \"subunitcolor\": \"white\"}, \"hoverlabel\": {\"align\": \"left\"}, \"hovermode\": \"closest\", \"mapbox\": {\"style\": \"light\"}, \"paper_bgcolor\": \"white\", \"plot_bgcolor\": \"#E5ECF6\", \"polar\": {\"angularaxis\": {\"gridcolor\": \"white\", \"linecolor\": \"white\", \"ticks\": \"\"}, \"bgcolor\": \"#E5ECF6\", \"radialaxis\": {\"gridcolor\": \"white\", \"linecolor\": \"white\", \"ticks\": \"\"}}, \"scene\": {\"xaxis\": {\"backgroundcolor\": \"#E5ECF6\", \"gridcolor\": \"white\", \"gridwidth\": 2, \"linecolor\": \"white\", \"showbackground\": true, \"ticks\": \"\", \"zerolinecolor\": \"white\"}, \"yaxis\": {\"backgroundcolor\": \"#E5ECF6\", \"gridcolor\": \"white\", \"gridwidth\": 2, \"linecolor\": \"white\", \"showbackground\": true, \"ticks\": \"\", \"zerolinecolor\": \"white\"}, \"zaxis\": {\"backgroundcolor\": \"#E5ECF6\", \"gridcolor\": \"white\", \"gridwidth\": 2, \"linecolor\": \"white\", \"showbackground\": true, \"ticks\": \"\", \"zerolinecolor\": \"white\"}}, \"shapedefaults\": {\"line\": {\"color\": \"#2a3f5f\"}}, \"ternary\": {\"aaxis\": {\"gridcolor\": \"white\", \"linecolor\": \"white\", \"ticks\": \"\"}, \"baxis\": {\"gridcolor\": \"white\", \"linecolor\": \"white\", \"ticks\": \"\"}, \"bgcolor\": \"#E5ECF6\", \"caxis\": {\"gridcolor\": \"white\", \"linecolor\": \"white\", \"ticks\": \"\"}}, \"title\": {\"x\": 0.05}, \"xaxis\": {\"automargin\": true, \"gridcolor\": \"white\", \"linecolor\": \"white\", \"ticks\": \"\", \"title\": {\"standoff\": 15}, \"zerolinecolor\": \"white\", \"zerolinewidth\": 2}, \"yaxis\": {\"automargin\": true, \"gridcolor\": \"white\", \"linecolor\": \"white\", \"ticks\": \"\", \"title\": {\"standoff\": 15}, \"zerolinecolor\": \"white\", \"zerolinewidth\": 2}}}, \"title\": {\"text\": \"Top 25 (of 30) Feature Importances\", \"x\": 0.5}, \"width\": 750, \"xaxis\": {\"anchor\": \"y\", \"domain\": [0.0, 1.0], \"title\": {\"text\": \"value\"}}, \"yaxis\": {\"anchor\": \"x\", \"domain\": [0.0, 1.0], \"tickfont\": {\"family\": \"Courier New\", \"size\": 15}, \"title\": {\"text\": \"\"}}},                        {\"responsive\": true}                    ).then(function(){\n",
       "                            \n",
       "var gd = document.getElementById('6cb62c5b-11b3-43c3-9403-8bc29e360af8');\n",
       "var x = new MutationObserver(function (mutations, observer) {{\n",
       "        var display = window.getComputedStyle(gd).display;\n",
       "        if (!display || display === 'none') {{\n",
       "            console.log([gd, 'removed!']);\n",
       "            Plotly.purge(gd);\n",
       "            observer.disconnect();\n",
       "        }}\n",
       "}});\n",
       "\n",
       "// Listen for the removal of the full notebook cells\n",
       "var notebookContainer = gd.closest('#notebook-container');\n",
       "if (notebookContainer) {{\n",
       "    x.observe(notebookContainer, {childList: true});\n",
       "}}\n",
       "\n",
       "// Listen for the clearing of the current output cell\n",
       "var outputEl = gd.closest('.output');\n",
       "if (outputEl) {{\n",
       "    x.observe(outputEl, {childList: true});\n",
       "}}\n",
       "\n",
       "                        })                };                });            </script>        </div>"
      ]
     },
     "metadata": {},
     "output_type": "display_data"
    }
   ],
   "source": [
    "# # def plot_feature_importances(model, data):\n",
    "# #     n_features = data.shape[1]\n",
    "# #     plt.figure(figsize=(8, 10))\n",
    "# #     plt.barh(range(n_features), model.feature_importances_, align='center')\n",
    "# #     plt.yticks(np.arange(n_features), data.columns.values)\n",
    "# #     plt.xlabel('Feature Importance')\n",
    "# #     plt.ylabel('Feature')\n",
    "\n",
    "# # plot_feature_importances(search.best_estimator_, X)\n",
    "\n",
    "\n",
    "# from sklearn import set_config                      # to change the display\n",
    "# from sklearn.utils import estimator_html_repr       # to save the diagram into HTML format\n",
    "# from IPython.core.display import display, HTML      # to visualize pipeline\n",
    "\n",
    "# #from fit_pipeline_ames import *                     # create & fit pipeine\n",
    "# set_config(display='diagram')\n",
    "# # display(HTML(estimator_html_repr(search.best_estimator_)))\n",
    "\n",
    "# #from feature_importance import FeatureImportance\n",
    "# feature_importance = FeatureImportance(search.best_estimator_)\n",
    "# feature_importance.plot(top_n_features=25)"
   ]
  },
  {
   "cell_type": "markdown",
   "id": "b5b37869",
   "metadata": {},
   "source": [
    "#### Random Forest"
   ]
  },
  {
   "cell_type": "code",
   "execution_count": 33,
   "id": "5a7c60a7",
   "metadata": {},
   "outputs": [
    {
     "data": {
      "text/html": [
       "<div>\n",
       "<style scoped>\n",
       "    .dataframe tbody tr th:only-of-type {\n",
       "        vertical-align: middle;\n",
       "    }\n",
       "\n",
       "    .dataframe tbody tr th {\n",
       "        vertical-align: top;\n",
       "    }\n",
       "\n",
       "    .dataframe thead th {\n",
       "        text-align: right;\n",
       "    }\n",
       "</style>\n",
       "<table border=\"1\" class=\"dataframe\">\n",
       "  <thead>\n",
       "    <tr style=\"text-align: right;\">\n",
       "      <th></th>\n",
       "      <th>Model</th>\n",
       "      <th>n_features</th>\n",
       "      <th>Features</th>\n",
       "      <th>F1 Score</th>\n",
       "      <th>Accuracy</th>\n",
       "      <th>Notes</th>\n",
       "    </tr>\n",
       "  </thead>\n",
       "  <tbody>\n",
       "    <tr>\n",
       "      <th>0</th>\n",
       "      <td>Pipeline(steps=[('cols',\\n                 Col...</td>\n",
       "      <td>12</td>\n",
       "      <td>Index(['Subject Age (Est)', 'Officer Age', 'We...</td>\n",
       "      <td>0.493735</td>\n",
       "      <td>0.567570</td>\n",
       "      <td>grid-based decision tree</td>\n",
       "    </tr>\n",
       "    <tr>\n",
       "      <th>1</th>\n",
       "      <td>Pipeline(steps=[('cols',\\n                 Col...</td>\n",
       "      <td>12</td>\n",
       "      <td>Index(['Subject Age (Est)', 'Officer Age', 'We...</td>\n",
       "      <td>0.482651</td>\n",
       "      <td>0.553526</td>\n",
       "      <td>grid-based RF</td>\n",
       "    </tr>\n",
       "  </tbody>\n",
       "</table>\n",
       "</div>"
      ],
      "text/plain": [
       "                                               Model n_features  \\\n",
       "0  Pipeline(steps=[('cols',\\n                 Col...         12   \n",
       "1  Pipeline(steps=[('cols',\\n                 Col...         12   \n",
       "\n",
       "                                            Features  F1 Score  Accuracy  \\\n",
       "0  Index(['Subject Age (Est)', 'Officer Age', 'We...  0.493735  0.567570   \n",
       "1  Index(['Subject Age (Est)', 'Officer Age', 'We...  0.482651  0.553526   \n",
       "\n",
       "                      Notes  \n",
       "0  grid-based decision tree  \n",
       "1             grid-based RF  "
      ]
     },
     "metadata": {},
     "output_type": "display_data"
    }
   ],
   "source": [
    "cv = KFold(N_SPLITS, shuffle=True, random_state=RANDOM_STATE)\n",
    "string_selector = make_column_selector(dtype_include='object')\n",
    "number_selector = make_column_selector(dtype_exclude=['object'])\n",
    "col_transformer = make_column_transformer((OneHotEncoder(drop='first', sparse=False), string_selector), \n",
    "                                          (StandardScaler(), number_selector), n_jobs=JOBS)\n",
    "\n",
    "# --- ADD GRID SEARCH TO RANDOM FOREST ---\n",
    "param_grid = {\n",
    "    'model__n_estimators': [10, 30],#, 100],\n",
    "    'model__criterion': ['gini', 'entropy'],\n",
    "    'model__max_depth': [2, 6, 10],\n",
    "    'model__min_samples_split': [5, 10],\n",
    "    'model__min_samples_leaf': [3, 6]\n",
    "}\n",
    "\n",
    "model = RandomForestClassifier(random_state=RANDOM_STATE)\n",
    "\n",
    "pipe = Pipeline([('cols', col_transformer),\n",
    "                 ('smote', SMOTE(random_state = RANDOM_STATE, n_jobs=JOBS)),\n",
    "                 ('model', model)])\n",
    "search = GridSearchCV(pipe, param_grid, cv=cv, n_jobs=JOBS)\n",
    "search.fit(X, y)\n",
    "model_history.add_model(search.best_estimator_, X, y, display_results=True, notes='grid-based RF')"
   ]
  },
  {
   "cell_type": "code",
   "execution_count": 35,
   "id": "655bfd96",
   "metadata": {},
   "outputs": [
    {
     "data": {
      "text/plain": [
       "<sklearn.metrics._plot.confusion_matrix.ConfusionMatrixDisplay at 0x20d8edb3250>"
      ]
     },
     "execution_count": 35,
     "metadata": {},
     "output_type": "execute_result"
    },
    {
     "data": {
      "image/png": "[encoded data removed]",
      "text/plain": [
       "<Figure size 432x288 with 2 Axes>"
      ]
     },
     "metadata": {
      "needs_background": "light"
     },
     "output_type": "display_data"
    }
   ],
   "source": [
    "#plot_confusion_matrix(model_grid.best_estimator_, X_resampled, y_resampled)\n",
    "plot_confusion_matrix(search.best_estimator_, X, y)"
   ]
  },
  {
   "cell_type": "code",
   "execution_count": 42,
   "id": "8196ce23",
   "metadata": {},
   "outputs": [
    {
     "ename": "KeyboardInterrupt",
     "evalue": "",
     "output_type": "error",
     "traceback": [
      "\u001b[1;31m---------------------------------------------------------------------------\u001b[0m",
      "\u001b[1;31mKeyboardInterrupt\u001b[0m                         Traceback (most recent call last)",
      "\u001b[1;32m<ipython-input-42-99326668286c>\u001b[0m in \u001b[0;36m<module>\u001b[1;34m\u001b[0m\n\u001b[0;32m     21\u001b[0m                  ('model', model)])\n\u001b[0;32m     22\u001b[0m \u001b[0msearch\u001b[0m \u001b[1;33m=\u001b[0m \u001b[0mGridSearchCV\u001b[0m\u001b[1;33m(\u001b[0m\u001b[0mpipe\u001b[0m\u001b[1;33m,\u001b[0m \u001b[0mparam_grid\u001b[0m\u001b[1;33m,\u001b[0m \u001b[0mcv\u001b[0m\u001b[1;33m=\u001b[0m\u001b[0mcv\u001b[0m\u001b[1;33m,\u001b[0m \u001b[0mn_jobs\u001b[0m\u001b[1;33m=\u001b[0m\u001b[0mJOBS\u001b[0m\u001b[1;33m)\u001b[0m\u001b[1;33m\u001b[0m\u001b[1;33m\u001b[0m\u001b[0m\n\u001b[1;32m---> 23\u001b[1;33m \u001b[0msearch\u001b[0m\u001b[1;33m.\u001b[0m\u001b[0mfit\u001b[0m\u001b[1;33m(\u001b[0m\u001b[0mX\u001b[0m\u001b[1;33m,\u001b[0m \u001b[0my\u001b[0m\u001b[1;33m)\u001b[0m\u001b[1;33m\u001b[0m\u001b[1;33m\u001b[0m\u001b[0m\n\u001b[0m\u001b[0;32m     24\u001b[0m \u001b[0mmodel_history\u001b[0m\u001b[1;33m.\u001b[0m\u001b[0madd_model\u001b[0m\u001b[1;33m(\u001b[0m\u001b[0msearch\u001b[0m\u001b[1;33m.\u001b[0m\u001b[0mbest_estimator_\u001b[0m\u001b[1;33m,\u001b[0m \u001b[0mX\u001b[0m\u001b[1;33m,\u001b[0m \u001b[0my\u001b[0m\u001b[1;33m,\u001b[0m \u001b[0mdisplay_results\u001b[0m\u001b[1;33m=\u001b[0m\u001b[1;32mTrue\u001b[0m\u001b[1;33m,\u001b[0m \u001b[0mnotes\u001b[0m\u001b[1;33m=\u001b[0m\u001b[1;34m'grid-based xgb'\u001b[0m\u001b[1;33m)\u001b[0m\u001b[1;33m\u001b[0m\u001b[1;33m\u001b[0m\u001b[0m\n",
      "\u001b[1;32m~\\anaconda3\\lib\\site-packages\\sklearn\\utils\\validation.py\u001b[0m in \u001b[0;36minner_f\u001b[1;34m(*args, **kwargs)\u001b[0m\n\u001b[0;32m     61\u001b[0m             \u001b[0mextra_args\u001b[0m \u001b[1;33m=\u001b[0m \u001b[0mlen\u001b[0m\u001b[1;33m(\u001b[0m\u001b[0margs\u001b[0m\u001b[1;33m)\u001b[0m \u001b[1;33m-\u001b[0m \u001b[0mlen\u001b[0m\u001b[1;33m(\u001b[0m\u001b[0mall_args\u001b[0m\u001b[1;33m)\u001b[0m\u001b[1;33m\u001b[0m\u001b[1;33m\u001b[0m\u001b[0m\n\u001b[0;32m     62\u001b[0m             \u001b[1;32mif\u001b[0m \u001b[0mextra_args\u001b[0m \u001b[1;33m<=\u001b[0m \u001b[1;36m0\u001b[0m\u001b[1;33m:\u001b[0m\u001b[1;33m\u001b[0m\u001b[1;33m\u001b[0m\u001b[0m\n\u001b[1;32m---> 63\u001b[1;33m                 \u001b[1;32mreturn\u001b[0m \u001b[0mf\u001b[0m\u001b[1;33m(\u001b[0m\u001b[1;33m*\u001b[0m\u001b[0margs\u001b[0m\u001b[1;33m,\u001b[0m \u001b[1;33m**\u001b[0m\u001b[0mkwargs\u001b[0m\u001b[1;33m)\u001b[0m\u001b[1;33m\u001b[0m\u001b[1;33m\u001b[0m\u001b[0m\n\u001b[0m\u001b[0;32m     64\u001b[0m \u001b[1;33m\u001b[0m\u001b[0m\n\u001b[0;32m     65\u001b[0m             \u001b[1;31m# extra_args > 0\u001b[0m\u001b[1;33m\u001b[0m\u001b[1;33m\u001b[0m\u001b[1;33m\u001b[0m\u001b[0m\n",
      "\u001b[1;32m~\\anaconda3\\lib\\site-packages\\sklearn\\model_selection\\_search.py\u001b[0m in \u001b[0;36mfit\u001b[1;34m(self, X, y, groups, **fit_params)\u001b[0m\n\u001b[0;32m    839\u001b[0m                 \u001b[1;32mreturn\u001b[0m \u001b[0mresults\u001b[0m\u001b[1;33m\u001b[0m\u001b[1;33m\u001b[0m\u001b[0m\n\u001b[0;32m    840\u001b[0m \u001b[1;33m\u001b[0m\u001b[0m\n\u001b[1;32m--> 841\u001b[1;33m             \u001b[0mself\u001b[0m\u001b[1;33m.\u001b[0m\u001b[0m_run_search\u001b[0m\u001b[1;33m(\u001b[0m\u001b[0mevaluate_candidates\u001b[0m\u001b[1;33m)\u001b[0m\u001b[1;33m\u001b[0m\u001b[1;33m\u001b[0m\u001b[0m\n\u001b[0m\u001b[0;32m    842\u001b[0m \u001b[1;33m\u001b[0m\u001b[0m\n\u001b[0;32m    843\u001b[0m             \u001b[1;31m# multimetric is determined here because in the case of a callable\u001b[0m\u001b[1;33m\u001b[0m\u001b[1;33m\u001b[0m\u001b[1;33m\u001b[0m\u001b[0m\n",
      "\u001b[1;32m~\\anaconda3\\lib\\site-packages\\sklearn\\model_selection\\_search.py\u001b[0m in \u001b[0;36m_run_search\u001b[1;34m(self, evaluate_candidates)\u001b[0m\n\u001b[0;32m   1286\u001b[0m     \u001b[1;32mdef\u001b[0m \u001b[0m_run_search\u001b[0m\u001b[1;33m(\u001b[0m\u001b[0mself\u001b[0m\u001b[1;33m,\u001b[0m \u001b[0mevaluate_candidates\u001b[0m\u001b[1;33m)\u001b[0m\u001b[1;33m:\u001b[0m\u001b[1;33m\u001b[0m\u001b[1;33m\u001b[0m\u001b[0m\n\u001b[0;32m   1287\u001b[0m         \u001b[1;34m\"\"\"Search all candidates in param_grid\"\"\"\u001b[0m\u001b[1;33m\u001b[0m\u001b[1;33m\u001b[0m\u001b[0m\n\u001b[1;32m-> 1288\u001b[1;33m         \u001b[0mevaluate_candidates\u001b[0m\u001b[1;33m(\u001b[0m\u001b[0mParameterGrid\u001b[0m\u001b[1;33m(\u001b[0m\u001b[0mself\u001b[0m\u001b[1;33m.\u001b[0m\u001b[0mparam_grid\u001b[0m\u001b[1;33m)\u001b[0m\u001b[1;33m)\u001b[0m\u001b[1;33m\u001b[0m\u001b[1;33m\u001b[0m\u001b[0m\n\u001b[0m\u001b[0;32m   1289\u001b[0m \u001b[1;33m\u001b[0m\u001b[0m\n\u001b[0;32m   1290\u001b[0m \u001b[1;33m\u001b[0m\u001b[0m\n",
      "\u001b[1;32m~\\anaconda3\\lib\\site-packages\\sklearn\\model_selection\\_search.py\u001b[0m in \u001b[0;36mevaluate_candidates\u001b[1;34m(candidate_params, cv, more_results)\u001b[0m\n\u001b[0;32m    793\u001b[0m                               n_splits, n_candidates, n_candidates * n_splits))\n\u001b[0;32m    794\u001b[0m \u001b[1;33m\u001b[0m\u001b[0m\n\u001b[1;32m--> 795\u001b[1;33m                 out = parallel(delayed(_fit_and_score)(clone(base_estimator),\n\u001b[0m\u001b[0;32m    796\u001b[0m                                                        \u001b[0mX\u001b[0m\u001b[1;33m,\u001b[0m \u001b[0my\u001b[0m\u001b[1;33m,\u001b[0m\u001b[1;33m\u001b[0m\u001b[1;33m\u001b[0m\u001b[0m\n\u001b[0;32m    797\u001b[0m                                                        \u001b[0mtrain\u001b[0m\u001b[1;33m=\u001b[0m\u001b[0mtrain\u001b[0m\u001b[1;33m,\u001b[0m \u001b[0mtest\u001b[0m\u001b[1;33m=\u001b[0m\u001b[0mtest\u001b[0m\u001b[1;33m,\u001b[0m\u001b[1;33m\u001b[0m\u001b[1;33m\u001b[0m\u001b[0m\n",
      "\u001b[1;32m~\\anaconda3\\lib\\site-packages\\joblib\\parallel.py\u001b[0m in \u001b[0;36m__call__\u001b[1;34m(self, iterable)\u001b[0m\n\u001b[0;32m   1042\u001b[0m                 \u001b[0mself\u001b[0m\u001b[1;33m.\u001b[0m\u001b[0m_iterating\u001b[0m \u001b[1;33m=\u001b[0m \u001b[0mself\u001b[0m\u001b[1;33m.\u001b[0m\u001b[0m_original_iterator\u001b[0m \u001b[1;32mis\u001b[0m \u001b[1;32mnot\u001b[0m \u001b[1;32mNone\u001b[0m\u001b[1;33m\u001b[0m\u001b[1;33m\u001b[0m\u001b[0m\n\u001b[0;32m   1043\u001b[0m \u001b[1;33m\u001b[0m\u001b[0m\n\u001b[1;32m-> 1044\u001b[1;33m             \u001b[1;32mwhile\u001b[0m \u001b[0mself\u001b[0m\u001b[1;33m.\u001b[0m\u001b[0mdispatch_one_batch\u001b[0m\u001b[1;33m(\u001b[0m\u001b[0miterator\u001b[0m\u001b[1;33m)\u001b[0m\u001b[1;33m:\u001b[0m\u001b[1;33m\u001b[0m\u001b[1;33m\u001b[0m\u001b[0m\n\u001b[0m\u001b[0;32m   1045\u001b[0m                 \u001b[1;32mpass\u001b[0m\u001b[1;33m\u001b[0m\u001b[1;33m\u001b[0m\u001b[0m\n\u001b[0;32m   1046\u001b[0m \u001b[1;33m\u001b[0m\u001b[0m\n",
      "\u001b[1;32m~\\anaconda3\\lib\\site-packages\\joblib\\parallel.py\u001b[0m in \u001b[0;36mdispatch_one_batch\u001b[1;34m(self, iterator)\u001b[0m\n\u001b[0;32m    857\u001b[0m                 \u001b[1;32mreturn\u001b[0m \u001b[1;32mFalse\u001b[0m\u001b[1;33m\u001b[0m\u001b[1;33m\u001b[0m\u001b[0m\n\u001b[0;32m    858\u001b[0m             \u001b[1;32melse\u001b[0m\u001b[1;33m:\u001b[0m\u001b[1;33m\u001b[0m\u001b[1;33m\u001b[0m\u001b[0m\n\u001b[1;32m--> 859\u001b[1;33m                 \u001b[0mself\u001b[0m\u001b[1;33m.\u001b[0m\u001b[0m_dispatch\u001b[0m\u001b[1;33m(\u001b[0m\u001b[0mtasks\u001b[0m\u001b[1;33m)\u001b[0m\u001b[1;33m\u001b[0m\u001b[1;33m\u001b[0m\u001b[0m\n\u001b[0m\u001b[0;32m    860\u001b[0m                 \u001b[1;32mreturn\u001b[0m \u001b[1;32mTrue\u001b[0m\u001b[1;33m\u001b[0m\u001b[1;33m\u001b[0m\u001b[0m\n\u001b[0;32m    861\u001b[0m \u001b[1;33m\u001b[0m\u001b[0m\n",
      "\u001b[1;32m~\\anaconda3\\lib\\site-packages\\joblib\\parallel.py\u001b[0m in \u001b[0;36m_dispatch\u001b[1;34m(self, batch)\u001b[0m\n\u001b[0;32m    775\u001b[0m         \u001b[1;32mwith\u001b[0m \u001b[0mself\u001b[0m\u001b[1;33m.\u001b[0m\u001b[0m_lock\u001b[0m\u001b[1;33m:\u001b[0m\u001b[1;33m\u001b[0m\u001b[1;33m\u001b[0m\u001b[0m\n\u001b[0;32m    776\u001b[0m             \u001b[0mjob_idx\u001b[0m \u001b[1;33m=\u001b[0m \u001b[0mlen\u001b[0m\u001b[1;33m(\u001b[0m\u001b[0mself\u001b[0m\u001b[1;33m.\u001b[0m\u001b[0m_jobs\u001b[0m\u001b[1;33m)\u001b[0m\u001b[1;33m\u001b[0m\u001b[1;33m\u001b[0m\u001b[0m\n\u001b[1;32m--> 777\u001b[1;33m             \u001b[0mjob\u001b[0m \u001b[1;33m=\u001b[0m \u001b[0mself\u001b[0m\u001b[1;33m.\u001b[0m\u001b[0m_backend\u001b[0m\u001b[1;33m.\u001b[0m\u001b[0mapply_async\u001b[0m\u001b[1;33m(\u001b[0m\u001b[0mbatch\u001b[0m\u001b[1;33m,\u001b[0m \u001b[0mcallback\u001b[0m\u001b[1;33m=\u001b[0m\u001b[0mcb\u001b[0m\u001b[1;33m)\u001b[0m\u001b[1;33m\u001b[0m\u001b[1;33m\u001b[0m\u001b[0m\n\u001b[0m\u001b[0;32m    778\u001b[0m             \u001b[1;31m# A job can complete so quickly than its callback is\u001b[0m\u001b[1;33m\u001b[0m\u001b[1;33m\u001b[0m\u001b[1;33m\u001b[0m\u001b[0m\n\u001b[0;32m    779\u001b[0m             \u001b[1;31m# called before we get here, causing self._jobs to\u001b[0m\u001b[1;33m\u001b[0m\u001b[1;33m\u001b[0m\u001b[1;33m\u001b[0m\u001b[0m\n",
      "\u001b[1;32m~\\anaconda3\\lib\\site-packages\\joblib\\_parallel_backends.py\u001b[0m in \u001b[0;36mapply_async\u001b[1;34m(self, func, callback)\u001b[0m\n\u001b[0;32m    206\u001b[0m     \u001b[1;32mdef\u001b[0m \u001b[0mapply_async\u001b[0m\u001b[1;33m(\u001b[0m\u001b[0mself\u001b[0m\u001b[1;33m,\u001b[0m \u001b[0mfunc\u001b[0m\u001b[1;33m,\u001b[0m \u001b[0mcallback\u001b[0m\u001b[1;33m=\u001b[0m\u001b[1;32mNone\u001b[0m\u001b[1;33m)\u001b[0m\u001b[1;33m:\u001b[0m\u001b[1;33m\u001b[0m\u001b[1;33m\u001b[0m\u001b[0m\n\u001b[0;32m    207\u001b[0m         \u001b[1;34m\"\"\"Schedule a func to be run\"\"\"\u001b[0m\u001b[1;33m\u001b[0m\u001b[1;33m\u001b[0m\u001b[0m\n\u001b[1;32m--> 208\u001b[1;33m         \u001b[0mresult\u001b[0m \u001b[1;33m=\u001b[0m \u001b[0mImmediateResult\u001b[0m\u001b[1;33m(\u001b[0m\u001b[0mfunc\u001b[0m\u001b[1;33m)\u001b[0m\u001b[1;33m\u001b[0m\u001b[1;33m\u001b[0m\u001b[0m\n\u001b[0m\u001b[0;32m    209\u001b[0m         \u001b[1;32mif\u001b[0m \u001b[0mcallback\u001b[0m\u001b[1;33m:\u001b[0m\u001b[1;33m\u001b[0m\u001b[1;33m\u001b[0m\u001b[0m\n\u001b[0;32m    210\u001b[0m             \u001b[0mcallback\u001b[0m\u001b[1;33m(\u001b[0m\u001b[0mresult\u001b[0m\u001b[1;33m)\u001b[0m\u001b[1;33m\u001b[0m\u001b[1;33m\u001b[0m\u001b[0m\n",
      "\u001b[1;32m~\\anaconda3\\lib\\site-packages\\joblib\\_parallel_backends.py\u001b[0m in \u001b[0;36m__init__\u001b[1;34m(self, batch)\u001b[0m\n\u001b[0;32m    570\u001b[0m         \u001b[1;31m# Don't delay the application, to avoid keeping the input\u001b[0m\u001b[1;33m\u001b[0m\u001b[1;33m\u001b[0m\u001b[1;33m\u001b[0m\u001b[0m\n\u001b[0;32m    571\u001b[0m         \u001b[1;31m# arguments in memory\u001b[0m\u001b[1;33m\u001b[0m\u001b[1;33m\u001b[0m\u001b[1;33m\u001b[0m\u001b[0m\n\u001b[1;32m--> 572\u001b[1;33m         \u001b[0mself\u001b[0m\u001b[1;33m.\u001b[0m\u001b[0mresults\u001b[0m \u001b[1;33m=\u001b[0m \u001b[0mbatch\u001b[0m\u001b[1;33m(\u001b[0m\u001b[1;33m)\u001b[0m\u001b[1;33m\u001b[0m\u001b[1;33m\u001b[0m\u001b[0m\n\u001b[0m\u001b[0;32m    573\u001b[0m \u001b[1;33m\u001b[0m\u001b[0m\n\u001b[0;32m    574\u001b[0m     \u001b[1;32mdef\u001b[0m \u001b[0mget\u001b[0m\u001b[1;33m(\u001b[0m\u001b[0mself\u001b[0m\u001b[1;33m)\u001b[0m\u001b[1;33m:\u001b[0m\u001b[1;33m\u001b[0m\u001b[1;33m\u001b[0m\u001b[0m\n",
      "\u001b[1;32m~\\anaconda3\\lib\\site-packages\\joblib\\parallel.py\u001b[0m in \u001b[0;36m__call__\u001b[1;34m(self)\u001b[0m\n\u001b[0;32m    260\u001b[0m         \u001b[1;31m# change the default number of processes to -1\u001b[0m\u001b[1;33m\u001b[0m\u001b[1;33m\u001b[0m\u001b[1;33m\u001b[0m\u001b[0m\n\u001b[0;32m    261\u001b[0m         \u001b[1;32mwith\u001b[0m \u001b[0mparallel_backend\u001b[0m\u001b[1;33m(\u001b[0m\u001b[0mself\u001b[0m\u001b[1;33m.\u001b[0m\u001b[0m_backend\u001b[0m\u001b[1;33m,\u001b[0m \u001b[0mn_jobs\u001b[0m\u001b[1;33m=\u001b[0m\u001b[0mself\u001b[0m\u001b[1;33m.\u001b[0m\u001b[0m_n_jobs\u001b[0m\u001b[1;33m)\u001b[0m\u001b[1;33m:\u001b[0m\u001b[1;33m\u001b[0m\u001b[1;33m\u001b[0m\u001b[0m\n\u001b[1;32m--> 262\u001b[1;33m             return [func(*args, **kwargs)\n\u001b[0m\u001b[0;32m    263\u001b[0m                     for func, args, kwargs in self.items]\n\u001b[0;32m    264\u001b[0m \u001b[1;33m\u001b[0m\u001b[0m\n",
      "\u001b[1;32m~\\anaconda3\\lib\\site-packages\\joblib\\parallel.py\u001b[0m in \u001b[0;36m<listcomp>\u001b[1;34m(.0)\u001b[0m\n\u001b[0;32m    260\u001b[0m         \u001b[1;31m# change the default number of processes to -1\u001b[0m\u001b[1;33m\u001b[0m\u001b[1;33m\u001b[0m\u001b[1;33m\u001b[0m\u001b[0m\n\u001b[0;32m    261\u001b[0m         \u001b[1;32mwith\u001b[0m \u001b[0mparallel_backend\u001b[0m\u001b[1;33m(\u001b[0m\u001b[0mself\u001b[0m\u001b[1;33m.\u001b[0m\u001b[0m_backend\u001b[0m\u001b[1;33m,\u001b[0m \u001b[0mn_jobs\u001b[0m\u001b[1;33m=\u001b[0m\u001b[0mself\u001b[0m\u001b[1;33m.\u001b[0m\u001b[0m_n_jobs\u001b[0m\u001b[1;33m)\u001b[0m\u001b[1;33m:\u001b[0m\u001b[1;33m\u001b[0m\u001b[1;33m\u001b[0m\u001b[0m\n\u001b[1;32m--> 262\u001b[1;33m             return [func(*args, **kwargs)\n\u001b[0m\u001b[0;32m    263\u001b[0m                     for func, args, kwargs in self.items]\n\u001b[0;32m    264\u001b[0m \u001b[1;33m\u001b[0m\u001b[0m\n",
      "\u001b[1;32m~\\anaconda3\\lib\\site-packages\\sklearn\\utils\\fixes.py\u001b[0m in \u001b[0;36m__call__\u001b[1;34m(self, *args, **kwargs)\u001b[0m\n\u001b[0;32m    220\u001b[0m     \u001b[1;32mdef\u001b[0m \u001b[0m__call__\u001b[0m\u001b[1;33m(\u001b[0m\u001b[0mself\u001b[0m\u001b[1;33m,\u001b[0m \u001b[1;33m*\u001b[0m\u001b[0margs\u001b[0m\u001b[1;33m,\u001b[0m \u001b[1;33m**\u001b[0m\u001b[0mkwargs\u001b[0m\u001b[1;33m)\u001b[0m\u001b[1;33m:\u001b[0m\u001b[1;33m\u001b[0m\u001b[1;33m\u001b[0m\u001b[0m\n\u001b[0;32m    221\u001b[0m         \u001b[1;32mwith\u001b[0m \u001b[0mconfig_context\u001b[0m\u001b[1;33m(\u001b[0m\u001b[1;33m**\u001b[0m\u001b[0mself\u001b[0m\u001b[1;33m.\u001b[0m\u001b[0mconfig\u001b[0m\u001b[1;33m)\u001b[0m\u001b[1;33m:\u001b[0m\u001b[1;33m\u001b[0m\u001b[1;33m\u001b[0m\u001b[0m\n\u001b[1;32m--> 222\u001b[1;33m             \u001b[1;32mreturn\u001b[0m \u001b[0mself\u001b[0m\u001b[1;33m.\u001b[0m\u001b[0mfunction\u001b[0m\u001b[1;33m(\u001b[0m\u001b[1;33m*\u001b[0m\u001b[0margs\u001b[0m\u001b[1;33m,\u001b[0m \u001b[1;33m**\u001b[0m\u001b[0mkwargs\u001b[0m\u001b[1;33m)\u001b[0m\u001b[1;33m\u001b[0m\u001b[1;33m\u001b[0m\u001b[0m\n\u001b[0m",
      "\u001b[1;32m~\\anaconda3\\lib\\site-packages\\sklearn\\model_selection\\_validation.py\u001b[0m in \u001b[0;36m_fit_and_score\u001b[1;34m(estimator, X, y, scorer, train, test, verbose, parameters, fit_params, return_train_score, return_parameters, return_n_test_samples, return_times, return_estimator, split_progress, candidate_progress, error_score)\u001b[0m\n\u001b[0;32m    591\u001b[0m             \u001b[0mestimator\u001b[0m\u001b[1;33m.\u001b[0m\u001b[0mfit\u001b[0m\u001b[1;33m(\u001b[0m\u001b[0mX_train\u001b[0m\u001b[1;33m,\u001b[0m \u001b[1;33m**\u001b[0m\u001b[0mfit_params\u001b[0m\u001b[1;33m)\u001b[0m\u001b[1;33m\u001b[0m\u001b[1;33m\u001b[0m\u001b[0m\n\u001b[0;32m    592\u001b[0m         \u001b[1;32melse\u001b[0m\u001b[1;33m:\u001b[0m\u001b[1;33m\u001b[0m\u001b[1;33m\u001b[0m\u001b[0m\n\u001b[1;32m--> 593\u001b[1;33m             \u001b[0mestimator\u001b[0m\u001b[1;33m.\u001b[0m\u001b[0mfit\u001b[0m\u001b[1;33m(\u001b[0m\u001b[0mX_train\u001b[0m\u001b[1;33m,\u001b[0m \u001b[0my_train\u001b[0m\u001b[1;33m,\u001b[0m \u001b[1;33m**\u001b[0m\u001b[0mfit_params\u001b[0m\u001b[1;33m)\u001b[0m\u001b[1;33m\u001b[0m\u001b[1;33m\u001b[0m\u001b[0m\n\u001b[0m\u001b[0;32m    594\u001b[0m \u001b[1;33m\u001b[0m\u001b[0m\n\u001b[0;32m    595\u001b[0m     \u001b[1;32mexcept\u001b[0m \u001b[0mException\u001b[0m \u001b[1;32mas\u001b[0m \u001b[0me\u001b[0m\u001b[1;33m:\u001b[0m\u001b[1;33m\u001b[0m\u001b[1;33m\u001b[0m\u001b[0m\n",
      "\u001b[1;32m~\\anaconda3\\lib\\site-packages\\imblearn\\pipeline.py\u001b[0m in \u001b[0;36mfit\u001b[1;34m(self, X, y, **fit_params)\u001b[0m\n\u001b[0;32m    264\u001b[0m             \u001b[1;32mif\u001b[0m \u001b[0mself\u001b[0m\u001b[1;33m.\u001b[0m\u001b[0m_final_estimator\u001b[0m \u001b[1;33m!=\u001b[0m \u001b[1;34m\"passthrough\"\u001b[0m\u001b[1;33m:\u001b[0m\u001b[1;33m\u001b[0m\u001b[1;33m\u001b[0m\u001b[0m\n\u001b[0;32m    265\u001b[0m                 \u001b[0mfit_params_last_step\u001b[0m \u001b[1;33m=\u001b[0m \u001b[0mfit_params_steps\u001b[0m\u001b[1;33m[\u001b[0m\u001b[0mself\u001b[0m\u001b[1;33m.\u001b[0m\u001b[0msteps\u001b[0m\u001b[1;33m[\u001b[0m\u001b[1;33m-\u001b[0m\u001b[1;36m1\u001b[0m\u001b[1;33m]\u001b[0m\u001b[1;33m[\u001b[0m\u001b[1;36m0\u001b[0m\u001b[1;33m]\u001b[0m\u001b[1;33m]\u001b[0m\u001b[1;33m\u001b[0m\u001b[1;33m\u001b[0m\u001b[0m\n\u001b[1;32m--> 266\u001b[1;33m                 \u001b[0mself\u001b[0m\u001b[1;33m.\u001b[0m\u001b[0m_final_estimator\u001b[0m\u001b[1;33m.\u001b[0m\u001b[0mfit\u001b[0m\u001b[1;33m(\u001b[0m\u001b[0mXt\u001b[0m\u001b[1;33m,\u001b[0m \u001b[0myt\u001b[0m\u001b[1;33m,\u001b[0m \u001b[1;33m**\u001b[0m\u001b[0mfit_params_last_step\u001b[0m\u001b[1;33m)\u001b[0m\u001b[1;33m\u001b[0m\u001b[1;33m\u001b[0m\u001b[0m\n\u001b[0m\u001b[0;32m    267\u001b[0m         \u001b[1;32mreturn\u001b[0m \u001b[0mself\u001b[0m\u001b[1;33m\u001b[0m\u001b[1;33m\u001b[0m\u001b[0m\n\u001b[0;32m    268\u001b[0m \u001b[1;33m\u001b[0m\u001b[0m\n",
      "\u001b[1;32m~\\anaconda3\\lib\\site-packages\\xgboost\\core.py\u001b[0m in \u001b[0;36minner_f\u001b[1;34m(*args, **kwargs)\u001b[0m\n\u001b[0;32m    420\u001b[0m         \u001b[1;32mfor\u001b[0m \u001b[0mk\u001b[0m\u001b[1;33m,\u001b[0m \u001b[0marg\u001b[0m \u001b[1;32min\u001b[0m \u001b[0mzip\u001b[0m\u001b[1;33m(\u001b[0m\u001b[0msig\u001b[0m\u001b[1;33m.\u001b[0m\u001b[0mparameters\u001b[0m\u001b[1;33m,\u001b[0m \u001b[0margs\u001b[0m\u001b[1;33m)\u001b[0m\u001b[1;33m:\u001b[0m\u001b[1;33m\u001b[0m\u001b[1;33m\u001b[0m\u001b[0m\n\u001b[0;32m    421\u001b[0m             \u001b[0mkwargs\u001b[0m\u001b[1;33m[\u001b[0m\u001b[0mk\u001b[0m\u001b[1;33m]\u001b[0m \u001b[1;33m=\u001b[0m \u001b[0marg\u001b[0m\u001b[1;33m\u001b[0m\u001b[1;33m\u001b[0m\u001b[0m\n\u001b[1;32m--> 422\u001b[1;33m         \u001b[1;32mreturn\u001b[0m \u001b[0mf\u001b[0m\u001b[1;33m(\u001b[0m\u001b[1;33m**\u001b[0m\u001b[0mkwargs\u001b[0m\u001b[1;33m)\u001b[0m\u001b[1;33m\u001b[0m\u001b[1;33m\u001b[0m\u001b[0m\n\u001b[0m\u001b[0;32m    423\u001b[0m \u001b[1;33m\u001b[0m\u001b[0m\n\u001b[0;32m    424\u001b[0m     \u001b[1;32mreturn\u001b[0m \u001b[0minner_f\u001b[0m\u001b[1;33m\u001b[0m\u001b[1;33m\u001b[0m\u001b[0m\n",
      "\u001b[1;32m~\\anaconda3\\lib\\site-packages\\xgboost\\sklearn.py\u001b[0m in \u001b[0;36mfit\u001b[1;34m(self, X, y, sample_weight, base_margin, eval_set, eval_metric, early_stopping_rounds, verbose, xgb_model, sample_weight_eval_set, feature_weights, callbacks)\u001b[0m\n\u001b[0;32m    907\u001b[0m             eval_group=None, label_transform=label_transform)\n\u001b[0;32m    908\u001b[0m \u001b[1;33m\u001b[0m\u001b[0m\n\u001b[1;32m--> 909\u001b[1;33m         self._Booster = train(xgb_options, train_dmatrix,\n\u001b[0m\u001b[0;32m    910\u001b[0m                               \u001b[0mself\u001b[0m\u001b[1;33m.\u001b[0m\u001b[0mget_num_boosting_rounds\u001b[0m\u001b[1;33m(\u001b[0m\u001b[1;33m)\u001b[0m\u001b[1;33m,\u001b[0m\u001b[1;33m\u001b[0m\u001b[1;33m\u001b[0m\u001b[0m\n\u001b[0;32m    911\u001b[0m                               \u001b[0mevals\u001b[0m\u001b[1;33m=\u001b[0m\u001b[0mevals\u001b[0m\u001b[1;33m,\u001b[0m\u001b[1;33m\u001b[0m\u001b[1;33m\u001b[0m\u001b[0m\n",
      "\u001b[1;32m~\\anaconda3\\lib\\site-packages\\xgboost\\training.py\u001b[0m in \u001b[0;36mtrain\u001b[1;34m(params, dtrain, num_boost_round, evals, obj, feval, maximize, early_stopping_rounds, evals_result, verbose_eval, xgb_model, callbacks)\u001b[0m\n\u001b[0;32m    225\u001b[0m     \u001b[0mBooster\u001b[0m \u001b[1;33m:\u001b[0m \u001b[0ma\u001b[0m \u001b[0mtrained\u001b[0m \u001b[0mbooster\u001b[0m \u001b[0mmodel\u001b[0m\u001b[1;33m\u001b[0m\u001b[1;33m\u001b[0m\u001b[0m\n\u001b[0;32m    226\u001b[0m     \"\"\"\n\u001b[1;32m--> 227\u001b[1;33m     bst = _train_internal(params, dtrain,\n\u001b[0m\u001b[0;32m    228\u001b[0m                           \u001b[0mnum_boost_round\u001b[0m\u001b[1;33m=\u001b[0m\u001b[0mnum_boost_round\u001b[0m\u001b[1;33m,\u001b[0m\u001b[1;33m\u001b[0m\u001b[1;33m\u001b[0m\u001b[0m\n\u001b[0;32m    229\u001b[0m                           \u001b[0mevals\u001b[0m\u001b[1;33m=\u001b[0m\u001b[0mevals\u001b[0m\u001b[1;33m,\u001b[0m\u001b[1;33m\u001b[0m\u001b[1;33m\u001b[0m\u001b[0m\n",
      "\u001b[1;32m~\\anaconda3\\lib\\site-packages\\xgboost\\training.py\u001b[0m in \u001b[0;36m_train_internal\u001b[1;34m(params, dtrain, num_boost_round, evals, obj, feval, xgb_model, callbacks, evals_result, maximize, verbose_eval, early_stopping_rounds)\u001b[0m\n\u001b[0;32m    100\u001b[0m         \u001b[1;31m# Skip the first update if it is a recovery step.\u001b[0m\u001b[1;33m\u001b[0m\u001b[1;33m\u001b[0m\u001b[1;33m\u001b[0m\u001b[0m\n\u001b[0;32m    101\u001b[0m         \u001b[1;32mif\u001b[0m \u001b[0mversion\u001b[0m \u001b[1;33m%\u001b[0m \u001b[1;36m2\u001b[0m \u001b[1;33m==\u001b[0m \u001b[1;36m0\u001b[0m\u001b[1;33m:\u001b[0m\u001b[1;33m\u001b[0m\u001b[1;33m\u001b[0m\u001b[0m\n\u001b[1;32m--> 102\u001b[1;33m             \u001b[0mbst\u001b[0m\u001b[1;33m.\u001b[0m\u001b[0mupdate\u001b[0m\u001b[1;33m(\u001b[0m\u001b[0mdtrain\u001b[0m\u001b[1;33m,\u001b[0m \u001b[0mi\u001b[0m\u001b[1;33m,\u001b[0m \u001b[0mobj\u001b[0m\u001b[1;33m)\u001b[0m\u001b[1;33m\u001b[0m\u001b[1;33m\u001b[0m\u001b[0m\n\u001b[0m\u001b[0;32m    103\u001b[0m             \u001b[0mbst\u001b[0m\u001b[1;33m.\u001b[0m\u001b[0msave_rabit_checkpoint\u001b[0m\u001b[1;33m(\u001b[0m\u001b[1;33m)\u001b[0m\u001b[1;33m\u001b[0m\u001b[1;33m\u001b[0m\u001b[0m\n\u001b[0;32m    104\u001b[0m             \u001b[0mversion\u001b[0m \u001b[1;33m+=\u001b[0m \u001b[1;36m1\u001b[0m\u001b[1;33m\u001b[0m\u001b[1;33m\u001b[0m\u001b[0m\n",
      "\u001b[1;32m~\\anaconda3\\lib\\site-packages\\xgboost\\core.py\u001b[0m in \u001b[0;36mupdate\u001b[1;34m(self, dtrain, iteration, fobj)\u001b[0m\n\u001b[0;32m   1278\u001b[0m \u001b[1;33m\u001b[0m\u001b[0m\n\u001b[0;32m   1279\u001b[0m         \u001b[1;32mif\u001b[0m \u001b[0mfobj\u001b[0m \u001b[1;32mis\u001b[0m \u001b[1;32mNone\u001b[0m\u001b[1;33m:\u001b[0m\u001b[1;33m\u001b[0m\u001b[1;33m\u001b[0m\u001b[0m\n\u001b[1;32m-> 1280\u001b[1;33m             _check_call(_LIB.XGBoosterUpdateOneIter(self.handle,\n\u001b[0m\u001b[0;32m   1281\u001b[0m                                                     \u001b[0mctypes\u001b[0m\u001b[1;33m.\u001b[0m\u001b[0mc_int\u001b[0m\u001b[1;33m(\u001b[0m\u001b[0miteration\u001b[0m\u001b[1;33m)\u001b[0m\u001b[1;33m,\u001b[0m\u001b[1;33m\u001b[0m\u001b[1;33m\u001b[0m\u001b[0m\n\u001b[0;32m   1282\u001b[0m                                                     dtrain.handle))\n",
      "\u001b[1;31mKeyboardInterrupt\u001b[0m: "
     ]
    }
   ],
   "source": [
    "# --- IMPLEMENT XGBOOST ---\n",
    "cv = KFold(N_SPLITS, shuffle=True, random_state=RANDOM_STATE)\n",
    "string_selector = make_column_selector(dtype_include='object')\n",
    "number_selector = make_column_selector(dtype_exclude=['object'])\n",
    "col_transformer = make_column_transformer((OneHotEncoder(drop='first', sparse=False), string_selector), \n",
    "                                          (StandardScaler(), number_selector), n_jobs=JOBS)\n",
    "\n",
    "# --- ADD GRID SEARCH ---\n",
    "param_grid = {\n",
    "    'model__learning_rate': [0.1, 0.2],\n",
    "    'model__max_depth': [3, 6],\n",
    "    'model__min_child_weight': [1, 2],\n",
    "    'model__subsample': [0.5, 0.7],\n",
    "    'model__n_estimators': [100],\n",
    "}\n",
    "\n",
    "model = XGBClassifier(use_label_encoder=False, eval_metric = 'logloss', random_state=RANDOM_STATE, n_jobs=JOBS)\n",
    "\n",
    "pipe = Pipeline([('cols', col_transformer),\n",
    "                 ('smote', SMOTE(random_state = RANDOM_STATE, n_jobs=JOBS)),\n",
    "                 ('model', model)])\n",
    "search = GridSearchCV(pipe, param_grid, cv=cv, n_jobs=JOBS)\n",
    "search.fit(X, y)\n",
    "model_history.add_model(search.best_estimator_, X, y, display_results=True, notes='grid-based xgb')"
   ]
  },
  {
   "cell_type": "code",
   "execution_count": null,
   "id": "7a9f256d",
   "metadata": {},
   "outputs": [],
   "source": [
    "# --- PLOT FEATURE IMPORTANCE FOR XGBOOST --- \n",
    "#plot_feature_importances(search.best_estimator_, X)"
   ]
  },
  {
   "cell_type": "markdown",
   "id": "9295a277",
   "metadata": {},
   "source": [
    "### Regarding next steps:\n",
    "- Where input (e.g. Officer Age) is continuous: run hypothesis test. Alternatively, do bootstapping for categorical"
   ]
  },
  {
   "cell_type": "markdown",
   "id": "16ce9fa5",
   "metadata": {},
   "source": [
    "# To do\n",
    "\n",
    "- Look into individual cases to see why resolution would be set as Arrest, yet arrest flag was not flipped\n",
    "- Once a model is selected, how should the results be presented?\n",
    "    - Back up any sort of conclusion with hypothesis testing\n",
    "    - If it is a tree-based model, consider printing out the graphical representation of the tree that was used\n",
    "    - Regarding how to gain meaning from results:\n",
    "        - Perhaps use hypothesis testing to see extent of results\n",
    "        - If linear model: bootstrapping can be used to get coefficients\n",
    "        - If non-linear (non-parametric) models: once final model is selected, run it again without race (e.g.) to see how error changes. Also see how much the error changes when dropping other features?\n",
    "    - Could also use step-forward (e.g.) feature selection function that was implemented in the lab project. Make sure to change from R2 eval metric to F1 (or whatever I end up using). Also make sure this is looking at the result on validation data, not just overall data (reduce overfitting). \n",
    "    \n",
    "- Try running from scratch with different 'Arrest' flag metric\n",
    "  \n",
    "#### notes: should have but not absolutely necessary\n",
    "- formulaic feature selection process"
   ]
  },
  {
   "cell_type": "markdown",
   "id": "20287b4f",
   "metadata": {},
   "source": [
    "# Questions\n",
    "- Why does F1 get worse for logreg once GridSearch is implemented?\n",
    "- In cases of grid search, should I be just adding best_estimator_ to the model history to avoid re-running everything within the model history object?\n",
    "- Discuss age interpolation function\n",
    "- How do I decide which \"arrest metric\" to use?\n",
    "\n",
    "#### Mention ask next steps:\n",
    "- Create model for filling in missing ages instead of dropping values"
   ]
  },
  {
   "cell_type": "code",
   "execution_count": null,
   "id": "262ff7d9",
   "metadata": {},
   "outputs": [],
   "source": []
  },
  {
   "cell_type": "code",
   "execution_count": null,
   "id": "32acc6a0",
   "metadata": {},
   "outputs": [],
   "source": []
  }
 ],
 "metadata": {
  "kernelspec": {
   "display_name": "learn-env",
   "language": "python",
   "name": "learn-env"
  },
  "language_info": {
   "codemirror_mode": {
    "name": "ipython",
    "version": 3
   },
   "file_extension": ".py",
   "mimetype": "text/x-python",
   "name": "python",
   "nbconvert_exporter": "python",
   "pygments_lexer": "ipython3",
   "version": "3.8.3"
  }
 },
 "nbformat": 4,
 "nbformat_minor": 5
}
