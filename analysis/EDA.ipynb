{
 "cells": [
  {
   "cell_type": "markdown",
   "id": "c46edfb5",
   "metadata": {},
   "source": [
    "https://data.seattle.gov/Public-Safety/Terry-Stops/28ny-9ts8"
   ]
  },
  {
   "cell_type": "code",
   "execution_count": 27,
   "id": "3d848dae",
   "metadata": {},
   "outputs": [
    {
     "name": "stdout",
     "output_type": "stream",
     "text": [
      "The autoreload extension is already loaded. To reload it, use:\n",
      "  %reload_ext autoreload\n"
     ]
    }
   ],
   "source": [
    "import pandas as pd\n",
    "import numpy as np\n",
    "import matplotlib.pyplot as plt\n",
    "import seaborn as sns\n",
    "import pickle\n",
    "import os, sys\n",
    "\n",
    "from custom_functions import *\n",
    "from datetime import time\n",
    "from sklearn.pipeline import make_pipeline, Pipeline\n",
    "from sklearn.model_selection import train_test_split\n",
    "from sklearn.model_selection import cross_val_score, KFold\n",
    "from sklearn.preprocessing import OneHotEncoder, LabelEncoder\n",
    "from sklearn.compose import make_column_selector, make_column_transformer\n",
    "from sklearn.linear_model import LogisticRegression\n",
    "from sklearn.neighbors import KNeighborsClassifier\n",
    "from sklearn.preprocessing import StandardScaler\n",
    "from sklearn.metrics import f1_score, accuracy_score\n",
    "\n",
    "\n",
    "from imblearn.over_sampling import SMOTE\n",
    "\n",
    "%load_ext autoreload\n",
    "%autoreload 2\n",
    "%matplotlib inline\n",
    "pd.set_option('display.max_columns', 100)\n",
    "\n",
    "RANDOM_STATE = 1000\n",
    "\n",
    "raw_terry_path = os.path.join('..', 'data', 'raw', 'terry-stops.csv')\n",
    "processed_data_path = os.path.join('..', 'data', 'processed')\n",
    "UNKNOWN = 'Not provided'"
   ]
  },
  {
   "cell_type": "code",
   "execution_count": 2,
   "id": "aed5ed5a",
   "metadata": {},
   "outputs": [],
   "source": [
    "df = pd.read_csv(raw_terry_path, dtype='str')\n",
    "\n",
    "# Strip spaces, as relevant\n",
    "for col in df.columns:\n",
    "    df[col] = df[col].str.strip()"
   ]
  },
  {
   "cell_type": "code",
   "execution_count": 3,
   "id": "43fe230a",
   "metadata": {},
   "outputs": [
    {
     "name": "stdout",
     "output_type": "stream",
     "text": [
      "<class 'pandas.core.frame.DataFrame'>\n",
      "RangeIndex: 47213 entries, 0 to 47212\n",
      "Data columns (total 23 columns):\n",
      " #   Column                    Non-Null Count  Dtype \n",
      "---  ------                    --------------  ----- \n",
      " 0   Subject Age Group         47213 non-null  object\n",
      " 1   Subject ID                47213 non-null  object\n",
      " 2   GO / SC Num               47213 non-null  object\n",
      " 3   Terry Stop ID             47213 non-null  object\n",
      " 4   Stop Resolution           47213 non-null  object\n",
      " 5   Weapon Type               47213 non-null  object\n",
      " 6   Officer ID                47213 non-null  object\n",
      " 7   Officer YOB               47213 non-null  object\n",
      " 8   Officer Gender            47213 non-null  object\n",
      " 9   Officer Race              47213 non-null  object\n",
      " 10  Subject Perceived Race    47213 non-null  object\n",
      " 11  Subject Perceived Gender  47213 non-null  object\n",
      " 12  Reported Date             47213 non-null  object\n",
      " 13  Reported Time             47213 non-null  object\n",
      " 14  Initial Call Type         47213 non-null  object\n",
      " 15  Final Call Type           47213 non-null  object\n",
      " 16  Call Type                 47213 non-null  object\n",
      " 17  Officer Squad             46609 non-null  object\n",
      " 18  Arrest Flag               47213 non-null  object\n",
      " 19  Frisk Flag                47213 non-null  object\n",
      " 20  Precinct                  47213 non-null  object\n",
      " 21  Sector                    47213 non-null  object\n",
      " 22  Beat                      47213 non-null  object\n",
      "dtypes: object(23)\n",
      "memory usage: 8.3+ MB\n"
     ]
    }
   ],
   "source": [
    "df.info()"
   ]
  },
  {
   "cell_type": "code",
   "execution_count": 4,
   "id": "6d54ac9c",
   "metadata": {},
   "outputs": [],
   "source": [
    "# ------ CLEAN DATA ONE COLUMN AT A TIME -------\n",
    "\n",
    "# Subject Age Group\n",
    "df['Subject Age Group'].replace('-', UNKNOWN, inplace=True)\n",
    "\n",
    "# Subject ID\n",
    "df['Subject ID'].replace('-1', UNKNOWN, inplace=True)\n",
    "\n",
    "# Weapon Type\n",
    "weapon_type_dict = {'Firearm Other': 'Firearm', \n",
    "                    'Lethal Cutting Instrument': 'Knife', \n",
    "                    'Handgun': 'Firearm', \n",
    "                    '-': 'None', \n",
    "                    'Club, Blackjack, Brass Knuckles': 'Club/Melee', \n",
    "                    'Knife/Cutting/Stabbing Instrument': 'Knife', \n",
    "                    'Other Firearm': 'Firearm', \n",
    "                    'Rifle': 'Firearm', \n",
    "                    'Fire/Incendiary Device': 'Other', \n",
    "                    'Blunt Object/Striking Implement': 'Club/Melee', \n",
    "                    'Firearm (unk type)': 'Firearm', \n",
    "                    'Mace/Pepper Spray': 'Other', \n",
    "                    'None/Not Applicable': 'None', \n",
    "                    'Club': 'Club/Melee', \n",
    "                    'Taser/Stun Gun': 'Other', \n",
    "                    'Shotgun': 'Other', \n",
    "                    'Brass Knuckles': 'Club/Melee', \n",
    "                    'Automatic Handgun': 'Firearm', \n",
    "                    'Blackjack': 'Club/Melee', \n",
    "                    'Personal Weapons (hands, feet, etc.)': 'Club/Melee'}\n",
    "df['Weapon Type'].replace(weapon_type_dict, inplace=True)\n",
    "\n",
    "\n",
    "\n",
    "# Officer Year of Birth\n",
    "df['Officer YOB'] = df['Officer YOB'].astype('int')\n",
    "\n",
    "\n",
    "\n",
    "# Officer Race\n",
    "race_dict = {'Unknown': UNKNOWN, \n",
    "            'Not Specified': UNKNOWN,\n",
    "            '-': UNKNOWN,\n",
    "            'Other': UNKNOWN, \n",
    "            'Unknown': UNKNOWN}\n",
    "df['Officer Race'].replace(race_dict, inplace=True)\n",
    "df['Subject Perceived Race'].replace(race_dict, inplace=True)\n",
    "\n",
    "\n",
    "\n",
    "# Subject Perceived Gender\n",
    "gender_dict = {'Unable to Determine': UNKNOWN,\n",
    "              '-': UNKNOWN,\n",
    "               'Unknown': UNKNOWN,\n",
    "              'Gender Diverse (gender non-conforming and/or transgender)': 'Non-Binary',\n",
    "               'N': 'Non-Binary',\n",
    "               'M': 'Male',\n",
    "               'F': 'Female'}\n",
    "df['Subject Perceived Gender'].replace(gender_dict, inplace=True)\n",
    "df['Officer Gender'].replace(gender_dict, inplace=True)\n",
    "\n",
    "\n",
    "\n",
    "# Reported date and hour\n",
    "df['Reported Date'] = df['Reported Date'].astype('datetime64')\n",
    "#df['Reported Hour'] = [int(x[:2]) for x in df['Reported Time']]\n",
    "    \n",
    "    \n",
    "# Call Type\n",
    "call_type_dict = {'-': UNKNOWN,\n",
    "                 'SCHEDULED EVENT (RECURRING)': UNKNOWN,\n",
    "                 'TEXT MESSAGE': UNKNOWN}\n",
    "df['Call Type'].replace(call_type_dict, inplace=True)\n",
    "    \n",
    "    \n",
    "# Frisk Flag\n",
    "df['Frisk Flag'].replace('-', np.nan, inplace=True)\n",
    "\n",
    "# Precinct\n",
    "precinct_dict = {'-': UNKNOWN,\n",
    "                'FK ERROR': UNKNOWN,\n",
    "                 'Unknown': UNKNOWN,\n",
    "                'SouthWest': 'Southwest'}\n",
    "df['Precinct'].replace(precinct_dict, inplace=True)\n",
    "\n",
    "\n",
    "# Sector\n",
    "df['Sector'].replace(['99', '-'], UNKNOWN, inplace=True)\n",
    "\n",
    "# Beat\n",
    "df['Beat'].replace(['S', '99', '-'], UNKNOWN, inplace=True)\n",
    "\n",
    "#--- INCOMPLETE!\n",
    "# Categorize \"Call Types\". Variable used to create dictionary in CSV\n",
    "# call_types = pd.concat([df['Call Type'], df['Initial Call Type'], df['Final Call Type']]).value_counts().keys().values\n",
    "# path = os.path.join('..', 'data', 'categorize call types.csv')\n",
    "# call_type_dictionary = pd.read_csv(path)\n",
    "# call_type_dictionary = dict(zip(call_type_dictionary.iloc[:, 0], call_type_dictionary.iloc[:, 1]))\n",
    "# df['Initial Call Type'] = df['Initial Call Type'].map(call_type_dictionary)\n",
    "# df['Final Call Type'] = df['Final Call Type'].map(call_type_dictionary)\n",
    "\n",
    "\n",
    "\n",
    "# --- INCOMPLETE!\n",
    "# Optionally categorize 'Officer Squad'\n",
    "#Officer Squad"
   ]
  },
  {
   "cell_type": "markdown",
   "id": "cd1937bf",
   "metadata": {},
   "source": [
    "# Age group manipulation"
   ]
  },
  {
   "cell_type": "code",
   "execution_count": 5,
   "id": "0237c657",
   "metadata": {
    "tags": []
   },
   "outputs": [
    {
     "data": {
      "image/png": "[encoded data removed]",
      "text/plain": [
       "<Figure size 432x288 with 1 Axes>"
      ]
     },
     "metadata": {
      "needs_background": "light"
     },
     "output_type": "display_data"
    },
    {
     "data": {
      "image/png": "[encoded data removed]",
      "text/plain": [
       "<Figure size 432x288 with 1 Axes>"
      ]
     },
     "metadata": {
      "needs_background": "light"
     },
     "output_type": "display_data"
    }
   ],
   "source": [
    "# ------ ESTIMATE SUBJECT AGE ------\n",
    "\n",
    "np.random.seed(RANDOM_STATE)\n",
    "\n",
    "df['Subject Age Group'].replace('-', UNKNOWN, inplace=True)\n",
    "\n",
    "years_in_category = {'1 - 17': [10, 17],\n",
    "'18 - 25': [18, 25],\n",
    "'26 - 35': [26, 35],\n",
    "'36 - 45': [36, 45],\n",
    "'46 - 55': [46, 55],\n",
    "'56 and Above': [56, 70]}\n",
    "\n",
    "def predict_ages():\n",
    "    avg, std, x, y = calculate_mean_and_std()\n",
    "    \n",
    "    ages = []\n",
    "    for age_categorical in df['Subject Age Group']:\n",
    "        age = predict_age_from_category(age_categorical, avg, std)\n",
    "        ages.append(age)\n",
    "    return ages, x, y\n",
    "\n",
    "\n",
    "def calculate_mean_and_std():\n",
    "    xy = {}\n",
    "    \n",
    "    age_group_counts = dict(df['Subject Age Group'].value_counts())\n",
    "    \n",
    "    for age_group in df['Subject Age Group'].replace(UNKNOWN, np.nan).dropna().unique():\n",
    "        age_range_list = set_range(age_group)\n",
    "        age_range_ct = age_group_counts[age_group]\n",
    "        \n",
    "        for item in age_range_list:\n",
    "            xy[item] = int(age_range_ct/len(age_range_list))\n",
    "    \n",
    "    x = np.array(list(xy.keys()))\n",
    "    y = np.array(list(xy.values()))\n",
    "    avg = x.mean()\n",
    "    std = x.std()\n",
    "    return avg, std, x, y\n",
    "\n",
    "\n",
    "\n",
    "def set_range(age_range):\n",
    "    age_range = years_in_category[age_range]\n",
    "    start = age_range[0]\n",
    "    stop = age_range[1]\n",
    "    return np.linspace(start, stop, stop-start+1)\n",
    "\n",
    "\n",
    "\n",
    "def predict_age_from_category(bucket, avg, std):\n",
    "\n",
    "    if bucket == UNKNOWN:\n",
    "        year_range = np.array(list(years_in_category.values())).flatten()\n",
    "        min_age = year_range.min()\n",
    "        max_age = year_range.max()\n",
    "    else:\n",
    "        year_range = years_in_category[bucket]\n",
    "        min_age = year_range[0]\n",
    "        max_age = year_range[1]\n",
    "    age = 0\n",
    "    while ((age <= min_age-0.5) or (age > max_age+0.5)):\n",
    "        age = np.random.normal(avg, std)\n",
    "    return age\n",
    "\n",
    "\n",
    "plt.figure()\n",
    "df['Subject Age (Est)'], x, y = predict_ages()\n",
    "sns.histplot(df['Subject Age (Est)'], bins=60, kde=True);\n",
    "plt.scatter(x, y, c='r', s=10)\n",
    "plt.title('Subject Ages (Est)')\n",
    "plt.savefig('hist.png')\n",
    "\n",
    "\n",
    "plt.figure()\n",
    "plt.title('Interpolated ages')\n",
    "interpolated_rows = df.loc[df['Subject Age Group'] == UNKNOWN]\n",
    "sns.histplot(interpolated_rows['Subject Age (Est)'], bins=12);"
   ]
  },
  {
   "cell_type": "code",
   "execution_count": 6,
   "id": "7245c6d8",
   "metadata": {},
   "outputs": [],
   "source": [
    "# Interpolate missing 'Subject Age Group' values based on this new Estimated Age column\n",
    "# Essentially, finding a better way to impute than just the median or mean. \n",
    "# Instead, it samples from the calculated normal distribution\n",
    "\n",
    "age_cats = [(17.5, '1 - 17'), (25.5, '18 - 25'), (35.5, '26 - 35'), (45.5, '36 - 45'), (55.5, '46 - 55'), (100, '56 and Above')]\n",
    "\n",
    "age_groups = []\n",
    "for i, item in enumerate(df['Subject Age Group']):\n",
    "    if item != UNKNOWN:\n",
    "        age_groups.append(item)\n",
    "    else:\n",
    "        x = df.iloc[i]['Subject Age (Est)']\n",
    "        for cat in age_cats:\n",
    "            if x <= cat[0]:\n",
    "                age_groups.append(cat[1])\n",
    "                break\n",
    "            \n",
    "df['Subject Age Group'] = age_groups"
   ]
  },
  {
   "cell_type": "code",
   "execution_count": 7,
   "id": "ffa4d3e9",
   "metadata": {},
   "outputs": [],
   "source": [
    "# Engineer new features\n",
    "\n",
    "# Calculate Officer Age\n",
    "if 'Officer YOB' in df.columns:\n",
    "    df['Officer Age'] = df['Reported Date'].apply(lambda x: x.year) - df['Officer YOB']\n",
    "    df['Officer Age'] = df['Officer Age'].apply(lambda x: np.nan if x > 100 else x)\n",
    "    df.drop('Officer YOB', axis=1, inplace=True)\n",
    "\n",
    "    \n",
    "# Determine whether or not weapon was involved\n",
    "#has_weapon = lambda x: 'No' if x == 'None' else 'Yes'\n",
    "df['Weapon (Y/N)'] = (df['Weapon Type'] != 'None').astype('int')\n",
    "\n",
    "\n",
    "# Calculate the number of stops per subject\n",
    "if 'Subject ID' in df.columns:\n",
    "    offense_ct_dict = dict(df['Subject ID'].value_counts())\n",
    "    df['Offense Count'] = df['Subject ID'].map(offense_ct_dict)\n",
    "    # Identify whether a subject has been involved in multiple stops\n",
    "    df['Repeat Offender (Y/N)'] = (df['Offense Count'] > 1).astype('int')\n",
    "    # Drop \"Offense Count\" for now given the number of missing values\n",
    "    if 'Offense Count' in df:\n",
    "        df.drop('Offense Count', axis=1, inplace=True)\n",
    "    df.drop('Subject ID', axis=1, inplace=True)\n",
    "\n",
    "\n",
    "\n",
    "\n",
    "# Identify whether race of officer is same as race of subject\n",
    "df['Same Race (Y/N)'] = (df['Officer Race'] == df['Subject Perceived Race']).astype('int')\n",
    "\n",
    "# Identify whether gender of officer is same as gender of subject\n",
    "df['Same Gender (Y/N)'] = (df['Officer Gender'] == df['Subject Perceived Gender']).astype('int')\n",
    "\n",
    "# Rename columns and drop 'na' rows\n",
    "if 'Arrest Flag' in df.columns:\n",
    "    df['Arrest (Y/N)'] = (df['Arrest Flag'] == 'Y').astype('int')\n",
    "    df.drop('Arrest Flag', axis=1, inplace=True)\n",
    "    \n",
    "if 'Frisk Flag' in df.columns:\n",
    "    df['Frisk (Y/N)'] = (df['Frisk Flag'] == 'Y').astype('int')\n",
    "    df.drop('Frisk Flag', axis=1, inplace=True)"
   ]
  },
  {
   "cell_type": "code",
   "execution_count": 8,
   "id": "626cec6f",
   "metadata": {},
   "outputs": [],
   "source": [
    "# Remove missing values and reset index\n",
    "df.dropna(inplace=True)\n",
    "df.reset_index(inplace=True, drop=True)\n",
    "df['Officer Age'] = df['Officer Age'].astype('int')"
   ]
  },
  {
   "cell_type": "markdown",
   "id": "742d39d7",
   "metadata": {},
   "source": [
    "# TEMP - verify column unique values"
   ]
  },
  {
   "cell_type": "code",
   "execution_count": 9,
   "id": "361663d7",
   "metadata": {},
   "outputs": [
    {
     "name": "stdout",
     "output_type": "stream",
     "text": [
      "<class 'pandas.core.frame.DataFrame'>\n",
      "RangeIndex: 46607 entries, 0 to 46606\n",
      "Data columns (total 27 columns):\n",
      " #   Column                    Non-Null Count  Dtype         \n",
      "---  ------                    --------------  -----         \n",
      " 0   Subject Age Group         46607 non-null  object        \n",
      " 1   GO / SC Num               46607 non-null  object        \n",
      " 2   Terry Stop ID             46607 non-null  object        \n",
      " 3   Stop Resolution           46607 non-null  object        \n",
      " 4   Weapon Type               46607 non-null  object        \n",
      " 5   Officer ID                46607 non-null  object        \n",
      " 6   Officer Gender            46607 non-null  object        \n",
      " 7   Officer Race              46607 non-null  object        \n",
      " 8   Subject Perceived Race    46607 non-null  object        \n",
      " 9   Subject Perceived Gender  46607 non-null  object        \n",
      " 10  Reported Date             46607 non-null  datetime64[ns]\n",
      " 11  Reported Time             46607 non-null  object        \n",
      " 12  Initial Call Type         46607 non-null  object        \n",
      " 13  Final Call Type           46607 non-null  object        \n",
      " 14  Call Type                 46607 non-null  object        \n",
      " 15  Officer Squad             46607 non-null  object        \n",
      " 16  Precinct                  46607 non-null  object        \n",
      " 17  Sector                    46607 non-null  object        \n",
      " 18  Beat                      46607 non-null  object        \n",
      " 19  Subject Age (Est)         46607 non-null  float64       \n",
      " 20  Officer Age               46607 non-null  int32         \n",
      " 21  Weapon (Y/N)              46607 non-null  int32         \n",
      " 22  Repeat Offender (Y/N)     46607 non-null  int32         \n",
      " 23  Same Race (Y/N)           46607 non-null  int32         \n",
      " 24  Same Gender (Y/N)         46607 non-null  int32         \n",
      " 25  Arrest (Y/N)              46607 non-null  int32         \n",
      " 26  Frisk (Y/N)               46607 non-null  int32         \n",
      "dtypes: datetime64[ns](1), float64(1), int32(7), object(18)\n",
      "memory usage: 8.4+ MB\n"
     ]
    }
   ],
   "source": [
    "df.info()"
   ]
  },
  {
   "cell_type": "markdown",
   "id": "251ada80",
   "metadata": {},
   "source": [
    "# Graphical EDA"
   ]
  },
  {
   "cell_type": "code",
   "execution_count": 10,
   "id": "883e8625",
   "metadata": {
    "tags": []
   },
   "outputs": [
    {
     "data": {
      "image/png": "[encoded data removed]",
      "text/plain": [
       "<Figure size 1152x288 with 2 Axes>"
      ]
     },
     "metadata": {},
     "output_type": "display_data"
    },
    {
     "name": "stdout",
     "output_type": "stream",
     "text": [
      "  Subject Perceived Gender  Arrest (Y/N)  Frisk (Y/N)\n",
      "1                     Male          2826         9185\n",
      "0                   Female           618         1136\n",
      "2               Non-Binary             1            0\n",
      "3             Not provided             1          119\n",
      "--------------------------------------------------------------------\n",
      "\n",
      "\n"
     ]
    }
   ],
   "source": [
    "# BAR GRAPHS FOR ***AVERAGE OR SUM*** OF METRICS\n",
    "\n",
    "df_graphical = pd.concat([df, pd.get_dummies(df['Stop Resolution'], prefix='Resolution')], axis=1)\n",
    "\n",
    "# Average metrics by age group\n",
    "x_axis = 'Subject Age Group'\n",
    "y_axis = ['Arrest (Y/N)', 'Frisk (Y/N)']#, 'Resolution_Arrest', 'Resolution_Citation / Infraction', 'Resolution_Field Contact', 'Resolution_Offense Report', 'Resolution_Referred for Prosecution']\n",
    "#bar_plot(df_graphical, x_axis, y_axis, 'mean', verbose=False)\n",
    "\n",
    "# Average metrics by subject race\n",
    "x_axis = 'Subject Perceived Race'\n",
    "#y_axis = ['Resolution_Arrest', 'Resolution_Citation / Infraction', 'Resolution_Field Contact', 'Resolution_Offense Report', 'Resolution_Referred for Prosecution']\n",
    "#bar_plot(df_graphical, x_axis, y_axis, 'sum', verbose=True)\n",
    "\n",
    "# Gender metrics\n",
    "x_axis = 'Subject Perceived Gender'\n",
    "y_axis = ['Arrest (Y/N)', 'Frisk (Y/N)']\n",
    "bar_plot(df_graphical, x_axis, y_axis, 'sum', verbose=True)\n",
    "\n",
    "# Officer race\n",
    "x_axis = 'Officer Race'\n",
    "#bar_plot(df_graphical, x_axis, y_axis, 'mean',verbose=True)\n",
    "\n",
    "# Officer gender\n",
    "x_axis = 'Officer Gender'\n",
    "#bar_plot(df_graphical, x_axis, y_axis, 'mean', verbose=True)\n",
    "\n",
    "# Officer gender\n",
    "x_axis = 'Officer Age'\n",
    "#bar_plot(df_graphical, x_axis, y_axis, 'mean', verbose=True)"
   ]
  },
  {
   "cell_type": "markdown",
   "id": "8f2970fe",
   "metadata": {},
   "source": [
    "# Refine dataset"
   ]
  },
  {
   "cell_type": "code",
   "execution_count": 11,
   "id": "78074229",
   "metadata": {},
   "outputs": [
    {
     "name": "stdout",
     "output_type": "stream",
     "text": [
      "<class 'pandas.core.frame.DataFrame'>\n",
      "RangeIndex: 46607 entries, 0 to 46606\n",
      "Data columns (total 27 columns):\n",
      " #   Column                    Non-Null Count  Dtype         \n",
      "---  ------                    --------------  -----         \n",
      " 0   Subject Age Group         46607 non-null  object        \n",
      " 1   GO / SC Num               46607 non-null  object        \n",
      " 2   Terry Stop ID             46607 non-null  object        \n",
      " 3   Stop Resolution           46607 non-null  object        \n",
      " 4   Weapon Type               46607 non-null  object        \n",
      " 5   Officer ID                46607 non-null  object        \n",
      " 6   Officer Gender            46607 non-null  object        \n",
      " 7   Officer Race              46607 non-null  object        \n",
      " 8   Subject Perceived Race    46607 non-null  object        \n",
      " 9   Subject Perceived Gender  46607 non-null  object        \n",
      " 10  Reported Date             46607 non-null  datetime64[ns]\n",
      " 11  Reported Time             46607 non-null  object        \n",
      " 12  Initial Call Type         46607 non-null  object        \n",
      " 13  Final Call Type           46607 non-null  object        \n",
      " 14  Call Type                 46607 non-null  object        \n",
      " 15  Officer Squad             46607 non-null  object        \n",
      " 16  Precinct                  46607 non-null  object        \n",
      " 17  Sector                    46607 non-null  object        \n",
      " 18  Beat                      46607 non-null  object        \n",
      " 19  Subject Age (Est)         46607 non-null  float64       \n",
      " 20  Officer Age               46607 non-null  int32         \n",
      " 21  Weapon (Y/N)              46607 non-null  int32         \n",
      " 22  Repeat Offender (Y/N)     46607 non-null  int32         \n",
      " 23  Same Race (Y/N)           46607 non-null  int32         \n",
      " 24  Same Gender (Y/N)         46607 non-null  int32         \n",
      " 25  Arrest (Y/N)              46607 non-null  int32         \n",
      " 26  Frisk (Y/N)               46607 non-null  int32         \n",
      "dtypes: datetime64[ns](1), float64(1), int32(7), object(18)\n",
      "memory usage: 8.4+ MB\n"
     ]
    }
   ],
   "source": [
    "df.info()"
   ]
  },
  {
   "cell_type": "code",
   "execution_count": 12,
   "id": "d8b5e387",
   "metadata": {},
   "outputs": [
    {
     "name": "stdout",
     "output_type": "stream",
     "text": [
      "<class 'pandas.core.frame.DataFrame'>\n",
      "RangeIndex: 46607 entries, 0 to 46606\n",
      "Data columns (total 19 columns):\n",
      " #   Column                    Non-Null Count  Dtype         \n",
      "---  ------                    --------------  -----         \n",
      " 0   Reported Date             46607 non-null  datetime64[ns]\n",
      " 1   Subject Age (Est)         46607 non-null  float64       \n",
      " 2   Officer Age               46607 non-null  int32         \n",
      " 3   Weapon (Y/N)              46607 non-null  int32         \n",
      " 4   Repeat Offender (Y/N)     46607 non-null  int32         \n",
      " 5   Same Race (Y/N)           46607 non-null  int32         \n",
      " 6   Same Gender (Y/N)         46607 non-null  int32         \n",
      " 7   Arrest (Y/N)              46607 non-null  int32         \n",
      " 8   Frisk (Y/N)               46607 non-null  int32         \n",
      " 9   Subject Age Group         46607 non-null  object        \n",
      " 10  Stop Resolution           46607 non-null  object        \n",
      " 11  Weapon Type               46607 non-null  object        \n",
      " 12  Officer Gender            46607 non-null  object        \n",
      " 13  Officer Race              46607 non-null  object        \n",
      " 14  Subject Perceived Race    46607 non-null  object        \n",
      " 15  Subject Perceived Gender  46607 non-null  object        \n",
      " 16  Call Type                 46607 non-null  object        \n",
      " 17  Precinct                  46607 non-null  object        \n",
      " 18  Sector                    46607 non-null  object        \n",
      "dtypes: datetime64[ns](1), float64(1), int32(7), object(10)\n",
      "memory usage: 5.5+ MB\n"
     ]
    }
   ],
   "source": [
    "# Refine dataset to continuous and OHE values\n",
    "\n",
    "# Separate columns by type\n",
    "obj_columns = df.select_dtypes('object').columns\n",
    "continuous_columns = df.drop(obj_columns, axis=1).columns\n",
    "\n",
    "# Determine which columns are most valuable to OHE\n",
    "cols_to_ohe = []\n",
    "for col in obj_columns:\n",
    "    if len(df[col].value_counts().index) < 30:\n",
    "        cols_to_ohe.append(col)\n",
    "\n",
    "df_refined = pd.concat([df[continuous_columns], df[cols_to_ohe]], axis=1)\n",
    "df_refined.info()"
   ]
  },
  {
   "cell_type": "code",
   "execution_count": 13,
   "id": "8dada503",
   "metadata": {},
   "outputs": [
    {
     "data": {
      "image/png": "[encoded data removed]",
      "text/plain": [
       "<Figure size 1584x864 with 12 Axes>"
      ]
     },
     "metadata": {
      "needs_background": "light"
     },
     "output_type": "display_data"
    }
   ],
   "source": [
    "nrows = int(np.ceil(len(continuous_columns)/4))\n",
    "fig, axes = plt.subplots(ncols=4, nrows=nrows, figsize=(22, 4*nrows))\n",
    "\n",
    "for ax, col in zip(axes.flatten(), continuous_columns):\n",
    "    ax.hist(df_refined[col])\n",
    "    ax.set_title(col)"
   ]
  },
  {
   "cell_type": "markdown",
   "id": "0c57a01a",
   "metadata": {},
   "source": [
    "# Begin encoding and modeling"
   ]
  },
  {
   "cell_type": "code",
   "execution_count": 14,
   "id": "db6140cd",
   "metadata": {},
   "outputs": [],
   "source": [
    "# Split data\n",
    "y_label = 'Arrest (Y/N)'\n",
    "X = df_refined.drop([y_label, \n",
    "                     'Stop Resolution', \n",
    "                     'Frisk (Y/N)', \n",
    "                     'Reported Date', \n",
    "                     'Repeat Offender (Y/N)',\n",
    "                     'Subject Age Group'], axis=1)\n",
    "y = df_refined[y_label]\n",
    "\n",
    "X, X_test, y, y_test = train_test_split(X, y, random_state = RANDOM_STATE)\n",
    "\n",
    "# Remove temptation to touch test dataset\n",
    "test_data = {'X_test': X_test, 'y_test': y_test}\n",
    "with open (os.path.join(processed_data_path, 'test_data.pickle'), 'wb') as f:\n",
    "    pickle.dump (test_data, f)\n",
    "X_test = None\n",
    "y_test = None\n",
    "X.reset_index(drop=True, inplace=True)\n",
    "y.reset_index(drop=True, inplace=True)"
   ]
  },
  {
   "cell_type": "code",
   "execution_count": 15,
   "id": "f34fa0b3",
   "metadata": {},
   "outputs": [
    {
     "name": "stdout",
     "output_type": "stream",
     "text": [
      "<class 'pandas.core.frame.DataFrame'>\n",
      "RangeIndex: 34955 entries, 0 to 34954\n",
      "Data columns (total 13 columns):\n",
      " #   Column                    Non-Null Count  Dtype  \n",
      "---  ------                    --------------  -----  \n",
      " 0   Subject Age (Est)         34955 non-null  float64\n",
      " 1   Officer Age               34955 non-null  int32  \n",
      " 2   Weapon (Y/N)              34955 non-null  int32  \n",
      " 3   Same Race (Y/N)           34955 non-null  int32  \n",
      " 4   Same Gender (Y/N)         34955 non-null  int32  \n",
      " 5   Weapon Type               34955 non-null  object \n",
      " 6   Officer Gender            34955 non-null  object \n",
      " 7   Officer Race              34955 non-null  object \n",
      " 8   Subject Perceived Race    34955 non-null  object \n",
      " 9   Subject Perceived Gender  34955 non-null  object \n",
      " 10  Call Type                 34955 non-null  object \n",
      " 11  Precinct                  34955 non-null  object \n",
      " 12  Sector                    34955 non-null  object \n",
      "dtypes: float64(1), int32(4), object(8)\n",
      "memory usage: 2.9+ MB\n"
     ]
    }
   ],
   "source": [
    "X.info()"
   ]
  },
  {
   "cell_type": "code",
   "execution_count": 19,
   "id": "ced5dea6",
   "metadata": {},
   "outputs": [
    {
     "name": "stdout",
     "output_type": "stream",
     "text": [
      "0.6811012685576715\n",
      "0.7141592430697725\n"
     ]
    }
   ],
   "source": [
    "# ENCODE 'OBJECT' DATATYPES\n",
    "ohe = OneHotEncoder(drop='first', sparse=False)\n",
    "X_obj = X.select_dtypes(include='object')\n",
    "ohe.fit(X_obj)\n",
    "\n",
    "X_obj_ohe = ohe.transform(X_obj)\n",
    "col_names_ohe = ohe.get_feature_names(X_obj.columns)\n",
    "X_obj_ohe = pd.DataFrame(X_obj_ohe, columns = col_names_ohe)\n",
    "X_numeric = X.drop(X_obj.columns, axis=1)\n",
    "X_ohe_num = pd.concat([X_obj_ohe, X_numeric], axis=1)\n",
    "\n",
    "\n",
    "ss = StandardScaler()\n",
    "X_scaled = pd.DataFrame(ss.fit_transform(X_ohe_num), columns = X_ohe_num.columns)\n",
    "\n",
    "smote = SMOTE()\n",
    "X_resampled, y_resampled = smote.fit_resample(X_scaled, y)\n",
    "\n",
    "model = LogisticRegression(random_state=RANDOM_STATE, max_iter=1000)\n",
    "model.fit(X_resampled, y_resampled)\n",
    "\n",
    "print(accuracy_score(y_resampled, model.predict(X_resampled)))\n",
    "print(f1_score(y_resampled, model.predict(X_resampled)))"
   ]
  },
  {
   "cell_type": "code",
   "execution_count": 31,
   "id": "3daedab0",
   "metadata": {},
   "outputs": [
    {
     "name": "stdout",
     "output_type": "stream",
     "text": [
      "Accuracy: [0.67384259 0.68302469 0.68425926 0.6814569  0.67744425] 0.6800055385979904\n",
      "F1: [0.70455022 0.71704091 0.7172471  0.71671699 0.71052632] 0.7132163080045212\n"
     ]
    }
   ],
   "source": [
    "\n",
    "\n",
    "#cross_validate(model, X_resampled, y_resampled, cv=10, random_state=RANDOM_STATE)['test_score']\n",
    "cv = KFold(n_splits=5, shuffle=True, random_state=RANDOM_STATE)\n",
    "acc = cross_val_score(model, X_resampled, y_resampled, cv=cv, scoring='accuracy')\n",
    "f1 = cross_val_score(model, X_resampled, y_resampled, cv=cv, scoring='f1')\n",
    "print('Accuracy:', acc, acc.mean())\n",
    "print('F1:', f1, f1.mean())\n"
   ]
  },
  {
   "cell_type": "code",
   "execution_count": null,
   "id": "9fec7289",
   "metadata": {},
   "outputs": [],
   "source": [
    "# ohe = OneHotEncoder(drop='first')\n",
    "# ss = StandardScaler()\n",
    "\n",
    "# smote = SMOTE(random_state=RANDOM_STATE)\n",
    "# #X_resampled, y_resampled = smote.fit_resample(X, y)\n",
    "\n",
    "\n",
    "# string_selector = make_column_selector(dtype_include='object')\n",
    "# number_selector = make_column_selector(dtype_exclude=['object', 'datetime'])\n",
    "\n",
    "\n",
    "# preprocessor = make_column_transformer((ohe, string_selector), (ss, number_selector))\n",
    "# preprocessor.fit(X, y)\n",
    "\n",
    "# model = LogisticRegression(random_state=RANDOM_STATE, max_iter=1000)\n",
    "# pipeline = make_pipeline(preprocessor, model)\n",
    "# pipeline.fit(X_resampled, y_resampled)\n",
    "# print('Train:', pipeline.score(X_resampled, y_resampled))\n",
    "\n",
    "\n",
    "# model = KNeighborsClassifier(leaf_size=5, n_neighbors=5)\n",
    "# pipeline = make_pipeline(preprocessor, model)\n",
    "# pipeline.fit(X, y)\n",
    "# print('Train:', pipeline.score(X, y))"
   ]
  },
  {
   "cell_type": "markdown",
   "id": "3aaf138a",
   "metadata": {},
   "source": [
    "# To do\n",
    "\n",
    "- Once a model is selected, how should the results be presented?\n",
    "    - Can also look into what the error is for each side of the decision\n",
    "    - Back up any sort of conclusion with hypothesis testing\n",
    "    - If it is a tree-based model, consider printing out the graphical representation of the tree that was used\n",
    "    - Regarding how to gain meaning from results:\n",
    "        - Perhaps use hypothesis testing to see extent of results\n",
    "        - If linear model: bootstrapping can be used to get coefficients - discuss in 1-on-1 next week. \n",
    "        - If non-linear (non-parametric) models: once final model is selected, run it again without race (e.g.) to see how error changes. Also see how much the error changes when dropping other features?\n",
    "    - Could also use step-forward (e.g.) feature selection function that was implemented in the lab project. Make sure to change from R2 eval metric to F1 (or whatever I end up using). Also make sure this is looking at the result on validation data, not just overall data (reduce overfitting). \n",
    "- Plan going forward:\n",
    "    - Complete feature engineering in progress above\n",
    "    - Implement cross-val score and avoid using testing data at all until final model is selected\n",
    "    - Implement ModelHistory class \n",
    "    - Try random forest and KNN models, including grid search\n",
    "    - Compare results, decide on best model"
   ]
  }
 ],
 "metadata": {
  "kernelspec": {
   "display_name": "learn-env",
   "language": "python",
   "name": "learn-env"
  },
  "language_info": {
   "codemirror_mode": {
    "name": "ipython",
    "version": 3
   },
   "file_extension": ".py",
   "mimetype": "text/x-python",
   "name": "python",
   "nbconvert_exporter": "python",
   "pygments_lexer": "ipython3",
   "version": "3.8.3"
  }
 },
 "nbformat": 4,
 "nbformat_minor": 5
}
