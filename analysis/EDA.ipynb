{
 "cells": [
  {
   "cell_type": "markdown",
   "id": "04b806ef",
   "metadata": {},
   "source": [
    "https://data.seattle.gov/Public-Safety/Terry-Stops/28ny-9ts8"
   ]
  },
  {
   "cell_type": "code",
   "execution_count": 1,
   "id": "2804b60e",
   "metadata": {},
   "outputs": [],
   "source": [
    "import pandas as pd\n",
    "import numpy as np\n",
    "import matplotlib.pyplot as plt\n",
    "import seaborn as sns\n",
    "import os, sys\n",
    "\n",
    "from custom_functions import *\n",
    "from datetime import time\n",
    "from sklearn.pipeline import make_pipeline, Pipeline\n",
    "from sklearn.model_selection import train_test_split\n",
    "from sklearn.preprocessing import OneHotEncoder, LabelEncoder\n",
    "from sklearn.compose import make_column_selector, make_column_transformer\n",
    "from sklearn.linear_model import LogisticRegression\n",
    "from sklearn.neighbors import KNeighborsClassifier\n",
    "from sklearn.preprocessing import StandardScaler\n",
    "\n",
    "%load_ext autoreload\n",
    "%autoreload 2\n",
    "%matplotlib inline\n",
    "pd.set_option('display.max_columns', 100)\n",
    "\n",
    "RANDOM_STATE = 100"
   ]
  },
  {
   "cell_type": "code",
   "execution_count": 2,
   "id": "031e8a70",
   "metadata": {},
   "outputs": [],
   "source": [
    "path = os.path.join('..', 'data', 'raw', 'terry-stops.csv')\n",
    "df = pd.read_csv(path, dtype='str')\n",
    "\n",
    "# Strip spaces, as relevant\n",
    "for col in df.columns:\n",
    "    df[col] = df[col].str.strip()"
   ]
  },
  {
   "cell_type": "code",
   "execution_count": 3,
   "id": "65b160e4",
   "metadata": {},
   "outputs": [
    {
     "name": "stdout",
     "output_type": "stream",
     "text": [
      "<class 'pandas.core.frame.DataFrame'>\n",
      "RangeIndex: 47213 entries, 0 to 47212\n",
      "Data columns (total 23 columns):\n",
      " #   Column                    Non-Null Count  Dtype \n",
      "---  ------                    --------------  ----- \n",
      " 0   Subject Age Group         47213 non-null  object\n",
      " 1   Subject ID                47213 non-null  object\n",
      " 2   GO / SC Num               47213 non-null  object\n",
      " 3   Terry Stop ID             47213 non-null  object\n",
      " 4   Stop Resolution           47213 non-null  object\n",
      " 5   Weapon Type               47213 non-null  object\n",
      " 6   Officer ID                47213 non-null  object\n",
      " 7   Officer YOB               47213 non-null  object\n",
      " 8   Officer Gender            47213 non-null  object\n",
      " 9   Officer Race              47213 non-null  object\n",
      " 10  Subject Perceived Race    47213 non-null  object\n",
      " 11  Subject Perceived Gender  47213 non-null  object\n",
      " 12  Reported Date             47213 non-null  object\n",
      " 13  Reported Time             47213 non-null  object\n",
      " 14  Initial Call Type         47213 non-null  object\n",
      " 15  Final Call Type           47213 non-null  object\n",
      " 16  Call Type                 47213 non-null  object\n",
      " 17  Officer Squad             46609 non-null  object\n",
      " 18  Arrest Flag               47213 non-null  object\n",
      " 19  Frisk Flag                47213 non-null  object\n",
      " 20  Precinct                  47213 non-null  object\n",
      " 21  Sector                    47213 non-null  object\n",
      " 22  Beat                      47213 non-null  object\n",
      "dtypes: object(23)\n",
      "memory usage: 8.3+ MB\n"
     ]
    }
   ],
   "source": [
    "df.info()"
   ]
  },
  {
   "cell_type": "code",
   "execution_count": 24,
   "id": "84c0b213",
   "metadata": {},
   "outputs": [
    {
     "data": {
      "text/plain": [
       "None                                    37461\n",
       "Lethal Cutting Instrument                1327\n",
       "Knife/Cutting/Stabbing Instrument         509\n",
       "Handgun                                   245\n",
       "Firearm                                   141\n",
       "Blunt Object/Striking Implement            68\n",
       "Club, Blackjack, Brass Knuckles            52\n",
       "Mace/Pepper Spray                          20\n",
       "Taser/Stun Gun                             10\n",
       "Rifle                                       8\n",
       "Fire/Incendiary Device                      5\n",
       "Automatic Handgun                           2\n",
       "Personal Weapons (hands, feet, etc.)        2\n",
       "Name: Weapon Type, dtype: int64"
      ]
     },
     "execution_count": 24,
     "metadata": {},
     "output_type": "execute_result"
    }
   ],
   "source": [
    "df['Weapon Type'].value_counts()"
   ]
  },
  {
   "cell_type": "code",
   "execution_count": 23,
   "id": "9ac93a48",
   "metadata": {},
   "outputs": [
    {
     "ename": "KeyError",
     "evalue": "'Subject ID'",
     "output_type": "error",
     "traceback": [
      "\u001b[1;31m---------------------------------------------------------------------------\u001b[0m",
      "\u001b[1;31mKeyError\u001b[0m                                  Traceback (most recent call last)",
      "\u001b[1;32m~\\anaconda3\\lib\\site-packages\\pandas\\core\\indexes\\base.py\u001b[0m in \u001b[0;36mget_loc\u001b[1;34m(self, key, method, tolerance)\u001b[0m\n\u001b[0;32m   3079\u001b[0m             \u001b[1;32mtry\u001b[0m\u001b[1;33m:\u001b[0m\u001b[1;33m\u001b[0m\u001b[1;33m\u001b[0m\u001b[0m\n\u001b[1;32m-> 3080\u001b[1;33m                 \u001b[1;32mreturn\u001b[0m \u001b[0mself\u001b[0m\u001b[1;33m.\u001b[0m\u001b[0m_engine\u001b[0m\u001b[1;33m.\u001b[0m\u001b[0mget_loc\u001b[0m\u001b[1;33m(\u001b[0m\u001b[0mcasted_key\u001b[0m\u001b[1;33m)\u001b[0m\u001b[1;33m\u001b[0m\u001b[1;33m\u001b[0m\u001b[0m\n\u001b[0m\u001b[0;32m   3081\u001b[0m             \u001b[1;32mexcept\u001b[0m \u001b[0mKeyError\u001b[0m \u001b[1;32mas\u001b[0m \u001b[0merr\u001b[0m\u001b[1;33m:\u001b[0m\u001b[1;33m\u001b[0m\u001b[1;33m\u001b[0m\u001b[0m\n",
      "\u001b[1;32mpandas\\_libs\\index.pyx\u001b[0m in \u001b[0;36mpandas._libs.index.IndexEngine.get_loc\u001b[1;34m()\u001b[0m\n",
      "\u001b[1;32mpandas\\_libs\\index.pyx\u001b[0m in \u001b[0;36mpandas._libs.index.IndexEngine.get_loc\u001b[1;34m()\u001b[0m\n",
      "\u001b[1;32mpandas\\_libs\\hashtable_class_helper.pxi\u001b[0m in \u001b[0;36mpandas._libs.hashtable.PyObjectHashTable.get_item\u001b[1;34m()\u001b[0m\n",
      "\u001b[1;32mpandas\\_libs\\hashtable_class_helper.pxi\u001b[0m in \u001b[0;36mpandas._libs.hashtable.PyObjectHashTable.get_item\u001b[1;34m()\u001b[0m\n",
      "\u001b[1;31mKeyError\u001b[0m: 'Subject ID'",
      "\nThe above exception was the direct cause of the following exception:\n",
      "\u001b[1;31mKeyError\u001b[0m                                  Traceback (most recent call last)",
      "\u001b[1;32m<ipython-input-23-ac3da2c0937c>\u001b[0m in \u001b[0;36m<module>\u001b[1;34m\u001b[0m\n\u001b[0;32m      7\u001b[0m \u001b[1;33m\u001b[0m\u001b[0m\n\u001b[0;32m      8\u001b[0m \u001b[1;31m# Subject ID\u001b[0m\u001b[1;33m\u001b[0m\u001b[1;33m\u001b[0m\u001b[1;33m\u001b[0m\u001b[0m\n\u001b[1;32m----> 9\u001b[1;33m \u001b[0mdf\u001b[0m\u001b[1;33m[\u001b[0m\u001b[1;34m'Subject ID'\u001b[0m\u001b[1;33m]\u001b[0m\u001b[1;33m.\u001b[0m\u001b[0mreplace\u001b[0m\u001b[1;33m(\u001b[0m\u001b[1;34m'-1'\u001b[0m\u001b[1;33m,\u001b[0m \u001b[0mUNKNOWN\u001b[0m\u001b[1;33m,\u001b[0m \u001b[0minplace\u001b[0m\u001b[1;33m=\u001b[0m\u001b[1;32mTrue\u001b[0m\u001b[1;33m)\u001b[0m\u001b[1;33m\u001b[0m\u001b[1;33m\u001b[0m\u001b[0m\n\u001b[0m\u001b[0;32m     10\u001b[0m \u001b[1;33m\u001b[0m\u001b[0m\n\u001b[0;32m     11\u001b[0m \u001b[1;31m# Weapon Type\u001b[0m\u001b[1;33m\u001b[0m\u001b[1;33m\u001b[0m\u001b[1;33m\u001b[0m\u001b[0m\n",
      "\u001b[1;32m~\\anaconda3\\lib\\site-packages\\pandas\\core\\frame.py\u001b[0m in \u001b[0;36m__getitem__\u001b[1;34m(self, key)\u001b[0m\n\u001b[0;32m   3022\u001b[0m             \u001b[1;32mif\u001b[0m \u001b[0mself\u001b[0m\u001b[1;33m.\u001b[0m\u001b[0mcolumns\u001b[0m\u001b[1;33m.\u001b[0m\u001b[0mnlevels\u001b[0m \u001b[1;33m>\u001b[0m \u001b[1;36m1\u001b[0m\u001b[1;33m:\u001b[0m\u001b[1;33m\u001b[0m\u001b[1;33m\u001b[0m\u001b[0m\n\u001b[0;32m   3023\u001b[0m                 \u001b[1;32mreturn\u001b[0m \u001b[0mself\u001b[0m\u001b[1;33m.\u001b[0m\u001b[0m_getitem_multilevel\u001b[0m\u001b[1;33m(\u001b[0m\u001b[0mkey\u001b[0m\u001b[1;33m)\u001b[0m\u001b[1;33m\u001b[0m\u001b[1;33m\u001b[0m\u001b[0m\n\u001b[1;32m-> 3024\u001b[1;33m             \u001b[0mindexer\u001b[0m \u001b[1;33m=\u001b[0m \u001b[0mself\u001b[0m\u001b[1;33m.\u001b[0m\u001b[0mcolumns\u001b[0m\u001b[1;33m.\u001b[0m\u001b[0mget_loc\u001b[0m\u001b[1;33m(\u001b[0m\u001b[0mkey\u001b[0m\u001b[1;33m)\u001b[0m\u001b[1;33m\u001b[0m\u001b[1;33m\u001b[0m\u001b[0m\n\u001b[0m\u001b[0;32m   3025\u001b[0m             \u001b[1;32mif\u001b[0m \u001b[0mis_integer\u001b[0m\u001b[1;33m(\u001b[0m\u001b[0mindexer\u001b[0m\u001b[1;33m)\u001b[0m\u001b[1;33m:\u001b[0m\u001b[1;33m\u001b[0m\u001b[1;33m\u001b[0m\u001b[0m\n\u001b[0;32m   3026\u001b[0m                 \u001b[0mindexer\u001b[0m \u001b[1;33m=\u001b[0m \u001b[1;33m[\u001b[0m\u001b[0mindexer\u001b[0m\u001b[1;33m]\u001b[0m\u001b[1;33m\u001b[0m\u001b[1;33m\u001b[0m\u001b[0m\n",
      "\u001b[1;32m~\\anaconda3\\lib\\site-packages\\pandas\\core\\indexes\\base.py\u001b[0m in \u001b[0;36mget_loc\u001b[1;34m(self, key, method, tolerance)\u001b[0m\n\u001b[0;32m   3080\u001b[0m                 \u001b[1;32mreturn\u001b[0m \u001b[0mself\u001b[0m\u001b[1;33m.\u001b[0m\u001b[0m_engine\u001b[0m\u001b[1;33m.\u001b[0m\u001b[0mget_loc\u001b[0m\u001b[1;33m(\u001b[0m\u001b[0mcasted_key\u001b[0m\u001b[1;33m)\u001b[0m\u001b[1;33m\u001b[0m\u001b[1;33m\u001b[0m\u001b[0m\n\u001b[0;32m   3081\u001b[0m             \u001b[1;32mexcept\u001b[0m \u001b[0mKeyError\u001b[0m \u001b[1;32mas\u001b[0m \u001b[0merr\u001b[0m\u001b[1;33m:\u001b[0m\u001b[1;33m\u001b[0m\u001b[1;33m\u001b[0m\u001b[0m\n\u001b[1;32m-> 3082\u001b[1;33m                 \u001b[1;32mraise\u001b[0m \u001b[0mKeyError\u001b[0m\u001b[1;33m(\u001b[0m\u001b[0mkey\u001b[0m\u001b[1;33m)\u001b[0m \u001b[1;32mfrom\u001b[0m \u001b[0merr\u001b[0m\u001b[1;33m\u001b[0m\u001b[1;33m\u001b[0m\u001b[0m\n\u001b[0m\u001b[0;32m   3083\u001b[0m \u001b[1;33m\u001b[0m\u001b[0m\n\u001b[0;32m   3084\u001b[0m         \u001b[1;32mif\u001b[0m \u001b[0mtolerance\u001b[0m \u001b[1;32mis\u001b[0m \u001b[1;32mnot\u001b[0m \u001b[1;32mNone\u001b[0m\u001b[1;33m:\u001b[0m\u001b[1;33m\u001b[0m\u001b[1;33m\u001b[0m\u001b[0m\n",
      "\u001b[1;31mKeyError\u001b[0m: 'Subject ID'"
     ]
    }
   ],
   "source": [
    "# ------ CLEAN DATA ONE COLUMN AT A TIME -------\n",
    "UNKNOWN = 'Not provided'\n",
    "\n",
    "\n",
    "# Subject Age Group\n",
    "df['Subject Age Group'].replace('-', UNKNOWN, inplace=True)\n",
    "\n",
    "# Subject ID\n",
    "df['Subject ID'].replace('-1', UNKNOWN, inplace=True)\n",
    "\n",
    "# Weapon Type\n",
    "df['Weapon Type'].replace('-', 'None', inplace=True)\n",
    "df['Weapon Type'].replace('Firearm Other', 'Firearm', inplace=True)\n",
    "df['Weapon Type'].replace('Other Firearm', 'Firearm', inplace=True)\n",
    "df['Weapon Type'].replace('Firearm (unk type)', 'Firearm', inplace=True)\n",
    "df['Weapon Type'].replace('None/Not Applicable', 'None', inplace=True)\n",
    "df['Weapon Type'].replace('Brass Knuckles', 'Club, Blackjack, Brass Knuckles', inplace=True)\n",
    "df['Weapon Type'].replace('Blackjack', 'Club, Blackjack, Brass Knuckles', inplace=True)\n",
    "df['Weapon Type'].replace('Club', 'Club, Blackjack, Brass Knuckles', inplace=True)\n",
    "df['Weapon Type'].replace('Shotgun', 'Rifle', inplace=True)\n",
    "\n",
    "\n",
    "# FURTHER REFINING OF WEAPON TYPE (NEW)\n",
    "df['Weapon Type'].replace('Lethal Cutting Instrument', 'Knife', inplace=True)\n",
    "df['Weapon Type'].replace('Knife/Cutting/Stabbing Instument', 'Knife', inplace=True)\n",
    "\n",
    "\n",
    "# Officer Year of Birth\n",
    "df['Officer YOB'] = df['Officer YOB'].astype('int')\n",
    "\n",
    "# Officer Race\n",
    "df['Officer Race'].replace('Unknown', np.nan, inplace=True)\n",
    "df['Officer Race'].replace('Not Specified', np.nan, inplace=True)\n",
    "\n",
    "# Subject Perceived Race\n",
    "df['Subject Perceived Race'].replace('-', np.nan, inplace=True)\n",
    "df['Subject Perceived Race'].replace('Other', np.nan, inplace=True)\n",
    "df['Subject Perceived Race'].replace('Unknown', np.nan, inplace=True)\n",
    "\n",
    "\n",
    "# Subject Perceived Gender\n",
    "df['Subject Perceived Gender'].replace('Unable to Determine', np.nan, inplace=True)\n",
    "df['Subject Perceived Gender'].replace('-', np.nan, inplace=True)\n",
    "df['Subject Perceived Gender'].replace('Unknown', np.nan, inplace=True)\n",
    "df['Subject Perceived Gender'].replace('Male', 'M', inplace=True)\n",
    "df['Subject Perceived Gender'].replace('Female', 'F', inplace=True)\n",
    "# Regarding below line: only 4 individuals remained in the non-binary category after dropping rows with na's in relevant fields\n",
    "# I'm reluctant to remove this category given the potential to investigate one tiny aspect of the societal bias against \n",
    "# non-binary folks. However, with a sample size of 4, it is not statistically significant enough to provide meaningful results\n",
    "df['Subject Perceived Gender'].replace('Gender Diverse (gender non-conforming and/or transgender)', np.nan, inplace=True)\n",
    "\n",
    "\n",
    "# Reported Date\n",
    "df['Reported Date'] = df['Reported Date'].astype('datetime64')\n",
    "\n",
    "# Exclude for now simply because datetime.time shows up as 'object' type during ohe, which caused problems downstream\n",
    "#if 'datetime.time' not in str(type(df['Reported Time'][0])): # Use if statement to avoid error when re-running\n",
    "#    df['Reported Time'] = [time.fromisoformat(t) for t in df['Reported Time']]\n",
    "\n",
    "# Reported Time\n",
    "df['Reported Hour'] = [int(x[:2]) for x in df['Reported Time']]\n",
    "    \n",
    "# Call Type\n",
    "df['Call Type'].replace('TEXT MESSAGE', '-', inplace=True)\n",
    "df['Call Type'].replace('SCHEDULED EVENT (RECURRING)', '-', inplace=True)\n",
    "    \n",
    "# Frisk Flag\n",
    "df['Frisk Flag'].replace('-', np.nan, inplace=True)\n",
    "\n",
    "# Precinct\n",
    "df['Precinct'].replace('-', 'Unknown', inplace=True)\n",
    "df['Precinct'].replace('FK ERROR', 'Unknown', inplace=True)\n",
    "#df['Precinct'].replace('OOJ', 'Unknown', inplace=True)\n",
    "df['Precinct'].replace('SouthWest', 'Southwest', inplace=True)\n",
    "\n",
    "# Sector\n",
    "df['Sector'].replace('99', '-', inplace=True)\n",
    "\n",
    "# Beat\n",
    "df['Beat'].replace('S', '-', inplace=True)\n",
    "df['Beat'].replace('99', '-', inplace=True)\n",
    "\n",
    "\n",
    "# Categorize \"Call Types\". Variable used to create dictionary in CSV\n",
    "call_types = pd.concat([df['Call Type'], df['Initial Call Type'], df['Final Call Type']]).value_counts().keys().values\n",
    "path = os.path.join('..', 'data', 'categorize call types.csv')\n",
    "call_type_dictionary = pd.read_csv(path)\n",
    "call_type_dictionary = dict(zip(call_type_dictionary.iloc[:, 0], call_type_dictionary.iloc[:, 1]))\n",
    "\n",
    "\n",
    "    \n",
    "#--- INCOMPLETE!\n",
    "df['Initial Call Type'] = df['Initial Call Type'].map(call_type_dictionary)\n",
    "df['Final Call Type'] = df['Final Call Type'].map(call_type_dictionary)\n",
    "df['Call Type'] = df['Call Type'].map(call_type_dictionary)\n"
   ]
  },
  {
   "cell_type": "code",
   "execution_count": 5,
   "id": "48415db7",
   "metadata": {},
   "outputs": [],
   "source": [
    "# Engineer new features\n",
    "\n",
    "# Calculate Officer Age\n",
    "if 'Officer YOB' in df.columns:\n",
    "    df['Officer Age'] = df['Reported Date'].apply(lambda x: x.year) - df['Officer YOB']\n",
    "    df['Officer Age'] = df['Officer Age'].apply(lambda x: np.nan if x > 100 else x)\n",
    "    df.drop('Officer YOB', axis=1, inplace=True)\n",
    "\n",
    "    \n",
    "# Determine whether or not weapon was involved\n",
    "#has_weapon = lambda x: 'No' if x == 'None' else 'Yes'\n",
    "df['Weapon (Y/N)'] = (df['Weapon Type'] != 'None').astype('int')\n",
    "\n",
    "\n",
    "# Calculate the number of stops per subject\n",
    "if 'Subject ID' in df.columns:\n",
    "    offense_ct_dict = dict(df['Subject ID'].value_counts())\n",
    "    df['Offense Count'] = df['Subject ID'].map(offense_ct_dict)\n",
    "    # Identify whether a subject has been involved in multiple stops\n",
    "    df['Repeat Offender (Y/N)'] = (df['Offense Count'] > 1).astype('int')\n",
    "    # Drop \"Offense Count\" for now given the number of missing values\n",
    "    if 'Offense Count' in df:\n",
    "        df.drop('Offense Count', axis=1, inplace=True)\n",
    "    df.drop('Subject ID', axis=1, inplace=True)\n",
    "\n",
    "\n",
    "\n",
    "\n",
    "# Identify whether race of officer is same as race of subject\n",
    "df['Same Race (Y/N)'] = (df['Officer Race'] == df['Subject Perceived Race']).astype('int')\n",
    "\n",
    "# Identify whether gender of officer is same as gender of subject\n",
    "df['Same Gender (Y/N)'] = (df['Officer Gender'] == df['Subject Perceived Gender']).astype('int')"
   ]
  },
  {
   "cell_type": "code",
   "execution_count": 6,
   "id": "d82b2a7a",
   "metadata": {},
   "outputs": [],
   "source": [
    "# Rename columns and drop 'na' rows\n",
    "if 'Arrest Flag' in df.columns:\n",
    "    df['Arrest (Y/N)'] = (df['Arrest Flag'] == 'Y').astype('int')\n",
    "    df.drop('Arrest Flag', axis=1, inplace=True)\n",
    "    \n",
    "if 'Frisk Flag' in df.columns:\n",
    "    df['Frisk (Y/N)'] = (df['Frisk Flag'] == 'Y').astype('int')\n",
    "    df.drop('Frisk Flag', axis=1, inplace=True)\n",
    "\n",
    "# Remove missing values and reset index\n",
    "#df.dropna(inplace=True)\n",
    "df.reset_index(inplace=True, drop=True)\n",
    "df.dropna(inplace=True)\n",
    "df['Officer Age'] = df['Officer Age'].astype('int')"
   ]
  },
  {
   "cell_type": "markdown",
   "id": "985ba4ac",
   "metadata": {},
   "source": [
    "# Graphical EDA"
   ]
  },
  {
   "cell_type": "code",
   "execution_count": 7,
   "id": "53d6105b",
   "metadata": {
    "tags": []
   },
   "outputs": [
    {
     "data": {
      "image/png": "[encoded data removed]",
      "text/plain": [
       "<Figure size 1152x288 with 2 Axes>"
      ]
     },
     "metadata": {},
     "output_type": "display_data"
    },
    {
     "name": "stdout",
     "output_type": "stream",
     "text": [
      "  Subject Perceived Gender  Arrest (Y/N)  Frisk (Y/N)\n",
      "1                        M          2515         8007\n",
      "0                        F           531          927\n",
      "--------------------------------------------------------------------\n",
      "\n",
      "\n"
     ]
    }
   ],
   "source": [
    "# BAR GRAPHS FOR ***AVERAGE OR SUM*** OF METRICS\n",
    "\n",
    "df_graphical = pd.concat([df, pd.get_dummies(df['Stop Resolution'], prefix='Resolution')], axis=1)\n",
    "\n",
    "# Average metrics by age group\n",
    "x_axis = 'Subject Age Group'\n",
    "y_axis = ['Arrest (Y/N)', 'Frisk (Y/N)']#, 'Resolution_Arrest', 'Resolution_Citation / Infraction', 'Resolution_Field Contact', 'Resolution_Offense Report', 'Resolution_Referred for Prosecution']\n",
    "#bar_plot(df_graphical, x_axis, y_axis, 'mean', verbose=False)\n",
    "\n",
    "# Average metrics by subject race\n",
    "x_axis = 'Subject Perceived Race'\n",
    "#y_axis = ['Resolution_Arrest', 'Resolution_Citation / Infraction', 'Resolution_Field Contact', 'Resolution_Offense Report', 'Resolution_Referred for Prosecution']\n",
    "#bar_plot(df_graphical, x_axis, y_axis, 'sum', verbose=True)\n",
    "\n",
    "# Gender metrics\n",
    "x_axis = 'Subject Perceived Gender'\n",
    "y_axis = ['Arrest (Y/N)', 'Frisk (Y/N)']\n",
    "bar_plot(df_graphical, x_axis, y_axis, 'sum', verbose=True)\n",
    "\n",
    "# Officer race\n",
    "x_axis = 'Officer Race'\n",
    "#bar_plot(df_graphical, x_axis, y_axis, 'mean',verbose=True)\n",
    "\n",
    "# Officer gender\n",
    "x_axis = 'Officer Gender'\n",
    "#bar_plot(df_graphical, x_axis, y_axis, 'mean', verbose=True)\n",
    "\n",
    "# Officer gender\n",
    "x_axis = 'Officer Age'\n",
    "#bar_plot(df_graphical, x_axis, y_axis, 'mean', verbose=True)"
   ]
  },
  {
   "cell_type": "code",
   "execution_count": 8,
   "id": "e1fce040",
   "metadata": {},
   "outputs": [
    {
     "name": "stdout",
     "output_type": "stream",
     "text": [
      "<class 'pandas.core.frame.DataFrame'>\n",
      "Int64Index: 39850 entries, 1096 to 47212\n",
      "Data columns (total 27 columns):\n",
      " #   Column                    Non-Null Count  Dtype         \n",
      "---  ------                    --------------  -----         \n",
      " 0   Subject Age Group         39850 non-null  object        \n",
      " 1   GO / SC Num               39850 non-null  object        \n",
      " 2   Terry Stop ID             39850 non-null  object        \n",
      " 3   Stop Resolution           39850 non-null  object        \n",
      " 4   Weapon Type               39850 non-null  object        \n",
      " 5   Officer ID                39850 non-null  object        \n",
      " 6   Officer Gender            39850 non-null  object        \n",
      " 7   Officer Race              39850 non-null  object        \n",
      " 8   Subject Perceived Race    39850 non-null  object        \n",
      " 9   Subject Perceived Gender  39850 non-null  object        \n",
      " 10  Reported Date             39850 non-null  datetime64[ns]\n",
      " 11  Reported Time             39850 non-null  object        \n",
      " 12  Initial Call Type         39850 non-null  object        \n",
      " 13  Final Call Type           39850 non-null  object        \n",
      " 14  Call Type                 39850 non-null  object        \n",
      " 15  Officer Squad             39850 non-null  object        \n",
      " 16  Precinct                  39850 non-null  object        \n",
      " 17  Sector                    39850 non-null  object        \n",
      " 18  Beat                      39850 non-null  object        \n",
      " 19  Reported Hour             39850 non-null  int64         \n",
      " 20  Officer Age               39850 non-null  int32         \n",
      " 21  Weapon (Y/N)              39850 non-null  int32         \n",
      " 22  Repeat Offender (Y/N)     39850 non-null  int32         \n",
      " 23  Same Race (Y/N)           39850 non-null  int32         \n",
      " 24  Same Gender (Y/N)         39850 non-null  int32         \n",
      " 25  Arrest (Y/N)              39850 non-null  int32         \n",
      " 26  Frisk (Y/N)               39850 non-null  int32         \n",
      "dtypes: datetime64[ns](1), int32(7), int64(1), object(18)\n",
      "memory usage: 7.4+ MB\n"
     ]
    }
   ],
   "source": [
    "df.info()"
   ]
  },
  {
   "cell_type": "markdown",
   "id": "01e7da1b",
   "metadata": {},
   "source": [
    "# Refine dataset to begin modeling"
   ]
  },
  {
   "cell_type": "code",
   "execution_count": 9,
   "id": "80927d57",
   "metadata": {},
   "outputs": [
    {
     "name": "stdout",
     "output_type": "stream",
     "text": [
      "<class 'pandas.core.frame.DataFrame'>\n",
      "Int64Index: 39850 entries, 1096 to 47212\n",
      "Data columns (total 19 columns):\n",
      " #   Column                    Non-Null Count  Dtype         \n",
      "---  ------                    --------------  -----         \n",
      " 0   Reported Date             39850 non-null  datetime64[ns]\n",
      " 1   Reported Hour             39850 non-null  int64         \n",
      " 2   Officer Age               39850 non-null  int32         \n",
      " 3   Weapon (Y/N)              39850 non-null  int32         \n",
      " 4   Repeat Offender (Y/N)     39850 non-null  int32         \n",
      " 5   Same Race (Y/N)           39850 non-null  int32         \n",
      " 6   Same Gender (Y/N)         39850 non-null  int32         \n",
      " 7   Arrest (Y/N)              39850 non-null  int32         \n",
      " 8   Frisk (Y/N)               39850 non-null  int32         \n",
      " 9   Subject Age Group         39850 non-null  object        \n",
      " 10  Stop Resolution           39850 non-null  object        \n",
      " 11  Weapon Type               39850 non-null  object        \n",
      " 12  Officer Gender            39850 non-null  object        \n",
      " 13  Officer Race              39850 non-null  object        \n",
      " 14  Subject Perceived Race    39850 non-null  object        \n",
      " 15  Subject Perceived Gender  39850 non-null  object        \n",
      " 16  Call Type                 39850 non-null  object        \n",
      " 17  Precinct                  39850 non-null  object        \n",
      " 18  Sector                    39850 non-null  object        \n",
      "dtypes: datetime64[ns](1), int32(7), int64(1), object(10)\n",
      "memory usage: 5.0+ MB\n"
     ]
    }
   ],
   "source": [
    "# Refine dataset to continuous and OHE values\n",
    "\n",
    "# Separate columns by type\n",
    "obj_columns = df.select_dtypes('object').columns\n",
    "continuous_columns = df.drop(obj_columns, axis=1).columns\n",
    "\n",
    "# Determine which columns are most valuable to OHE\n",
    "cols_to_ohe = []\n",
    "for col in obj_columns:\n",
    "    if len(df[col].value_counts().index) < 30:\n",
    "        cols_to_ohe.append(col)\n",
    "\n",
    "df_refined = pd.concat([df[continuous_columns], df[cols_to_ohe]], axis=1)\n",
    "df_refined.info()"
   ]
  },
  {
   "cell_type": "code",
   "execution_count": 10,
   "id": "96c13d5a",
   "metadata": {},
   "outputs": [
    {
     "data": {
      "image/png": "[encoded data removed]",
      "text/plain": [
       "<Figure size 1584x864 with 12 Axes>"
      ]
     },
     "metadata": {
      "needs_background": "light"
     },
     "output_type": "display_data"
    }
   ],
   "source": [
    "nrows = int(np.ceil(len(continuous_columns)/4))\n",
    "fig, axes = plt.subplots(ncols=4, nrows=nrows, figsize=(22, 4*nrows))\n",
    "\n",
    "for ax, col in zip(axes.flatten(), continuous_columns):\n",
    "    ax.hist(df_refined[col])\n",
    "    ax.set_title(col)"
   ]
  },
  {
   "cell_type": "markdown",
   "id": "c791e4fb",
   "metadata": {},
   "source": [
    "### Begin encoding and modeling"
   ]
  },
  {
   "cell_type": "code",
   "execution_count": 19,
   "id": "9fc68665",
   "metadata": {},
   "outputs": [],
   "source": [
    "# Split data\n",
    "y_label = 'Arrest (Y/N)'\n",
    "X = df_refined.drop([y_label, 'Stop Resolution', 'Frisk (Y/N)', \n",
    "                     'Call Type', 'Reported Date', 'Reported Hour'], axis=1)\n",
    "y = df_refined[y_label]\n",
    "\n",
    "X_train, X_test, y_train, y_test = train_test_split(X, y, random_state = RANDOM_STATE)"
   ]
  },
  {
   "cell_type": "code",
   "execution_count": 20,
   "id": "cd133dae",
   "metadata": {},
   "outputs": [
    {
     "name": "stdout",
     "output_type": "stream",
     "text": [
      "<class 'pandas.core.frame.DataFrame'>\n",
      "Int64Index: 29887 entries, 18322 to 45585\n",
      "Data columns (total 13 columns):\n",
      " #   Column                    Non-Null Count  Dtype \n",
      "---  ------                    --------------  ----- \n",
      " 0   Officer Age               29887 non-null  int32 \n",
      " 1   Weapon (Y/N)              29887 non-null  int32 \n",
      " 2   Repeat Offender (Y/N)     29887 non-null  int32 \n",
      " 3   Same Race (Y/N)           29887 non-null  int32 \n",
      " 4   Same Gender (Y/N)         29887 non-null  int32 \n",
      " 5   Subject Age Group         29887 non-null  object\n",
      " 6   Weapon Type               29887 non-null  object\n",
      " 7   Officer Gender            29887 non-null  object\n",
      " 8   Officer Race              29887 non-null  object\n",
      " 9   Subject Perceived Race    29887 non-null  object\n",
      " 10  Subject Perceived Gender  29887 non-null  object\n",
      " 11  Precinct                  29887 non-null  object\n",
      " 12  Sector                    29887 non-null  object\n",
      "dtypes: int32(5), object(8)\n",
      "memory usage: 2.6+ MB\n"
     ]
    }
   ],
   "source": [
    "X_train.info()"
   ]
  },
  {
   "cell_type": "code",
   "execution_count": 21,
   "id": "1b49095e",
   "metadata": {},
   "outputs": [
    {
     "data": {
      "text/plain": [
       "ColumnTransformer(transformers=[('onehotencoder', OneHotEncoder(drop='first'),\n",
       "                                 <sklearn.compose._column_transformer.make_column_selector object at 0x000001D92B204370>),\n",
       "                                ('standardscaler', StandardScaler(),\n",
       "                                 <sklearn.compose._column_transformer.make_column_selector object at 0x000001D92B2043A0>)])"
      ]
     },
     "execution_count": 21,
     "metadata": {},
     "output_type": "execute_result"
    }
   ],
   "source": [
    "ohe = OneHotEncoder(drop='first')\n",
    "ss = StandardScaler()\n",
    "\n",
    "string_selector = make_column_selector(dtype_include='object')\n",
    "number_selector = make_column_selector(dtype_exclude=['object', 'datetime'])\n",
    "\n",
    "preprocessor = make_column_transformer((ohe, string_selector), (ss, number_selector))\n",
    "preprocessor.fit(X_train, y_train)"
   ]
  },
  {
   "cell_type": "code",
   "execution_count": 22,
   "id": "1a33a1b6",
   "metadata": {},
   "outputs": [
    {
     "name": "stdout",
     "output_type": "stream",
     "text": [
      "Train: 0.9230434637133201\n",
      "Test: 0.9207066144735522\n"
     ]
    }
   ],
   "source": [
    "model = LogisticRegression(random_state=RANDOM_STATE, max_iter=1000, )\n",
    "pipeline = make_pipeline(preprocessor, model)\n",
    "pipeline.fit(X_train, y_train)\n",
    "print('Train:', pipeline.score(X_train, y_train))\n",
    "print('Test:', pipeline.score(X_test, y_test))\n",
    "\n",
    "# model = KNeighborsClassifier(leaf_size=5, n_neighbors=5)\n",
    "# pipeline = make_pipeline(preprocessor, model)\n",
    "# pipeline.fit(X_train, y_train)\n",
    "# print('Train:', pipeline.score(X_train, y_train))\n",
    "# print('Test:', pipeline.score(X_test, y_test))"
   ]
  },
  {
   "cell_type": "markdown",
   "id": "a9d1b059",
   "metadata": {},
   "source": [
    "# To do\n",
    "\n",
    "- Create ModelHistory class for tracking results\n",
    "- Decide if there's anything we can do with reported time to get to stop time"
   ]
  },
  {
   "cell_type": "code",
   "execution_count": null,
   "id": "511b5918",
   "metadata": {},
   "outputs": [],
   "source": [
    "# Pseudo code for how we could possibly get back to stop time\n",
    "\n",
    "x = np.random.normal(loc=5) # mean=5?, std. dev = ??\n",
    "stop_time = report_time - x"
   ]
  }
 ],
 "metadata": {
  "kernelspec": {
   "display_name": "Python 3",
   "language": "python",
   "name": "python3"
  },
  "language_info": {
   "codemirror_mode": {
    "name": "ipython",
    "version": 3
   },
   "file_extension": ".py",
   "mimetype": "text/x-python",
   "name": "python",
   "nbconvert_exporter": "python",
   "pygments_lexer": "ipython3",
   "version": "3.8.3"
  }
 },
 "nbformat": 4,
 "nbformat_minor": 5
}
