{
 "cells": [
  {
   "cell_type": "markdown",
   "id": "51468dc8",
   "metadata": {},
   "source": [
    "https://data.seattle.gov/Public-Safety/Terry-Stops/28ny-9ts8"
   ]
  },
  {
   "cell_type": "code",
   "execution_count": 1,
   "id": "30ec5b79",
   "metadata": {},
   "outputs": [],
   "source": [
    "import pandas as pd\n",
    "import numpy as np\n",
    "import matplotlib.pyplot as plt\n",
    "import seaborn as sns\n",
    "import os, sys\n",
    "\n",
    "from custom_functions import *\n",
    "from datetime import time\n",
    "from sklearn.pipeline import make_pipeline, Pipeline\n",
    "from sklearn.model_selection import train_test_split\n",
    "from sklearn.preprocessing import OneHotEncoder, LabelEncoder\n",
    "from sklearn.compose import make_column_selector, make_column_transformer\n",
    "from sklearn.linear_model import LogisticRegression\n",
    "from sklearn.neighbors import KNeighborsClassifier\n",
    "from sklearn.preprocessing import StandardScaler\n",
    "\n",
    "%load_ext autoreload\n",
    "%autoreload 2\n",
    "%matplotlib inline\n",
    "pd.set_option('display.max_columns', 100)\n",
    "\n",
    "RANDOM_STATE = 100"
   ]
  },
  {
   "cell_type": "code",
   "execution_count": 2,
   "id": "fb552390",
   "metadata": {},
   "outputs": [],
   "source": [
    "path = os.path.join('..', 'data', 'raw', 'terry-stops.csv')\n",
    "df = pd.read_csv(path, dtype='str')\n",
    "\n",
    "# Strip spaces, as relevant\n",
    "for col in df.columns:\n",
    "    df[col] = df[col].str.strip()"
   ]
  },
  {
   "cell_type": "code",
   "execution_count": 3,
   "id": "ccfdd90f",
   "metadata": {},
   "outputs": [
    {
     "name": "stdout",
     "output_type": "stream",
     "text": [
      "<class 'pandas.core.frame.DataFrame'>\n",
      "RangeIndex: 47213 entries, 0 to 47212\n",
      "Data columns (total 23 columns):\n",
      " #   Column                    Non-Null Count  Dtype \n",
      "---  ------                    --------------  ----- \n",
      " 0   Subject Age Group         47213 non-null  object\n",
      " 1   Subject ID                47213 non-null  object\n",
      " 2   GO / SC Num               47213 non-null  object\n",
      " 3   Terry Stop ID             47213 non-null  object\n",
      " 4   Stop Resolution           47213 non-null  object\n",
      " 5   Weapon Type               47213 non-null  object\n",
      " 6   Officer ID                47213 non-null  object\n",
      " 7   Officer YOB               47213 non-null  object\n",
      " 8   Officer Gender            47213 non-null  object\n",
      " 9   Officer Race              47213 non-null  object\n",
      " 10  Subject Perceived Race    47213 non-null  object\n",
      " 11  Subject Perceived Gender  47213 non-null  object\n",
      " 12  Reported Date             47213 non-null  object\n",
      " 13  Reported Time             47213 non-null  object\n",
      " 14  Initial Call Type         47213 non-null  object\n",
      " 15  Final Call Type           47213 non-null  object\n",
      " 16  Call Type                 47213 non-null  object\n",
      " 17  Officer Squad             46609 non-null  object\n",
      " 18  Arrest Flag               47213 non-null  object\n",
      " 19  Frisk Flag                47213 non-null  object\n",
      " 20  Precinct                  47213 non-null  object\n",
      " 21  Sector                    47213 non-null  object\n",
      " 22  Beat                      47213 non-null  object\n",
      "dtypes: object(23)\n",
      "memory usage: 8.3+ MB\n"
     ]
    }
   ],
   "source": [
    "df.info()"
   ]
  },
  {
   "cell_type": "code",
   "execution_count": null,
   "id": "215069b3",
   "metadata": {},
   "outputs": [],
   "source": []
  },
  {
   "cell_type": "code",
   "execution_count": null,
   "id": "f77f70f2",
   "metadata": {},
   "outputs": [],
   "source": []
  },
  {
   "cell_type": "code",
   "execution_count": null,
   "id": "376dbee6",
   "metadata": {},
   "outputs": [],
   "source": []
  },
  {
   "cell_type": "code",
   "execution_count": 4,
   "id": "3dd5e4ef",
   "metadata": {},
   "outputs": [
    {
     "data": {
      "text/plain": [
       "White                                        0.488255\n",
       "Black or African American                    0.297503\n",
       "Unknown                                      0.055620\n",
       "-                                            0.040095\n",
       "Hispanic                                     0.035668\n",
       "Asian                                        0.032533\n",
       "American Indian or Alaska Native             0.028784\n",
       "Multi-Racial                                 0.017135\n",
       "Other                                        0.003219\n",
       "Native Hawaiian or Other Pacific Islander    0.001186\n",
       "Name: Subject Perceived Race, dtype: float64"
      ]
     },
     "execution_count": 4,
     "metadata": {},
     "output_type": "execute_result"
    }
   ],
   "source": [
    "df['Subject Perceived Race'].value_counts(normalize=True)"
   ]
  },
  {
   "cell_type": "code",
   "execution_count": 5,
   "id": "7445844d",
   "metadata": {},
   "outputs": [
    {
     "data": {
      "text/plain": [
       "N    0.927295\n",
       "Y    0.072705\n",
       "Name: Arrest Flag, dtype: float64"
      ]
     },
     "execution_count": 5,
     "metadata": {},
     "output_type": "execute_result"
    }
   ],
   "source": [
    "df.loc[df['Subject Perceived Race'] == 'White', 'Arrest Flag'].value_counts(normalize=True)"
   ]
  },
  {
   "cell_type": "code",
   "execution_count": 6,
   "id": "e8c5d77d",
   "metadata": {},
   "outputs": [
    {
     "data": {
      "text/plain": [
       "Series([], Name: Arrest Flag, dtype: float64)"
      ]
     },
     "execution_count": 6,
     "metadata": {},
     "output_type": "execute_result"
    }
   ],
   "source": [
    "df.loc[df['Subject Perceived Race'] == 'Black', 'Arrest Flag'].value_counts(normalize=True)"
   ]
  },
  {
   "cell_type": "code",
   "execution_count": null,
   "id": "9dc8c3ec",
   "metadata": {},
   "outputs": [],
   "source": []
  },
  {
   "cell_type": "code",
   "execution_count": null,
   "id": "900e3722",
   "metadata": {},
   "outputs": [],
   "source": []
  },
  {
   "cell_type": "code",
   "execution_count": null,
   "id": "8e3510bc",
   "metadata": {},
   "outputs": [],
   "source": []
  },
  {
   "cell_type": "code",
   "execution_count": 7,
   "id": "95ffb680",
   "metadata": {},
   "outputs": [],
   "source": [
    "# ------ CLEAN DATA ONE COLUMN AT A TIME -------\n",
    "\n",
    "# Subject Age Group\n",
    "df['Subject Age Group'].replace('-', np.nan, inplace=True)\n",
    "\n",
    "# Subject ID\n",
    "df['Subject ID'].replace('-1', np.nan, inplace=True)\n",
    "\n",
    "# Weapon Type\n",
    "df['Weapon Type'].replace('-', 'None', inplace=True)\n",
    "df['Weapon Type'].replace('Firearm Other', 'Firearm', inplace=True)\n",
    "df['Weapon Type'].replace('Other Firearm', 'Firearm', inplace=True)\n",
    "df['Weapon Type'].replace('Firearm (unk type)', 'Firearm', inplace=True)\n",
    "df['Weapon Type'].replace('None/Not Applicable', 'None', inplace=True)\n",
    "df['Weapon Type'].replace('Brass Knuckles', 'Club, Blackjack, Brass Knuckles', inplace=True)\n",
    "df['Weapon Type'].replace('Blackjack', 'Club, Blackjack, Brass Knuckles', inplace=True)\n",
    "df['Weapon Type'].replace('Club', 'Club, Blackjack, Brass Knuckles', inplace=True)\n",
    "df['Weapon Type'].replace('Shotgun', 'Rifle', inplace=True)\n",
    "\n",
    "# Officer Year of Birth\n",
    "df['Officer YOB'] = df['Officer YOB'].astype('int')\n",
    "\n",
    "# Officer Race\n",
    "df['Officer Race'].replace('Unknown', np.nan, inplace=True)\n",
    "df['Officer Race'].replace('Not Specified', np.nan, inplace=True)\n",
    "\n",
    "# Subject Perceived Race\n",
    "df['Subject Perceived Race'].replace('-', np.nan, inplace=True)\n",
    "df['Subject Perceived Race'].replace('Other', np.nan, inplace=True)\n",
    "df['Subject Perceived Race'].replace('Unknown', np.nan, inplace=True)\n",
    "\n",
    "\n",
    "# Subject Perceived Gender\n",
    "df['Subject Perceived Gender'].replace('Unable to Determine', np.nan, inplace=True)\n",
    "df['Subject Perceived Gender'].replace('-', np.nan, inplace=True)\n",
    "df['Subject Perceived Gender'].replace('Unknown', np.nan, inplace=True)\n",
    "df['Subject Perceived Gender'].replace('Male', 'M', inplace=True)\n",
    "df['Subject Perceived Gender'].replace('Female', 'F', inplace=True)\n",
    "# Regarding below line: only 4 individuals remained in the non-binary category after dropping rows with na's in relevant fields\n",
    "# I'm reluctant to remove this category given the potential to investigate one tiny aspect of the societal bias against \n",
    "# non-binary folks. However, with a sample size of 4, it is not statistically significant enough to provide meaningful results\n",
    "df['Subject Perceived Gender'].replace('Gender Diverse (gender non-conforming and/or transgender)', np.nan, inplace=True)\n",
    "\n",
    "\n",
    "# Reported Date\n",
    "df['Reported Date'] = df['Reported Date'].astype('datetime64')\n",
    "\n",
    "# Exclude for now simply because datetime.time shows up as 'object' type during ohe, which caused problems downstream\n",
    "#if 'datetime.time' not in str(type(df['Reported Time'][0])): # Use if statement to avoid error when re-running\n",
    "#    df['Reported Time'] = [time.fromisoformat(t) for t in df['Reported Time']]\n",
    "\n",
    "# Reported Time\n",
    "df['Reported Hour'] = [int(x[:2]) for x in df['Reported Time']]\n",
    "    \n",
    "# Call Type\n",
    "df['Call Type'].replace('TEXT MESSAGE', '-', inplace=True)\n",
    "df['Call Type'].replace('SCHEDULED EVENT (RECURRING)', '-', inplace=True)\n",
    "    \n",
    "# Frisk Flag\n",
    "df['Frisk Flag'].replace('-', np.nan, inplace=True)\n",
    "\n",
    "# Precinct\n",
    "df['Precinct'].replace('-', 'Unknown', inplace=True)\n",
    "df['Precinct'].replace('FK ERROR', 'Unknown', inplace=True)\n",
    "#df['Precinct'].replace('OOJ', 'Unknown', inplace=True)\n",
    "df['Precinct'].replace('SouthWest', 'Southwest', inplace=True)\n",
    "\n",
    "# Sector\n",
    "df['Sector'].replace('99', '-', inplace=True)\n",
    "\n",
    "# Beat\n",
    "df['Beat'].replace('S', '-', inplace=True)\n",
    "df['Beat'].replace('99', '-', inplace=True)\n",
    "\n",
    "\n",
    "# Categorize \"Call Types\". Variable used to create dictionary in CSV\n",
    "call_types = pd.concat([df['Call Type'], df['Initial Call Type'], df['Final Call Type']]).value_counts().keys().values\n",
    "path = os.path.join('..', 'data', 'categorize call types.csv')\n",
    "call_type_dictionary = pd.read_csv(path)\n",
    "call_type_dictionary = dict(zip(call_type_dictionary.iloc[:, 0], call_type_dictionary.iloc[:, 1]))\n",
    "\n",
    "\n",
    "    \n",
    "#--- INCOMPLETE!\n",
    "df['Initial Call Type'] = df['Initial Call Type'].map(call_type_dictionary)\n",
    "df['Final Call Type'] = df['Final Call Type'].map(call_type_dictionary)\n",
    "df['Call Type'] = df['Call Type'].map(call_type_dictionary)\n"
   ]
  },
  {
   "cell_type": "code",
   "execution_count": 8,
   "id": "2e01e52a",
   "metadata": {},
   "outputs": [],
   "source": [
    "# Engineer new features\n",
    "\n",
    "# Calculate Officer Age\n",
    "if 'Officer YOB' in df.columns:\n",
    "    df['Officer Age'] = df['Reported Date'].apply(lambda x: x.year) - df['Officer YOB']\n",
    "    df['Officer Age'] = df['Officer Age'].apply(lambda x: np.nan if x > 100 else x)\n",
    "    df.drop('Officer YOB', axis=1, inplace=True)\n",
    "\n",
    "    \n",
    "# Determine whether or not weapon was involved\n",
    "#has_weapon = lambda x: 'No' if x == 'None' else 'Yes'\n",
    "df['Weapon (Y/N)'] = (df['Weapon Type'] != 'None').astype('int')\n",
    "\n",
    "\n",
    "# Calculate the number of stops per subject\n",
    "if 'Subject ID' in df.columns:\n",
    "    offense_ct_dict = dict(df['Subject ID'].value_counts())\n",
    "    df['Offense Count'] = df['Subject ID'].map(offense_ct_dict)\n",
    "    # Identify whether a subject has been involved in multiple stops\n",
    "    df['Repeat Offender (Y/N)'] = (df['Offense Count'] > 1).astype('int')\n",
    "    # Drop \"Offense Count\" for now given the number of missing values\n",
    "    if 'Offense Count' in df:\n",
    "        df.drop('Offense Count', axis=1, inplace=True)\n",
    "    df.drop('Subject ID', axis=1, inplace=True)\n",
    "\n",
    "\n",
    "\n",
    "\n",
    "# Identify whether race of officer is same as race of subject\n",
    "df['Same Race (Y/N)'] = (df['Officer Race'] == df['Subject Perceived Race']).astype('int')\n",
    "\n",
    "# Identify whether gender of officer is same as gender of subject\n",
    "df['Same Gender (Y/N)'] = (df['Officer Gender'] == df['Subject Perceived Gender']).astype('int')"
   ]
  },
  {
   "cell_type": "code",
   "execution_count": 9,
   "id": "7a69a778",
   "metadata": {},
   "outputs": [],
   "source": [
    "# Rename columns and drop 'na' rows\n",
    "if 'Arrest Flag' in df.columns:\n",
    "    df['Arrest (Y/N)'] = (df['Arrest Flag'] == 'Y').astype('int')\n",
    "    df.drop('Arrest Flag', axis=1, inplace=True)\n",
    "    \n",
    "if 'Frisk Flag' in df.columns:\n",
    "    df['Frisk (Y/N)'] = (df['Frisk Flag'] == 'Y').astype('int')\n",
    "    df.drop('Frisk Flag', axis=1, inplace=True)\n",
    "\n",
    "# Remove missing values and reset index\n",
    "#df.dropna(inplace=True)\n",
    "df.reset_index(inplace=True, drop=True)\n",
    "df.dropna(inplace=True)\n",
    "df['Officer Age'] = df['Officer Age'].astype('int')"
   ]
  },
  {
   "cell_type": "markdown",
   "id": "30194af3",
   "metadata": {},
   "source": [
    "# Graphical EDA"
   ]
  },
  {
   "cell_type": "code",
   "execution_count": 20,
   "id": "745a5495",
   "metadata": {
    "tags": []
   },
   "outputs": [
    {
     "data": {
      "image/png": "[encoded data removed]",
      "text/plain": [
       "<Figure size 1152x288 with 2 Axes>"
      ]
     },
     "metadata": {},
     "output_type": "display_data"
    },
    {
     "name": "stdout",
     "output_type": "stream",
     "text": [
      "  Subject Perceived Gender  Arrest (Y/N)  Frisk (Y/N)\n",
      "1                        M          2515         8007\n",
      "0                        F           531          927\n",
      "--------------------------------------------------------------------\n",
      "\n",
      "\n"
     ]
    }
   ],
   "source": [
    "# BAR GRAPHS FOR ***AVERAGE OR SUM*** OF METRICS\n",
    "\n",
    "df_graphical = pd.concat([df, pd.get_dummies(df['Stop Resolution'], prefix='Resolution')], axis=1)\n",
    "\n",
    "# Average metrics by age group\n",
    "x_axis = 'Subject Age Group'\n",
    "y_axis = ['Arrest (Y/N)', 'Frisk (Y/N)']#, 'Resolution_Arrest', 'Resolution_Citation / Infraction', 'Resolution_Field Contact', 'Resolution_Offense Report', 'Resolution_Referred for Prosecution']\n",
    "#bar_plot(df_graphical, x_axis, y_axis, 'mean', verbose=False)\n",
    "\n",
    "# Average metrics by subject race\n",
    "x_axis = 'Subject Perceived Race'\n",
    "#y_axis = ['Resolution_Arrest', 'Resolution_Citation / Infraction', 'Resolution_Field Contact', 'Resolution_Offense Report', 'Resolution_Referred for Prosecution']\n",
    "#bar_plot(df_graphical, x_axis, y_axis, 'sum', verbose=True)\n",
    "\n",
    "# Gender metrics\n",
    "x_axis = 'Subject Perceived Gender'\n",
    "y_axis = ['Arrest (Y/N)', 'Frisk (Y/N)']\n",
    "bar_plot(df_graphical, x_axis, y_axis, 'sum', verbose=True)\n",
    "\n",
    "# Officer race\n",
    "x_axis = 'Officer Race'\n",
    "#bar_plot(df_graphical, x_axis, y_axis, 'mean',verbose=True)\n",
    "\n",
    "# Officer gender\n",
    "x_axis = 'Officer Gender'\n",
    "#bar_plot(df_graphical, x_axis, y_axis, 'mean', verbose=True)\n",
    "\n",
    "# Officer gender\n",
    "x_axis = 'Officer Age'\n",
    "#bar_plot(df_graphical, x_axis, y_axis, 'mean', verbose=True)"
   ]
  },
  {
   "cell_type": "code",
   "execution_count": 13,
   "id": "5e144ab5",
   "metadata": {},
   "outputs": [
    {
     "ename": "NameError",
     "evalue": "name 'stop' is not defined",
     "output_type": "error",
     "traceback": [
      "\u001b[1;31m---------------------------------------------------------------------------\u001b[0m",
      "\u001b[1;31mNameError\u001b[0m                                 Traceback (most recent call last)",
      "\u001b[1;32m<ipython-input-13-4f76a9dad686>\u001b[0m in \u001b[0;36m<module>\u001b[1;34m\u001b[0m\n\u001b[1;32m----> 1\u001b[1;33m \u001b[0mstop\u001b[0m\u001b[1;33m\u001b[0m\u001b[1;33m\u001b[0m\u001b[0m\n\u001b[0m",
      "\u001b[1;31mNameError\u001b[0m: name 'stop' is not defined"
     ]
    }
   ],
   "source": [
    "\n",
    "\n",
    "\n",
    "\n",
    "\n",
    "\n",
    "\n",
    "\n",
    "\n",
    "\n",
    "\n",
    "\n",
    "\n",
    "\n",
    "\n",
    "\n",
    "\n",
    "\n",
    "\n",
    "\n",
    "\n",
    "\n",
    "\n",
    "\n",
    "\n",
    "\n",
    "\n",
    "\n",
    "\n",
    "\n",
    "\n",
    "\n",
    "\n",
    "\n",
    "stop"
   ]
  },
  {
   "cell_type": "code",
   "execution_count": null,
   "id": "95a7adf3",
   "metadata": {},
   "outputs": [],
   "source": [
    "# Average metrics by age group\n",
    "col = 'Subject Age Group'\n",
    "df.groupby(by=col).mean()"
   ]
  },
  {
   "cell_type": "markdown",
   "id": "ec6d4e29",
   "metadata": {},
   "source": [
    "# Refine dataset to begin modeling"
   ]
  },
  {
   "cell_type": "code",
   "execution_count": null,
   "id": "47225eb1",
   "metadata": {},
   "outputs": [],
   "source": [
    "# Refine dataset to continous and OHE values\n",
    "\n",
    "# Separate columns by type\n",
    "# Identify continuous vs. string type features\n",
    "str_columns = []\n",
    "continuous_columns = []\n",
    "for col in df.columns:\n",
    "    if type(df.dropna()[col].iloc[0]) == type('abc'):\n",
    "        str_columns.append(col)\n",
    "    else:\n",
    "        continuous_columns.append(col)\n",
    "# Determine which columns are most valuable to OHE\n",
    "cols_to_ohe = []\n",
    "for col in str_columns:\n",
    "    if len(df[col].value_counts().index) < 30:\n",
    "        cols_to_ohe.append(col)\n",
    "\n",
    "df_refined = pd.concat([df[continuous_columns], df[cols_to_ohe]], axis=1)\n",
    "df_refined.info()"
   ]
  },
  {
   "cell_type": "code",
   "execution_count": null,
   "id": "e4ea1cd9",
   "metadata": {},
   "outputs": [],
   "source": [
    "plotter = train[continuous_columns].drop('Reported Date', axis=1)\n",
    "corr = plotter.corr()\n",
    "print(plotter.info());\n",
    "sns.heatmap(corr);"
   ]
  },
  {
   "cell_type": "code",
   "execution_count": null,
   "id": "20001e31",
   "metadata": {},
   "outputs": [],
   "source": [
    "# Split data\n",
    "X = df_refined.drop('Arrest (Y/N)', axis=1)\n",
    "y = df_refined['Arrest (Y/N)']\n",
    "\n",
    "X_train, X_test, y_train, y_test = train_test_split(X, y, random_state = RANDOM_STATE)\n",
    "train = pd.concat([X_train, y_train], axis=1)"
   ]
  },
  {
   "cell_type": "code",
   "execution_count": null,
   "id": "fe945365",
   "metadata": {},
   "outputs": [],
   "source": [
    "stop"
   ]
  },
  {
   "cell_type": "code",
   "execution_count": null,
   "id": "389a8c69",
   "metadata": {},
   "outputs": [],
   "source": [
    "#ohe = OneHotEncoder()\n",
    "#ohe.fit(X_train, y_train)\n",
    "\n",
    "\n",
    "plt.figure(figsize=(8, 6))\n",
    "sns.heatmap(plotter)"
   ]
  },
  {
   "cell_type": "code",
   "execution_count": null,
   "id": "ad7967bb",
   "metadata": {},
   "outputs": [],
   "source": [
    "var = 'Reported Date'\n",
    "\n",
    "df_refined[var].hist()"
   ]
  },
  {
   "cell_type": "markdown",
   "id": "ce5cfea1",
   "metadata": {},
   "source": [
    "### Begin encoding and modeling"
   ]
  },
  {
   "cell_type": "code",
   "execution_count": null,
   "id": "34662a09",
   "metadata": {},
   "outputs": [],
   "source": []
  },
  {
   "cell_type": "code",
   "execution_count": null,
   "id": "5990a582",
   "metadata": {},
   "outputs": [],
   "source": [
    "ohe = OneHotEncoder(drop='first')\n",
    "string_selector = make_column_selector(dtype_include='object')\n",
    "string_transformer = make_column_transformer((ohe, string_selector))\n",
    "\n",
    "\n",
    "logreg = LogisticRegression(random_state=RANDOM_STATE, max_iter=1000)\n",
    "\n",
    "clf = KNeighborsClassifier()\n",
    "\n",
    "pipe = Pipeline([('string_selector', string_transformer), ('model', logreg)])\n",
    "pipe.fit(X_train, y_train)\n",
    "pipe.score(X_train, y_train)"
   ]
  },
  {
   "cell_type": "code",
   "execution_count": null,
   "id": "f1082cf9",
   "metadata": {},
   "outputs": [],
   "source": [
    "pipe.score(X_test, y_test)"
   ]
  },
  {
   "cell_type": "code",
   "execution_count": null,
   "id": "eae5f9fd",
   "metadata": {},
   "outputs": [],
   "source": [
    "string_transformer"
   ]
  },
  {
   "cell_type": "code",
   "execution_count": null,
   "id": "ff4e9610",
   "metadata": {},
   "outputs": [],
   "source": [
    "string_selector"
   ]
  },
  {
   "cell_type": "markdown",
   "id": "73f45091",
   "metadata": {},
   "source": [
    "# notes from study group\n",
    "\n",
    "Create ModelHistory class like they mentioned during your last one-on-one. "
   ]
  }
 ],
 "metadata": {
  "kernelspec": {
   "display_name": "Python 3",
   "language": "python",
   "name": "python3"
  },
  "language_info": {
   "codemirror_mode": {
    "name": "ipython",
    "version": 3
   },
   "file_extension": ".py",
   "mimetype": "text/x-python",
   "name": "python",
   "nbconvert_exporter": "python",
   "pygments_lexer": "ipython3",
   "version": "3.8.3"
  }
 },
 "nbformat": 4,
 "nbformat_minor": 5
}
