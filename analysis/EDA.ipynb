{
 "cells": [
  {
   "cell_type": "markdown",
   "id": "fa7f2cb4",
   "metadata": {},
   "source": [
    "https://data.seattle.gov/Public-Safety/Terry-Stops/28ny-9ts8"
   ]
  },
  {
   "cell_type": "code",
   "execution_count": 1,
   "id": "50d8a262",
   "metadata": {},
   "outputs": [],
   "source": [
    "import pandas as pd\n",
    "import numpy as np\n",
    "import matplotlib.pyplot as plt\n",
    "import seaborn as sns\n",
    "import pickle\n",
    "import os, sys\n",
    "\n",
    "from custom_functions import *\n",
    "from datetime import time\n",
    "from imblearn.pipeline import make_pipeline, Pipeline\n",
    "from sklearn.model_selection import train_test_split\n",
    "from sklearn.model_selection import cross_val_score, KFold, GridSearchCV\n",
    "from sklearn.preprocessing import OneHotEncoder, LabelEncoder\n",
    "from sklearn.compose import make_column_selector, make_column_transformer\n",
    "from sklearn.linear_model import LogisticRegression\n",
    "from sklearn.neighbors import KNeighborsClassifier\n",
    "from sklearn.preprocessing import StandardScaler, MinMaxScaler\n",
    "from sklearn.metrics import f1_score, accuracy_score, plot_confusion_matrix\n",
    "from sklearn.tree import DecisionTreeClassifier\n",
    "from sklearn.ensemble import RandomForestClassifier\n",
    "from xgboost import XGBClassifier\n",
    "from feature_importance import FeatureImportance\n",
    "from sklearn.tree import plot_tree\n",
    "\n",
    "\n",
    "from imblearn.over_sampling import SMOTE\n",
    "\n",
    "%load_ext autoreload\n",
    "%autoreload 2\n",
    "%matplotlib inline\n",
    "pd.set_option('display.max_columns', 100)\n",
    "\n",
    "RANDOM_STATE = 0\n",
    "\n",
    "raw_terry_path = os.path.join('..', 'data', 'raw', 'terry-stops.csv')\n",
    "processed_data_path = os.path.join('..', 'data', 'processed')\n",
    "UNKNOWN = 'Not provided'\n",
    "N_SPLITS = 3\n",
    "JOBS = 1"
   ]
  },
  {
   "cell_type": "code",
   "execution_count": 2,
   "id": "cb016663",
   "metadata": {},
   "outputs": [],
   "source": [
    "df = pd.read_csv(raw_terry_path, dtype='str')\n",
    "\n",
    "# Strip spaces, as relevant\n",
    "for col in df.columns:\n",
    "    df[col] = df[col].str.strip()"
   ]
  },
  {
   "cell_type": "code",
   "execution_count": 3,
   "id": "cdfa754d",
   "metadata": {},
   "outputs": [],
   "source": [
    "# ------ CLEAN DATA ONE COLUMN AT A TIME -------\n",
    "\n",
    "# Subject Age Group\n",
    "df['Subject Age Group'].replace('-', np.nan, inplace=True)\n",
    "\n",
    "# Subject ID\n",
    "df['Subject ID'].replace('-1', UNKNOWN, inplace=True)\n",
    "\n",
    "# Weapon Type\n",
    "weapon_type_dict = {'Firearm Other': 'Firearm', \n",
    "                    'Lethal Cutting Instrument': 'Knife', \n",
    "                    'Handgun': 'Firearm', \n",
    "                    '-': 'None', \n",
    "                    'Club, Blackjack, Brass Knuckles': 'Blunt/Striking', \n",
    "                    'Knife/Cutting/Stabbing Instrument': 'Knife', \n",
    "                    'Other Firearm': 'Firearm', \n",
    "                    'Rifle': 'Firearm', \n",
    "                    'Fire/Incendiary Device': UNKNOWN, \n",
    "                    'Blunt Object/Striking Implement': 'Blunt/Striking', \n",
    "                    'Firearm (unk type)': 'Firearm', \n",
    "                    'Mace/Pepper Spray': UNKNOWN, \n",
    "                    'None/Not Applicable': 'None', \n",
    "                    'Club': 'Blunt/Striking', \n",
    "                    'Taser/Stun Gun': UNKNOWN, \n",
    "                    'Shotgun': 'Firearm', \n",
    "                    'Brass Knuckles': 'Blunt/Striking', \n",
    "                    'Automatic Handgun': 'Firearm', \n",
    "                    'Blackjack': 'Blunt/Striking', \n",
    "                    'Personal Weapons (hands, feet, etc.)': 'Blunt/Striking'}\n",
    "df['Weapon Type'].replace(weapon_type_dict, inplace=True)\n",
    "\n",
    "\n",
    "\n",
    "# Officer Year of Birth\n",
    "df['Officer YOB'] = df['Officer YOB'].astype('int')\n",
    "\n",
    "\n",
    "\n",
    "# Officer Race\n",
    "race_dict = {'Unknown': UNKNOWN, \n",
    "            'Not Specified': UNKNOWN,\n",
    "            '-': UNKNOWN,\n",
    "            'Other': UNKNOWN, \n",
    "            'Unknown': UNKNOWN}\n",
    "df['Officer Race'].replace(race_dict, inplace=True)\n",
    "df['Subject Perceived Race'].replace(race_dict, inplace=True)\n",
    "\n",
    "\n",
    "\n",
    "# Gender\n",
    "gender_dict = {'Unable to Determine': UNKNOWN,\n",
    "              '-': UNKNOWN,\n",
    "               'Unknown': UNKNOWN,\n",
    "              'Gender Diverse (gender non-conforming and/or transgender)': 'Non-Binary',\n",
    "               'N': 'Non-Binary',\n",
    "               'M': 'Male',\n",
    "               'F': 'Female'}\n",
    "df['Subject Perceived Gender'].replace(gender_dict, inplace=True)\n",
    "df['Officer Gender'].replace(gender_dict, inplace=True)\n",
    "\n",
    "\n",
    "\n",
    "# Race - grouped for naming consistency and aggregating small sample sizes for statistical significance\n",
    "race_dict = {'Two or More Races': 'Multi-Racial',\n",
    "            'Hispanic or Latino': 'Hispanic',\n",
    "            'Nat Hawaiian/Oth Pac Islander': 'Native', \n",
    "            'American Indian/Alaska Native': 'Native',\n",
    "            'Native Hawaiian or Other Pacific Islander': 'Native',\n",
    "            'American Indian or Alaska Native': 'Native'}\n",
    "df['Subject Perceived Race'].replace(race_dict, inplace=True)\n",
    "df['Officer Race'].replace(race_dict, inplace=True)\n",
    "\n",
    "\n",
    "\n",
    "# Reported date and hour\n",
    "df['Reported Date'] = df['Reported Date'].astype('datetime64')\n",
    "    \n",
    "    \n",
    "# Call Type\n",
    "call_type_dict = {'-': UNKNOWN,\n",
    "                 'SCHEDULED EVENT (RECURRING)': UNKNOWN,\n",
    "                 'TEXT MESSAGE': UNKNOWN}\n",
    "df['Call Type'].replace(call_type_dict, inplace=True)\n",
    "    \n",
    "    \n",
    "# Frisk Flag\n",
    "df['Frisk Flag'].replace('-', np.nan, inplace=True)\n",
    "\n",
    "# Precinct\n",
    "precinct_dict = {'-': UNKNOWN,\n",
    "                'FK ERROR': UNKNOWN,\n",
    "                 'Unknown': UNKNOWN,\n",
    "                'SouthWest': 'Southwest'}\n",
    "df['Precinct'].replace(precinct_dict, inplace=True)\n",
    "\n",
    "\n",
    "# Sector\n",
    "df['Sector'].replace(['99', '-'], UNKNOWN, inplace=True)\n",
    "\n",
    "# Beat\n",
    "df['Beat'].replace(['S', '99', '-'], UNKNOWN, inplace=True)\n",
    "\n",
    "# Subject age group\n",
    "df['Subject Age Group'].replace('-', np.nan, inplace=True)\n",
    "\n",
    "\n",
    "# Required for downstream one-hot encoding. Don't delete\n",
    "df['Officer Squad'].fillna(UNKNOWN, inplace=True)\n",
    "\n",
    "df.dropna(inplace=True) # uncomment!!!!!!!"
   ]
  },
  {
   "cell_type": "markdown",
   "id": "5adae128",
   "metadata": {},
   "source": [
    "# Feature Engineering"
   ]
  },
  {
   "cell_type": "markdown",
   "id": "8877192b",
   "metadata": {},
   "source": [
    "### Age group manipulation"
   ]
  },
  {
   "cell_type": "code",
   "execution_count": 4,
   "id": "c1f8384c",
   "metadata": {
    "tags": []
   },
   "outputs": [
    {
     "data": {
      "image/png": "[encoded data removed]",
      "text/plain": [
       "<Figure size 432x288 with 1 Axes>"
      ]
     },
     "metadata": {
      "needs_background": "light"
     },
     "output_type": "display_data"
    }
   ],
   "source": [
    "\n",
    "# ------ ESTIMATE SUBJECT AGE ------\n",
    "\n",
    "years_in_category = {'1 - 17': [10, 17],\n",
    "'18 - 25': [18, 25],\n",
    "'26 - 35': [26, 35],\n",
    "'36 - 45': [36, 45],\n",
    "'46 - 55': [46, 55],\n",
    "'56 and Above': [56, 70]}\n",
    "\n",
    "def predict_ages():\n",
    "    avg, std, x, y = calculate_mean_and_std()    \n",
    "    ages = []\n",
    "    for age_categorical in df['Subject Age Group']:\n",
    "        age = predict_age_from_category(age_categorical, avg, std)\n",
    "        ages.append(age)\n",
    "    return ages, x, y\n",
    "\n",
    "\n",
    "def calculate_mean_and_std():\n",
    "    xy = {}\n",
    "    age_group_counts = dict(df['Subject Age Group'].value_counts())\n",
    "    \n",
    "    for age_group in df['Subject Age Group'].replace(UNKNOWN, np.nan).dropna().unique():\n",
    "        age_range_list = set_range(age_group)\n",
    "        age_range_ct = age_group_counts[age_group]\n",
    "        \n",
    "        for item in age_range_list:\n",
    "            xy[item] = int(age_range_ct/len(age_range_list))\n",
    "    \n",
    "    x = np.array(list(xy.keys()))\n",
    "    y = np.array(list(xy.values()))\n",
    "    avg = x.mean()\n",
    "    std = x.std()\n",
    "    return avg, std, x, y\n",
    "\n",
    "\n",
    "\n",
    "def set_range(age_range):\n",
    "    age_range = years_in_category[age_range]\n",
    "    start = age_range[0]\n",
    "    stop = age_range[1]\n",
    "    return np.linspace(start, stop, stop-start+1)\n",
    "\n",
    "def predict_age_from_category(bucket, avg, std):\n",
    "    if bucket == UNKNOWN:\n",
    "        year_range = np.array(list(years_in_category.values())).flatten()\n",
    "        min_age = year_range.min()\n",
    "        max_age = year_range.max()\n",
    "    else:\n",
    "        year_range = years_in_category[bucket]\n",
    "        min_age = year_range[0]\n",
    "        max_age = year_range[1]\n",
    "    age = 0\n",
    "    while ((age <= min_age-0.5) or (age > max_age+0.5)):\n",
    "        age = np.random.normal(avg, std)\n",
    "    return age\n",
    "\n",
    "\n",
    "plt.figure()\n",
    "df['Subject Age (Est)'], x, y = predict_ages()\n",
    "sns.histplot(df['Subject Age (Est)'], bins=60, kde=True);\n",
    "plt.scatter(x, y, c='r', s=10)\n",
    "plt.title('Subject Ages (Est)');"
   ]
  },
  {
   "cell_type": "code",
   "execution_count": 5,
   "id": "f6f24923",
   "metadata": {},
   "outputs": [],
   "source": [
    "# Engineer new features\n",
    "\n",
    "# Calculate Officer Age\n",
    "if 'Officer YOB' in df.columns:\n",
    "    df['Officer Age'] = df['Reported Date'].apply(lambda x: x.year) - df['Officer YOB']\n",
    "    median_yob = int(df['Officer YOB'].median())\n",
    "    df['Officer Age'] = df['Officer Age'].apply(lambda x: median_yob if x > 100 else x)\n",
    "    df.drop('Officer YOB', axis=1, inplace=True)\n",
    "\n",
    "    \n",
    "# Determine whether or not weapon was involved\n",
    "#has_weapon = lambda x: 'No' if x == 'None' else 'Yes'\n",
    "df['Weapon (Y/N)'] = (df['Weapon Type'] != 'None').astype('int')\n",
    "\n",
    "\n",
    "# Calculate the number of stops per subject\n",
    "if 'Subject ID' in df.columns:\n",
    "    offense_ct_dict = dict(df['Subject ID'].value_counts())\n",
    "    df['Offense Count'] = df['Subject ID'].map(offense_ct_dict)\n",
    "    # Identify whether a subject has been involved in multiple stops\n",
    "    df['Repeat Offender (Y/N)'] = (df['Offense Count'] > 1).astype('int')\n",
    "    # Drop \"Offense Count\" for now given the number of missing values\n",
    "    if 'Offense Count' in df:\n",
    "        df.drop('Offense Count', axis=1, inplace=True)\n",
    "    df.drop('Subject ID', axis=1, inplace=True)\n",
    "\n",
    "\n",
    "# Identify whether race of officer is same as race of subject\n",
    "df['Same Race (Y/N)'] = (df['Officer Race'] == df['Subject Perceived Race']).astype('int')\n",
    "\n",
    "# Identify whether gender of officer is same as gender of subject\n",
    "df['Same Gender (Y/N)'] = (df['Officer Gender'] == df['Subject Perceived Gender']).astype('int')\n",
    "\n",
    "# Rename columns and drop 'na' rows\n",
    "if 'Arrest Flag' in df.columns:\n",
    "    df['Arrest (Y/N)'] = (df['Arrest Flag'] == 'Y').astype('int')\n",
    "    df.drop('Arrest Flag', axis=1, inplace=True)\n",
    "    \n",
    "if 'Frisk Flag' in df.columns:\n",
    "    df['Frisk (Y/N)'] = (df['Frisk Flag'] == 'Y').astype('int')\n",
    "    df.drop('Frisk Flag', axis=1, inplace=True)\n",
    "    \n",
    "# Stop resolution\n",
    "df['Stop Resolution: Arrest (Method2)'] = (df['Stop Resolution'] == 'Arrest').astype('int')\n",
    "\n",
    "\n",
    "# Revisiting subject perceived gender\n",
    "# Difficult decision to make, but with a sample size of only 5 people, the \n",
    "# amount of data is insufficient to provide a statistically significant understanding\n",
    "# of how non-binary perception affects arrest rate\n",
    "df['Subject Perceived Gender'].replace('Non-Binary', UNKNOWN, inplace=True)\n",
    "df['Officer Gender'].replace('Non-Binary', UNKNOWN, inplace=True)\n",
    "\n",
    "# Optionally categorize 'Officer Squad'\n",
    "# Officer Squad"
   ]
  },
  {
   "cell_type": "code",
   "execution_count": 6,
   "id": "f2789c62",
   "metadata": {},
   "outputs": [],
   "source": [
    "# Remove missing values and reset index\n",
    "df.dropna(inplace=True)\n",
    "df.reset_index(inplace=True, drop=True)"
   ]
  },
  {
   "cell_type": "markdown",
   "id": "f08b5f1a",
   "metadata": {},
   "source": [
    "### Determine which \"Arrest\" field to use:\n",
    "- Option 1: 'Arrest Flag', which is now renamed to 'Arrest (Y/N)'\n",
    "- Option 2: 'Stop Resolution' value of 'Arrest'"
   ]
  },
  {
   "cell_type": "code",
   "execution_count": 7,
   "id": "2a61072d",
   "metadata": {},
   "outputs": [
    {
     "name": "stdout",
     "output_type": "stream",
     "text": [
      "Option 1:\n",
      "0    41830\n",
      "1     3439\n",
      "Name: Arrest (Y/N), dtype: int64\n",
      "\n",
      "Option 2:\n",
      "0    33902\n",
      "1    11367\n",
      "Name: Stop Resolution: Arrest (Method2), dtype: int64\n"
     ]
    }
   ],
   "source": [
    "print('Option 1:')\n",
    "print(df['Arrest (Y/N)'].value_counts())\n",
    "print('\\nOption 2:')\n",
    "print(df['Stop Resolution: Arrest (Method2)'].value_counts())"
   ]
  },
  {
   "cell_type": "markdown",
   "id": "8d7f640c",
   "metadata": {},
   "source": [
    "##### Since there are more in Option 2, determine if all positives from Option 1 are included in this subset"
   ]
  },
  {
   "cell_type": "code",
   "execution_count": 8,
   "id": "cf440663",
   "metadata": {},
   "outputs": [
    {
     "data": {
      "text/plain": [
       "0    7930\n",
       "1    3437\n",
       "Name: Arrest (Y/N), dtype: int64"
      ]
     },
     "execution_count": 8,
     "metadata": {},
     "output_type": "execute_result"
    }
   ],
   "source": [
    "# Determine if all of\n",
    "method2 = df.loc[df['Stop Resolution: Arrest (Method2)']==1].copy()\n",
    "method2['Arrest (Y/N)'].value_counts()"
   ]
  },
  {
   "cell_type": "markdown",
   "id": "6ee72099",
   "metadata": {},
   "source": [
    "##### All but 2 of the positive Arrest (Y/N) values are included in 'Stop Resolution: Arrest'. As a result, we see that the former is a subset of the latter. It is unclear why, but for the scope of this analysis, we will use the latter for the sake of a larger scope. "
   ]
  },
  {
   "cell_type": "code",
   "execution_count": 9,
   "id": "08392895",
   "metadata": {},
   "outputs": [
    {
     "name": "stdout",
     "output_type": "stream",
     "text": [
      "<class 'pandas.core.frame.DataFrame'>\n",
      "RangeIndex: 45269 entries, 0 to 45268\n",
      "Data columns (total 28 columns):\n",
      " #   Column                             Non-Null Count  Dtype         \n",
      "---  ------                             --------------  -----         \n",
      " 0   Subject Age Group                  45269 non-null  object        \n",
      " 1   GO / SC Num                        45269 non-null  object        \n",
      " 2   Terry Stop ID                      45269 non-null  object        \n",
      " 3   Stop Resolution                    45269 non-null  object        \n",
      " 4   Weapon Type                        45269 non-null  object        \n",
      " 5   Officer ID                         45269 non-null  object        \n",
      " 6   Officer Gender                     45269 non-null  object        \n",
      " 7   Officer Race                       45269 non-null  object        \n",
      " 8   Subject Perceived Race             45269 non-null  object        \n",
      " 9   Subject Perceived Gender           45269 non-null  object        \n",
      " 10  Reported Date                      45269 non-null  datetime64[ns]\n",
      " 11  Reported Time                      45269 non-null  object        \n",
      " 12  Initial Call Type                  45269 non-null  object        \n",
      " 13  Final Call Type                    45269 non-null  object        \n",
      " 14  Call Type                          45269 non-null  object        \n",
      " 15  Officer Squad                      45269 non-null  object        \n",
      " 16  Precinct                           45269 non-null  object        \n",
      " 17  Sector                             45269 non-null  object        \n",
      " 18  Beat                               45269 non-null  object        \n",
      " 19  Subject Age (Est)                  45269 non-null  float64       \n",
      " 20  Officer Age                        45269 non-null  int64         \n",
      " 21  Weapon (Y/N)                       45269 non-null  int32         \n",
      " 22  Repeat Offender (Y/N)              45269 non-null  int32         \n",
      " 23  Same Race (Y/N)                    45269 non-null  int32         \n",
      " 24  Same Gender (Y/N)                  45269 non-null  int32         \n",
      " 25  Arrest (Y/N)                       45269 non-null  int32         \n",
      " 26  Frisk (Y/N)                        45269 non-null  int32         \n",
      " 27  Stop Resolution: Arrest (Method2)  45269 non-null  int32         \n",
      "dtypes: datetime64[ns](1), float64(1), int32(7), int64(1), object(18)\n",
      "memory usage: 8.5+ MB\n"
     ]
    }
   ],
   "source": [
    "df.info()"
   ]
  },
  {
   "cell_type": "code",
   "execution_count": 10,
   "id": "87340717",
   "metadata": {},
   "outputs": [],
   "source": [
    "df.rename({'Stop Resolution: Arrest (Method2)':'Stop Resolution: Arrest (Y/N)'}, axis=1, inplace=True)\n",
    "df.drop('Arrest (Y/N)', axis=1, inplace=True)"
   ]
  },
  {
   "cell_type": "markdown",
   "id": "1f9e9577",
   "metadata": {},
   "source": [
    "# Graphical EDA"
   ]
  },
  {
   "cell_type": "code",
   "execution_count": 11,
   "id": "4b1d9311",
   "metadata": {
    "tags": []
   },
   "outputs": [],
   "source": [
    "# # BAR GRAPHS FOR ***AVERAGE OR SUM*** OF METRICS\n",
    "\n",
    "# df_graphical = pd.concat([df, pd.get_dummies(df['Stop Resolution'], prefix='Resolution')], axis=1)\n",
    "\n",
    "# # Average metrics by age group\n",
    "# x_axis = 'Subject Age Group'\n",
    "# y_axis = ['Stop Resolution: Arrest (Y/N)', 'Frisk (Y/N)']#, 'Resolution_Arrest', 'Resolution_Citation / Infraction', 'Resolution_Field Contact', 'Resolution_Offense Report', 'Resolution_Referred for Prosecution']\n",
    "# bar_plot(df_graphical, x_axis, y_axis, 'mean', verbose=False)\n",
    "\n",
    "# # Average metrics by subject race\n",
    "# x_axis = 'Subject Perceived Race'\n",
    "# y_axis = ['Resolution_Arrest', 'Resolution_Citation / Infraction', 'Resolution_Field Contact', 'Resolution_Offense Report', 'Resolution_Referred for Prosecution']\n",
    "# bar_plot(df_graphical, x_axis, y_axis, 'sum', verbose=True)\n",
    "\n",
    "# # Gender metrics\n",
    "# x_axis = 'Subject Perceived Gender'\n",
    "# y_axis = ['Stop Resolution: Arrest (Y/N)', 'Frisk (Y/N)']\n",
    "# bar_plot(df_graphical, x_axis, y_axis, 'mean', verbose=True)\n",
    "\n",
    "# # Officer race\n",
    "# x_axis = 'Officer Race'\n",
    "# bar_plot(df_graphical, x_axis, y_axis, 'mean',verbose=True)\n",
    "\n",
    "# # Officer gender\n",
    "# x_axis = 'Officer Gender'\n",
    "# bar_plot(df_graphical, x_axis, y_axis, 'mean', verbose=True)\n",
    "\n",
    "# # Officer age\n",
    "# x_axis = 'Officer Age'\n",
    "# bar_plot(df_graphical, x_axis, y_axis, 'mean', verbose=True)"
   ]
  },
  {
   "cell_type": "markdown",
   "id": "15b58ddd",
   "metadata": {},
   "source": [
    "# Refine dataset"
   ]
  },
  {
   "cell_type": "code",
   "execution_count": 12,
   "id": "114a6d7a",
   "metadata": {},
   "outputs": [
    {
     "name": "stdout",
     "output_type": "stream",
     "text": [
      "Excluding: GO / SC Num\n",
      "Excluding: Terry Stop ID\n",
      "Excluding: Officer ID\n",
      "Excluding: Reported Time\n",
      "Excluding: Initial Call Type\n",
      "Excluding: Final Call Type\n",
      "Excluding: Officer Squad\n",
      "Excluding: Beat\n",
      "Including: Index(['Reported Date', 'Subject Age (Est)', 'Officer Age', 'Weapon (Y/N)',\n",
      "       'Repeat Offender (Y/N)', 'Same Race (Y/N)', 'Same Gender (Y/N)',\n",
      "       'Frisk (Y/N)', 'Stop Resolution: Arrest (Y/N)', 'Subject Age Group',\n",
      "       'Stop Resolution', 'Weapon Type', 'Officer Gender', 'Officer Race',\n",
      "       'Subject Perceived Race', 'Subject Perceived Gender', 'Call Type',\n",
      "       'Precinct', 'Sector'],\n",
      "      dtype='object')\n"
     ]
    }
   ],
   "source": [
    "# Refine dataset to continuous and categoricals w/reasonable number of unique values\n",
    "\n",
    "# Separate columns by type\n",
    "obj_columns = df.select_dtypes('object').columns\n",
    "continuous_columns = df.drop(obj_columns, axis=1).columns\n",
    "\n",
    "# Determine which columns are most valuable to OHE\n",
    "# based on small enough number of values\n",
    "cols_to_ohe = []\n",
    "for col in obj_columns:\n",
    "    if len(df[col].value_counts().index) < 30:\n",
    "        cols_to_ohe.append(col)\n",
    "    else:\n",
    "        print('Excluding:', col)\n",
    "\n",
    "df_refined = pd.concat([df[continuous_columns], df[cols_to_ohe]], axis=1)\n",
    "\n",
    "print(f'Including: {df_refined.columns}')\n",
    "#df_refined.info()"
   ]
  },
  {
   "cell_type": "markdown",
   "id": "e7bd21a9",
   "metadata": {},
   "source": [
    "##### Plot distributions"
   ]
  },
  {
   "cell_type": "code",
   "execution_count": 13,
   "id": "805490da",
   "metadata": {},
   "outputs": [],
   "source": [
    "# #nrows = int(np.ceil(len(continuous_columns)/4))\n",
    "# nrows = int(np.ceil(df_refined.shape[1]/4))\n",
    "# fig, axes = plt.subplots(ncols=4, nrows=nrows, figsize=(22, 4*nrows))\n",
    "\n",
    "# for ax, col in zip(axes.flatten(), df_refined.columns):\n",
    "#     ax.hist(df_refined[col])\n",
    "#     ax.set_title(col)\n",
    "#     ax.tick_params('x', labelrotation=45)\n",
    "#     #ax.tick_params(labelrotation=45)\n",
    "    \n",
    "# plt.subplots_adjust(wspace=.75, hspace=.75)"
   ]
  },
  {
   "cell_type": "markdown",
   "id": "02f249f6",
   "metadata": {},
   "source": [
    "# Begin Modeling"
   ]
  },
  {
   "cell_type": "markdown",
   "id": "67018380",
   "metadata": {},
   "source": [
    "Which features have a connection with y?"
   ]
  },
  {
   "cell_type": "code",
   "execution_count": 14,
   "id": "936dedb4",
   "metadata": {},
   "outputs": [
    {
     "data": {
      "text/html": [
       "<div>\n",
       "<style scoped>\n",
       "    .dataframe tbody tr th:only-of-type {\n",
       "        vertical-align: middle;\n",
       "    }\n",
       "\n",
       "    .dataframe tbody tr th {\n",
       "        vertical-align: top;\n",
       "    }\n",
       "\n",
       "    .dataframe thead th {\n",
       "        text-align: right;\n",
       "    }\n",
       "</style>\n",
       "<table border=\"1\" class=\"dataframe\">\n",
       "  <thead>\n",
       "    <tr style=\"text-align: right;\">\n",
       "      <th></th>\n",
       "      <th>Subject Age (Est)</th>\n",
       "      <th>Officer Age</th>\n",
       "      <th>Weapon (Y/N)</th>\n",
       "      <th>Repeat Offender (Y/N)</th>\n",
       "      <th>Same Race (Y/N)</th>\n",
       "      <th>Same Gender (Y/N)</th>\n",
       "      <th>Frisk (Y/N)</th>\n",
       "      <th>Stop Resolution: Arrest (Y/N)</th>\n",
       "    </tr>\n",
       "  </thead>\n",
       "  <tbody>\n",
       "    <tr>\n",
       "      <th>Subject Age (Est)</th>\n",
       "      <td>1.000000</td>\n",
       "      <td>0.003629</td>\n",
       "      <td>0.015961</td>\n",
       "      <td>-0.059077</td>\n",
       "      <td>0.042495</td>\n",
       "      <td>0.049249</td>\n",
       "      <td>-0.032164</td>\n",
       "      <td>-0.013492</td>\n",
       "    </tr>\n",
       "    <tr>\n",
       "      <th>Officer Age</th>\n",
       "      <td>0.003629</td>\n",
       "      <td>1.000000</td>\n",
       "      <td>-0.001571</td>\n",
       "      <td>-0.009316</td>\n",
       "      <td>-0.000076</td>\n",
       "      <td>-0.029454</td>\n",
       "      <td>-0.011163</td>\n",
       "      <td>-0.019449</td>\n",
       "    </tr>\n",
       "    <tr>\n",
       "      <th>Weapon (Y/N)</th>\n",
       "      <td>0.015961</td>\n",
       "      <td>-0.001571</td>\n",
       "      <td>1.000000</td>\n",
       "      <td>-0.010797</td>\n",
       "      <td>0.022367</td>\n",
       "      <td>0.070006</td>\n",
       "      <td>0.376407</td>\n",
       "      <td>0.111760</td>\n",
       "    </tr>\n",
       "    <tr>\n",
       "      <th>Repeat Offender (Y/N)</th>\n",
       "      <td>-0.059077</td>\n",
       "      <td>-0.009316</td>\n",
       "      <td>-0.010797</td>\n",
       "      <td>1.000000</td>\n",
       "      <td>0.055296</td>\n",
       "      <td>0.010693</td>\n",
       "      <td>-0.040161</td>\n",
       "      <td>-0.018868</td>\n",
       "    </tr>\n",
       "    <tr>\n",
       "      <th>Same Race (Y/N)</th>\n",
       "      <td>0.042495</td>\n",
       "      <td>-0.000076</td>\n",
       "      <td>0.022367</td>\n",
       "      <td>0.055296</td>\n",
       "      <td>1.000000</td>\n",
       "      <td>-0.013593</td>\n",
       "      <td>-0.054436</td>\n",
       "      <td>-0.013688</td>\n",
       "    </tr>\n",
       "    <tr>\n",
       "      <th>Same Gender (Y/N)</th>\n",
       "      <td>0.049249</td>\n",
       "      <td>-0.029454</td>\n",
       "      <td>0.070006</td>\n",
       "      <td>0.010693</td>\n",
       "      <td>-0.013593</td>\n",
       "      <td>1.000000</td>\n",
       "      <td>0.110849</td>\n",
       "      <td>0.023871</td>\n",
       "    </tr>\n",
       "    <tr>\n",
       "      <th>Frisk (Y/N)</th>\n",
       "      <td>-0.032164</td>\n",
       "      <td>-0.011163</td>\n",
       "      <td>0.376407</td>\n",
       "      <td>-0.040161</td>\n",
       "      <td>-0.054436</td>\n",
       "      <td>0.110849</td>\n",
       "      <td>1.000000</td>\n",
       "      <td>0.144243</td>\n",
       "    </tr>\n",
       "    <tr>\n",
       "      <th>Stop Resolution: Arrest (Y/N)</th>\n",
       "      <td>-0.013492</td>\n",
       "      <td>-0.019449</td>\n",
       "      <td>0.111760</td>\n",
       "      <td>-0.018868</td>\n",
       "      <td>-0.013688</td>\n",
       "      <td>0.023871</td>\n",
       "      <td>0.144243</td>\n",
       "      <td>1.000000</td>\n",
       "    </tr>\n",
       "  </tbody>\n",
       "</table>\n",
       "</div>"
      ],
      "text/plain": [
       "                               Subject Age (Est)  Officer Age  Weapon (Y/N)  \\\n",
       "Subject Age (Est)                       1.000000     0.003629      0.015961   \n",
       "Officer Age                             0.003629     1.000000     -0.001571   \n",
       "Weapon (Y/N)                            0.015961    -0.001571      1.000000   \n",
       "Repeat Offender (Y/N)                  -0.059077    -0.009316     -0.010797   \n",
       "Same Race (Y/N)                         0.042495    -0.000076      0.022367   \n",
       "Same Gender (Y/N)                       0.049249    -0.029454      0.070006   \n",
       "Frisk (Y/N)                            -0.032164    -0.011163      0.376407   \n",
       "Stop Resolution: Arrest (Y/N)          -0.013492    -0.019449      0.111760   \n",
       "\n",
       "                               Repeat Offender (Y/N)  Same Race (Y/N)  \\\n",
       "Subject Age (Est)                          -0.059077         0.042495   \n",
       "Officer Age                                -0.009316        -0.000076   \n",
       "Weapon (Y/N)                               -0.010797         0.022367   \n",
       "Repeat Offender (Y/N)                       1.000000         0.055296   \n",
       "Same Race (Y/N)                             0.055296         1.000000   \n",
       "Same Gender (Y/N)                           0.010693        -0.013593   \n",
       "Frisk (Y/N)                                -0.040161        -0.054436   \n",
       "Stop Resolution: Arrest (Y/N)              -0.018868        -0.013688   \n",
       "\n",
       "                               Same Gender (Y/N)  Frisk (Y/N)  \\\n",
       "Subject Age (Est)                       0.049249    -0.032164   \n",
       "Officer Age                            -0.029454    -0.011163   \n",
       "Weapon (Y/N)                            0.070006     0.376407   \n",
       "Repeat Offender (Y/N)                   0.010693    -0.040161   \n",
       "Same Race (Y/N)                        -0.013593    -0.054436   \n",
       "Same Gender (Y/N)                       1.000000     0.110849   \n",
       "Frisk (Y/N)                             0.110849     1.000000   \n",
       "Stop Resolution: Arrest (Y/N)           0.023871     0.144243   \n",
       "\n",
       "                               Stop Resolution: Arrest (Y/N)  \n",
       "Subject Age (Est)                                  -0.013492  \n",
       "Officer Age                                        -0.019449  \n",
       "Weapon (Y/N)                                        0.111760  \n",
       "Repeat Offender (Y/N)                              -0.018868  \n",
       "Same Race (Y/N)                                    -0.013688  \n",
       "Same Gender (Y/N)                                   0.023871  \n",
       "Frisk (Y/N)                                         0.144243  \n",
       "Stop Resolution: Arrest (Y/N)                       1.000000  "
      ]
     },
     "execution_count": 14,
     "metadata": {},
     "output_type": "execute_result"
    }
   ],
   "source": [
    "col = df_refined.columns[0]\n",
    "\n",
    "df_refined.corr()"
   ]
  },
  {
   "cell_type": "code",
   "execution_count": 15,
   "id": "8198d015",
   "metadata": {},
   "outputs": [
    {
     "data": {
      "text/plain": [
       "Subject Age (Est)                                                    389101.815029\n",
       "Officer Age                                                                 387575\n",
       "Weapon (Y/N)                                                                  1203\n",
       "Repeat Offender (Y/N)                                                         9442\n",
       "Same Race (Y/N)                                                               4443\n",
       "Same Gender (Y/N)                                                             8483\n",
       "Frisk (Y/N)                                                                   3760\n",
       "Stop Resolution: Arrest (Y/N)                                                11367\n",
       "Subject Age Group                1 - 171 - 171 - 171 - 171 - 171 - 171 - 171 - ...\n",
       "Stop Resolution                  ArrestArrestArrestArrestArrestArrestArrestArre...\n",
       "Weapon Type                      NoneNoneNoneNoneNoneNoneFirearmNoneNoneNoneFir...\n",
       "Officer Gender                   MaleMaleFemaleMaleMaleMaleMaleMaleMaleMaleMale...\n",
       "Officer Race                     WhiteWhiteWhiteWhiteWhiteNativeWhiteWhiteWhite...\n",
       "Subject Perceived Race           Not providedNativeBlack or African AmericanNat...\n",
       "Subject Perceived Gender         MaleMaleFemaleMaleMaleMaleFemaleMaleMaleMaleMa...\n",
       "Call Type                        Not providedNot provided911Not provided911911O...\n",
       "Precinct                         SouthEastEastEastEastEastSouthNorthNot provide...\n",
       "Sector                           RGGEGGSJNot providedBLLLKRRBNNNGGNFFFFGBJJJMQN...\n",
       "dtype: object"
      ]
     },
     "execution_count": 15,
     "metadata": {},
     "output_type": "execute_result"
    }
   ],
   "source": [
    "df_refined.loc[df_refined['Stop Resolution: Arrest (Y/N)'] == 1].sum()"
   ]
  },
  {
   "cell_type": "code",
   "execution_count": 16,
   "id": "1d2ad06d",
   "metadata": {},
   "outputs": [],
   "source": [
    "# Split data\n",
    "y_label = 'Stop Resolution: Arrest (Y/N)'\n",
    "X = df_refined.drop([y_label,\n",
    "                     'Frisk (Y/N)', \n",
    "                     'Reported Date', \n",
    "                     'Subject Age Group', \n",
    "                     'Stop Resolution',\n",
    "                     'Call Type', \n",
    "                     'Precinct',\n",
    "                     'Sector'], \n",
    "                     axis=1)\n",
    "y = df_refined[y_label]\n",
    "\n",
    "X, X_test, y, y_test = train_test_split(X, y, random_state = RANDOM_STATE)\n",
    "\n",
    "# Remove temptation to touch test dataset\n",
    "test_data = {'X_test': X_test, 'y_test': y_test}\n",
    "with open (os.path.join(processed_data_path, 'test_data.pickle'), 'wb') as f:\n",
    "    pickle.dump (test_data, f)\n",
    "X_test = None\n",
    "y_test = None\n",
    "X.reset_index(drop=True, inplace=True)\n",
    "y.reset_index(drop=True, inplace=True)\n",
    "\n",
    "# Declare object to hold history of all model runs\n",
    "model_history = ModelHistory()"
   ]
  },
  {
   "cell_type": "markdown",
   "id": "81fd947b",
   "metadata": {},
   "source": [
    "## Create Transformer and Model Objects"
   ]
  },
  {
   "cell_type": "code",
   "execution_count": 17,
   "id": "c025db0e",
   "metadata": {},
   "outputs": [],
   "source": [
    "# One hot encoder\n",
    "droppers = [UNKNOWN]*X.select_dtypes('object').shape[1]\n",
    "one_hot_encoder = OneHotEncoder(drop=droppers, sparse=False)\n",
    "\n",
    "# Selectors\n",
    "string_selector = make_column_selector(dtype_include='object')\n",
    "number_selector = make_column_selector(dtype_include='number')\n",
    "\n",
    "\n",
    "# Column transformers\n",
    "transformer_basic = make_column_transformer((one_hot_encoder, string_selector), n_jobs=JOBS)\n",
    "\n",
    "transformer_ss = make_column_transformer((one_hot_encoder, string_selector), \n",
    "                                          (StandardScaler(), number_selector), n_jobs=JOBS)\n",
    "\n",
    "transformer_minmax = make_column_transformer((one_hot_encoder, string_selector), \n",
    "                                             (MinMaxScaler(), number_selector), n_jobs=JOBS)\n",
    "\n",
    "\n",
    "# K-Fold cross validation\n",
    "kfold = KFold(N_SPLITS, shuffle=True, random_state=RANDOM_STATE)\n",
    "\n",
    "# Resampling (smote)\n",
    "smote = SMOTE(random_state = RANDOM_STATE, n_jobs=JOBS)\n",
    "\n",
    "# Models\n",
    "model_logreg = LogisticRegression(random_state=RANDOM_STATE, max_iter=10000, n_jobs=JOBS)\n",
    "model_knn = KNeighborsClassifier(n_jobs=JOBS)\n",
    "model_dt = DecisionTreeClassifier(random_state=RANDOM_STATE)\n",
    "model_rf = RandomForestClassifier(random_state=RANDOM_STATE)\n",
    "model_xgb = XGBClassifier(use_label_encoder=False, eval_metric = 'logloss', random_state=RANDOM_STATE, n_jobs=JOBS)"
   ]
  },
  {
   "cell_type": "markdown",
   "id": "44aa49ec",
   "metadata": {},
   "source": [
    "### Logistic Regression"
   ]
  },
  {
   "cell_type": "code",
   "execution_count": 18,
   "id": "58aa7b28",
   "metadata": {},
   "outputs": [
    {
     "data": {
      "text/html": [
       "<div>\n",
       "<style scoped>\n",
       "    .dataframe tbody tr th:only-of-type {\n",
       "        vertical-align: middle;\n",
       "    }\n",
       "\n",
       "    .dataframe tbody tr th {\n",
       "        vertical-align: top;\n",
       "    }\n",
       "\n",
       "    .dataframe thead th {\n",
       "        text-align: right;\n",
       "    }\n",
       "</style>\n",
       "<table border=\"1\" class=\"dataframe\">\n",
       "  <thead>\n",
       "    <tr style=\"text-align: right;\">\n",
       "      <th></th>\n",
       "      <th>Model</th>\n",
       "      <th>n_features</th>\n",
       "      <th>Features</th>\n",
       "      <th>F1 Score</th>\n",
       "      <th>Accuracy</th>\n",
       "      <th>Notes</th>\n",
       "    </tr>\n",
       "  </thead>\n",
       "  <tbody>\n",
       "    <tr>\n",
       "      <th>0</th>\n",
       "      <td>Pipeline(steps=[('cols',\\n                 Col...</td>\n",
       "      <td>11</td>\n",
       "      <td>Index(['Subject Age (Est)', 'Officer Age', 'We...</td>\n",
       "      <td>0.397216</td>\n",
       "      <td>0.568938</td>\n",
       "      <td>logreg, add grid search and cross val</td>\n",
       "    </tr>\n",
       "  </tbody>\n",
       "</table>\n",
       "</div>"
      ],
      "text/plain": [
       "                                               Model n_features  \\\n",
       "0  Pipeline(steps=[('cols',\\n                 Col...         11   \n",
       "\n",
       "                                            Features  F1 Score  Accuracy  \\\n",
       "0  Index(['Subject Age (Est)', 'Officer Age', 'We...  0.397216  0.568938   \n",
       "\n",
       "                                   Notes  \n",
       "0  logreg, add grid search and cross val  "
      ]
     },
     "metadata": {},
     "output_type": "display_data"
    }
   ],
   "source": [
    "# # # --- BASELINE (CONTINUOUS) ---\n",
    "# X_numeric = X.select_dtypes(exclude='object')\n",
    "# model_logreg.fit(X_numeric, y)\n",
    "# model_history.add_model(model_logreg, X_numeric, y, notes='Logreg baseline')\n",
    "\n",
    "# # # --- ADD CATEGORICALS ---\n",
    "# pipe = Pipeline([('cols', transformer_basic),\n",
    "#                  ('model', model_logreg)])\n",
    "# pipe.fit(X, y)\n",
    "# model_history.add_model(pipe, X, y, notes='logreg, add categoricals')\n",
    "\n",
    "\n",
    "# # # --- ADD SMOTE ---\n",
    "# pipe = Pipeline([('cols', transformer_basic),\n",
    "#                  ('smote', smote),\n",
    "#                  ('model', model_logreg)])\n",
    "# pipe.fit(X, y)\n",
    "# model_history.add_model(pipe, X, y, notes='logreg, add SMOTE')\n",
    "\n",
    "\n",
    "# # # --- ADD STANDARD SCALER ---\n",
    "# pipe = Pipeline([('cols', transformer_ss),\n",
    "#                  ('smote', smote),\n",
    "#                  ('model', model_logreg)])\n",
    "# pipe.fit(X, y)\n",
    "# model_history.add_model(pipe, X, y, notes='logreg, add standard scaler')\n",
    "\n",
    "\n",
    "# # # --- SWITCH TO MIN-MAX SCALER ---\n",
    "# pipe = Pipeline([('cols', transformer_minmax),\n",
    "#                  ('smote', smote),\n",
    "#                  ('model', model_logreg)])\n",
    "# pipe.fit(X, y)\n",
    "# model_history.add_model(pipe, X, y, notes='logreg, switch to min-max scaler')\n",
    "\n",
    "\n",
    "# # --- ADD GRID SEARCH AND CROSS VAL ---\n",
    "pipe = Pipeline([('cols', transformer_ss),\n",
    "                 ('smote', smote),\n",
    "                 ('model', model_logreg)])\n",
    "param_grid = {'model__C': np.logspace(-4, 4, 25)}\n",
    "search = GridSearchCV(pipe, param_grid, cv=kfold, n_jobs=JOBS, scoring='f1', return_train_score=True)\n",
    "search.fit(X, y)\n",
    "model_history.add_model(search.best_estimator_, X, y, display_results=True, notes='logreg, add grid search and cross val')"
   ]
  },
  {
   "cell_type": "code",
   "execution_count": 19,
   "id": "d0d0ccdd",
   "metadata": {},
   "outputs": [
    {
     "name": "stdout",
     "output_type": "stream",
     "text": [
      "Train: 0.38409738286849304\n",
      "Test: 0.37767532893890127\n"
     ]
    },
    {
     "data": {
      "image/png": "[encoded data removed]",
      "text/plain": [
       "<Figure size 432x288 with 2 Axes>"
      ]
     },
     "metadata": {
      "needs_background": "light"
     },
     "output_type": "display_data"
    }
   ],
   "source": [
    "train_test_scores(search)\n",
    "plot_confusion_matrix(search.best_estimator_, X, y);"
   ]
  },
  {
   "cell_type": "markdown",
   "id": "d35176b0",
   "metadata": {},
   "source": [
    "### K-Nearest Neighbors"
   ]
  },
  {
   "cell_type": "code",
   "execution_count": 20,
   "id": "d37ea257",
   "metadata": {},
   "outputs": [
    {
     "data": {
      "text/html": [
       "<div>\n",
       "<style scoped>\n",
       "    .dataframe tbody tr th:only-of-type {\n",
       "        vertical-align: middle;\n",
       "    }\n",
       "\n",
       "    .dataframe tbody tr th {\n",
       "        vertical-align: top;\n",
       "    }\n",
       "\n",
       "    .dataframe thead th {\n",
       "        text-align: right;\n",
       "    }\n",
       "</style>\n",
       "<table border=\"1\" class=\"dataframe\">\n",
       "  <thead>\n",
       "    <tr style=\"text-align: right;\">\n",
       "      <th></th>\n",
       "      <th>Model</th>\n",
       "      <th>n_features</th>\n",
       "      <th>Features</th>\n",
       "      <th>F1 Score</th>\n",
       "      <th>Accuracy</th>\n",
       "      <th>Notes</th>\n",
       "    </tr>\n",
       "  </thead>\n",
       "  <tbody>\n",
       "    <tr>\n",
       "      <th>0</th>\n",
       "      <td>Pipeline(steps=[('cols',\\n                 Col...</td>\n",
       "      <td>11</td>\n",
       "      <td>Index(['Subject Age (Est)', 'Officer Age', 'We...</td>\n",
       "      <td>0.397216</td>\n",
       "      <td>0.568938</td>\n",
       "      <td>logreg, add grid search and cross val</td>\n",
       "    </tr>\n",
       "    <tr>\n",
       "      <th>1</th>\n",
       "      <td>Pipeline(steps=[('cols',\\n                 Col...</td>\n",
       "      <td>11</td>\n",
       "      <td>Index(['Subject Age (Est)', 'Officer Age', 'We...</td>\n",
       "      <td>0.572408</td>\n",
       "      <td>0.705959</td>\n",
       "      <td>grid search KNN</td>\n",
       "    </tr>\n",
       "  </tbody>\n",
       "</table>\n",
       "</div>"
      ],
      "text/plain": [
       "                                               Model n_features  \\\n",
       "0  Pipeline(steps=[('cols',\\n                 Col...         11   \n",
       "1  Pipeline(steps=[('cols',\\n                 Col...         11   \n",
       "\n",
       "                                            Features  F1 Score  Accuracy  \\\n",
       "0  Index(['Subject Age (Est)', 'Officer Age', 'We...  0.397216  0.568938   \n",
       "1  Index(['Subject Age (Est)', 'Officer Age', 'We...  0.572408  0.705959   \n",
       "\n",
       "                                   Notes  \n",
       "0  logreg, add grid search and cross val  \n",
       "1                        grid search KNN  "
      ]
     },
     "metadata": {},
     "output_type": "display_data"
    }
   ],
   "source": [
    "# --- GRID NEEDS BETTER PARAMETER CHOICES ---\n",
    "pipe = Pipeline([('cols', transformer_ss),\n",
    "                 ('smote', smote),\n",
    "                 ('model', model_knn)])\n",
    "\n",
    "param_grid = {'model__leaf_size': [50],\n",
    "               'model__n_neighbors': np.arange(3, 8, 2)} \n",
    "search = GridSearchCV(pipe, param_grid, cv=kfold, n_jobs=JOBS, scoring='f1', return_train_score=True)\n",
    "search.fit(X, y)\n",
    "model_history.add_model(search.best_estimator_, X, y, display_results=True, notes='grid search KNN')"
   ]
  },
  {
   "cell_type": "code",
   "execution_count": 22,
   "id": "3bec00e6",
   "metadata": {},
   "outputs": [
    {
     "name": "stdout",
     "output_type": "stream",
     "text": [
      "Train: 0.6273361935094655\n",
      "Test: 0.3406432026185872\n"
     ]
    },
    {
     "data": {
      "image/png": "[encoded data removed]",
      "text/plain": [
       "<Figure size 432x288 with 2 Axes>"
      ]
     },
     "metadata": {
      "needs_background": "light"
     },
     "output_type": "display_data"
    }
   ],
   "source": [
    "train_test_scores(search)\n",
    "plot_confusion_matrix(search.best_estimator_, X, y);"
   ]
  },
  {
   "cell_type": "markdown",
   "id": "dcb72f7b",
   "metadata": {},
   "source": [
    "### Decision Tree"
   ]
  },
  {
   "cell_type": "code",
   "execution_count": 23,
   "id": "cfc7b74c",
   "metadata": {},
   "outputs": [
    {
     "data": {
      "text/html": [
       "<div>\n",
       "<style scoped>\n",
       "    .dataframe tbody tr th:only-of-type {\n",
       "        vertical-align: middle;\n",
       "    }\n",
       "\n",
       "    .dataframe tbody tr th {\n",
       "        vertical-align: top;\n",
       "    }\n",
       "\n",
       "    .dataframe thead th {\n",
       "        text-align: right;\n",
       "    }\n",
       "</style>\n",
       "<table border=\"1\" class=\"dataframe\">\n",
       "  <thead>\n",
       "    <tr style=\"text-align: right;\">\n",
       "      <th></th>\n",
       "      <th>Model</th>\n",
       "      <th>n_features</th>\n",
       "      <th>Features</th>\n",
       "      <th>F1 Score</th>\n",
       "      <th>Accuracy</th>\n",
       "      <th>Notes</th>\n",
       "    </tr>\n",
       "  </thead>\n",
       "  <tbody>\n",
       "    <tr>\n",
       "      <th>0</th>\n",
       "      <td>Pipeline(steps=[('cols',\\n                 Col...</td>\n",
       "      <td>11</td>\n",
       "      <td>Index(['Subject Age (Est)', 'Officer Age', 'We...</td>\n",
       "      <td>0.397216</td>\n",
       "      <td>0.568938</td>\n",
       "      <td>logreg, add grid search and cross val</td>\n",
       "    </tr>\n",
       "    <tr>\n",
       "      <th>1</th>\n",
       "      <td>Pipeline(steps=[('cols',\\n                 Col...</td>\n",
       "      <td>11</td>\n",
       "      <td>Index(['Subject Age (Est)', 'Officer Age', 'We...</td>\n",
       "      <td>0.572408</td>\n",
       "      <td>0.705959</td>\n",
       "      <td>grid search KNN</td>\n",
       "    </tr>\n",
       "    <tr>\n",
       "      <th>2</th>\n",
       "      <td>Pipeline(steps=[('cols',\\n                 Col...</td>\n",
       "      <td>11</td>\n",
       "      <td>Index(['Subject Age (Est)', 'Officer Age', 'We...</td>\n",
       "      <td>0.401341</td>\n",
       "      <td>0.495008</td>\n",
       "      <td>grid-based decision tree</td>\n",
       "    </tr>\n",
       "  </tbody>\n",
       "</table>\n",
       "</div>"
      ],
      "text/plain": [
       "                                               Model n_features  \\\n",
       "0  Pipeline(steps=[('cols',\\n                 Col...         11   \n",
       "1  Pipeline(steps=[('cols',\\n                 Col...         11   \n",
       "2  Pipeline(steps=[('cols',\\n                 Col...         11   \n",
       "\n",
       "                                            Features  F1 Score  Accuracy  \\\n",
       "0  Index(['Subject Age (Est)', 'Officer Age', 'We...  0.397216  0.568938   \n",
       "1  Index(['Subject Age (Est)', 'Officer Age', 'We...  0.572408  0.705959   \n",
       "2  Index(['Subject Age (Est)', 'Officer Age', 'We...  0.401341  0.495008   \n",
       "\n",
       "                                   Notes  \n",
       "0  logreg, add grid search and cross val  \n",
       "1                        grid search KNN  \n",
       "2               grid-based decision tree  "
      ]
     },
     "metadata": {},
     "output_type": "display_data"
    }
   ],
   "source": [
    "pipe = Pipeline([('cols', transformer_ss),\n",
    "                 ('smote', smote),\n",
    "                 ('model', model_dt)])\n",
    "\n",
    "param_grid = {'model__max_depth': [2, 6, 10], \n",
    "              'model__criterion': ['gini', 'entropy'],\n",
    "              'model__min_samples_split': [5, 10],\n",
    "              'model__min_samples_leaf': [5, 10]} \n",
    "\n",
    "search = GridSearchCV(pipe, param_grid, cv=kfold, n_jobs=JOBS, scoring='f1', return_train_score=True)\n",
    "search.fit(X, y)\n",
    "model_history.add_model(search.best_estimator_, X, y, display_results=True, notes='grid-based decision tree')"
   ]
  },
  {
   "cell_type": "code",
   "execution_count": 24,
   "id": "8cf340de",
   "metadata": {},
   "outputs": [
    {
     "name": "stdout",
     "output_type": "stream",
     "text": [
      "Train: 0.3901682489536122\n",
      "Test: 0.382614081200431\n"
     ]
    },
    {
     "data": {
      "image/png": "[encoded data removed]",
      "text/plain": [
       "<Figure size 576x864 with 1 Axes>"
      ]
     },
     "metadata": {
      "needs_background": "light"
     },
     "output_type": "display_data"
    },
    {
     "data": {
      "image/png": "[encoded data removed]",
      "text/plain": [
       "<Figure size 432x288 with 2 Axes>"
      ]
     },
     "metadata": {
      "needs_background": "light"
     },
     "output_type": "display_data"
    }
   ],
   "source": [
    "train_test_scores(search)\n",
    "plot_importances(search, X)\n",
    "plot_confusion_matrix(search.best_estimator_, X, y);"
   ]
  },
  {
   "cell_type": "code",
   "execution_count": 27,
   "id": "15c6e815",
   "metadata": {},
   "outputs": [],
   "source": [
    "# # # --- PLOT TREE\n",
    "# best_pipe = search.best_estimator_\n",
    "# ohe_names = best_pipe[0].transformers_[0][1].\\\n",
    "#             get_feature_names(X.select_dtypes('object').columns)\n",
    "# numeric_names = best_pipe[0].transformers_[1][2]\n",
    "# feature_names = list(ohe_names)+numeric_names\n",
    "# plot_tree(best_pipe, \n",
    "#           feature_names = feature_names, \n",
    "#           class_names=np.unique(y).astype('str'),\n",
    "#           filled=True, rounded=True)"
   ]
  },
  {
   "cell_type": "markdown",
   "id": "085a6def",
   "metadata": {},
   "source": [
    "### Random Forest"
   ]
  },
  {
   "cell_type": "code",
   "execution_count": 28,
   "id": "e5601f83",
   "metadata": {},
   "outputs": [
    {
     "data": {
      "text/html": [
       "<div>\n",
       "<style scoped>\n",
       "    .dataframe tbody tr th:only-of-type {\n",
       "        vertical-align: middle;\n",
       "    }\n",
       "\n",
       "    .dataframe tbody tr th {\n",
       "        vertical-align: top;\n",
       "    }\n",
       "\n",
       "    .dataframe thead th {\n",
       "        text-align: right;\n",
       "    }\n",
       "</style>\n",
       "<table border=\"1\" class=\"dataframe\">\n",
       "  <thead>\n",
       "    <tr style=\"text-align: right;\">\n",
       "      <th></th>\n",
       "      <th>Model</th>\n",
       "      <th>n_features</th>\n",
       "      <th>Features</th>\n",
       "      <th>F1 Score</th>\n",
       "      <th>Accuracy</th>\n",
       "      <th>Notes</th>\n",
       "    </tr>\n",
       "  </thead>\n",
       "  <tbody>\n",
       "    <tr>\n",
       "      <th>0</th>\n",
       "      <td>Pipeline(steps=[('cols',\\n                 Col...</td>\n",
       "      <td>11</td>\n",
       "      <td>Index(['Subject Age (Est)', 'Officer Age', 'We...</td>\n",
       "      <td>0.397216</td>\n",
       "      <td>0.568938</td>\n",
       "      <td>logreg, add grid search and cross val</td>\n",
       "    </tr>\n",
       "    <tr>\n",
       "      <th>1</th>\n",
       "      <td>Pipeline(steps=[('cols',\\n                 Col...</td>\n",
       "      <td>11</td>\n",
       "      <td>Index(['Subject Age (Est)', 'Officer Age', 'We...</td>\n",
       "      <td>0.572408</td>\n",
       "      <td>0.705959</td>\n",
       "      <td>grid search KNN</td>\n",
       "    </tr>\n",
       "    <tr>\n",
       "      <th>2</th>\n",
       "      <td>Pipeline(steps=[('cols',\\n                 Col...</td>\n",
       "      <td>11</td>\n",
       "      <td>Index(['Subject Age (Est)', 'Officer Age', 'We...</td>\n",
       "      <td>0.401341</td>\n",
       "      <td>0.495008</td>\n",
       "      <td>grid-based decision tree</td>\n",
       "    </tr>\n",
       "    <tr>\n",
       "      <th>3</th>\n",
       "      <td>Pipeline(steps=[('cols',\\n                 Col...</td>\n",
       "      <td>11</td>\n",
       "      <td>Index(['Subject Age (Est)', 'Officer Age', 'We...</td>\n",
       "      <td>0.417468</td>\n",
       "      <td>0.605520</td>\n",
       "      <td>grid-based RF</td>\n",
       "    </tr>\n",
       "  </tbody>\n",
       "</table>\n",
       "</div>"
      ],
      "text/plain": [
       "                                               Model n_features  \\\n",
       "0  Pipeline(steps=[('cols',\\n                 Col...         11   \n",
       "1  Pipeline(steps=[('cols',\\n                 Col...         11   \n",
       "2  Pipeline(steps=[('cols',\\n                 Col...         11   \n",
       "3  Pipeline(steps=[('cols',\\n                 Col...         11   \n",
       "\n",
       "                                            Features  F1 Score  Accuracy  \\\n",
       "0  Index(['Subject Age (Est)', 'Officer Age', 'We...  0.397216  0.568938   \n",
       "1  Index(['Subject Age (Est)', 'Officer Age', 'We...  0.572408  0.705959   \n",
       "2  Index(['Subject Age (Est)', 'Officer Age', 'We...  0.401341  0.495008   \n",
       "3  Index(['Subject Age (Est)', 'Officer Age', 'We...  0.417468  0.605520   \n",
       "\n",
       "                                   Notes  \n",
       "0  logreg, add grid search and cross val  \n",
       "1                        grid search KNN  \n",
       "2               grid-based decision tree  \n",
       "3                          grid-based RF  "
      ]
     },
     "metadata": {},
     "output_type": "display_data"
    }
   ],
   "source": [
    "param_grid = {\n",
    "    'model__n_estimators': [10, 30],#, 100],\n",
    "    'model__criterion': ['gini', 'entropy'],\n",
    "    'model__max_depth': [2, 6, 10],\n",
    "    'model__min_samples_split': [5, 10],\n",
    "    'model__min_samples_leaf': [3, 6]}\n",
    "\n",
    "\n",
    "pipe = Pipeline([('cols', transformer_ss),\n",
    "                 ('smote', smote),\n",
    "                 ('model', model_rf)])\n",
    "search = GridSearchCV(pipe, param_grid, cv=kfold, n_jobs=JOBS, scoring='f1', return_train_score=True)\n",
    "search.fit(X, y)\n",
    "model_history.add_model(search.best_estimator_, X, y, display_results=True, notes='grid-based RF')"
   ]
  },
  {
   "cell_type": "code",
   "execution_count": 29,
   "id": "b3f9c95a",
   "metadata": {},
   "outputs": [
    {
     "name": "stdout",
     "output_type": "stream",
     "text": [
      "Train: 0.3650676974254088\n",
      "Test: 0.3456272366557777\n"
     ]
    },
    {
     "data": {
      "image/png": "[encoded data removed]",
      "text/plain": [
       "<Figure size 576x864 with 1 Axes>"
      ]
     },
     "metadata": {
      "needs_background": "light"
     },
     "output_type": "display_data"
    },
    {
     "data": {
      "image/png": "[encoded data removed]",
      "text/plain": [
       "<Figure size 432x288 with 2 Axes>"
      ]
     },
     "metadata": {
      "needs_background": "light"
     },
     "output_type": "display_data"
    }
   ],
   "source": [
    "train_test_scores(search)\n",
    "plot_importances(search, X)\n",
    "plot_confusion_matrix(search.best_estimator_, X, y);"
   ]
  },
  {
   "cell_type": "markdown",
   "id": "3a028d8d",
   "metadata": {},
   "source": [
    "### XG Boost"
   ]
  },
  {
   "cell_type": "code",
   "execution_count": 30,
   "id": "adc5878a",
   "metadata": {},
   "outputs": [
    {
     "data": {
      "text/html": [
       "<div>\n",
       "<style scoped>\n",
       "    .dataframe tbody tr th:only-of-type {\n",
       "        vertical-align: middle;\n",
       "    }\n",
       "\n",
       "    .dataframe tbody tr th {\n",
       "        vertical-align: top;\n",
       "    }\n",
       "\n",
       "    .dataframe thead th {\n",
       "        text-align: right;\n",
       "    }\n",
       "</style>\n",
       "<table border=\"1\" class=\"dataframe\">\n",
       "  <thead>\n",
       "    <tr style=\"text-align: right;\">\n",
       "      <th></th>\n",
       "      <th>Model</th>\n",
       "      <th>n_features</th>\n",
       "      <th>Features</th>\n",
       "      <th>F1 Score</th>\n",
       "      <th>Accuracy</th>\n",
       "      <th>Notes</th>\n",
       "    </tr>\n",
       "  </thead>\n",
       "  <tbody>\n",
       "    <tr>\n",
       "      <th>0</th>\n",
       "      <td>Pipeline(steps=[('cols',\\n                 Col...</td>\n",
       "      <td>11</td>\n",
       "      <td>Index(['Subject Age (Est)', 'Officer Age', 'We...</td>\n",
       "      <td>0.397216</td>\n",
       "      <td>0.568938</td>\n",
       "      <td>logreg, add grid search and cross val</td>\n",
       "    </tr>\n",
       "    <tr>\n",
       "      <th>1</th>\n",
       "      <td>Pipeline(steps=[('cols',\\n                 Col...</td>\n",
       "      <td>11</td>\n",
       "      <td>Index(['Subject Age (Est)', 'Officer Age', 'We...</td>\n",
       "      <td>0.572408</td>\n",
       "      <td>0.705959</td>\n",
       "      <td>grid search KNN</td>\n",
       "    </tr>\n",
       "    <tr>\n",
       "      <th>2</th>\n",
       "      <td>Pipeline(steps=[('cols',\\n                 Col...</td>\n",
       "      <td>11</td>\n",
       "      <td>Index(['Subject Age (Est)', 'Officer Age', 'We...</td>\n",
       "      <td>0.401341</td>\n",
       "      <td>0.495008</td>\n",
       "      <td>grid-based decision tree</td>\n",
       "    </tr>\n",
       "    <tr>\n",
       "      <th>3</th>\n",
       "      <td>Pipeline(steps=[('cols',\\n                 Col...</td>\n",
       "      <td>11</td>\n",
       "      <td>Index(['Subject Age (Est)', 'Officer Age', 'We...</td>\n",
       "      <td>0.417468</td>\n",
       "      <td>0.605520</td>\n",
       "      <td>grid-based RF</td>\n",
       "    </tr>\n",
       "    <tr>\n",
       "      <th>4</th>\n",
       "      <td>Pipeline(steps=[('cols',\\n                 Col...</td>\n",
       "      <td>11</td>\n",
       "      <td>Index(['Subject Age (Est)', 'Officer Age', 'We...</td>\n",
       "      <td>0.216470</td>\n",
       "      <td>0.729846</td>\n",
       "      <td>grid-based xgb</td>\n",
       "    </tr>\n",
       "  </tbody>\n",
       "</table>\n",
       "</div>"
      ],
      "text/plain": [
       "                                               Model n_features  \\\n",
       "0  Pipeline(steps=[('cols',\\n                 Col...         11   \n",
       "1  Pipeline(steps=[('cols',\\n                 Col...         11   \n",
       "2  Pipeline(steps=[('cols',\\n                 Col...         11   \n",
       "3  Pipeline(steps=[('cols',\\n                 Col...         11   \n",
       "4  Pipeline(steps=[('cols',\\n                 Col...         11   \n",
       "\n",
       "                                            Features  F1 Score  Accuracy  \\\n",
       "0  Index(['Subject Age (Est)', 'Officer Age', 'We...  0.397216  0.568938   \n",
       "1  Index(['Subject Age (Est)', 'Officer Age', 'We...  0.572408  0.705959   \n",
       "2  Index(['Subject Age (Est)', 'Officer Age', 'We...  0.401341  0.495008   \n",
       "3  Index(['Subject Age (Est)', 'Officer Age', 'We...  0.417468  0.605520   \n",
       "4  Index(['Subject Age (Est)', 'Officer Age', 'We...  0.216470  0.729846   \n",
       "\n",
       "                                   Notes  \n",
       "0  logreg, add grid search and cross val  \n",
       "1                        grid search KNN  \n",
       "2               grid-based decision tree  \n",
       "3                          grid-based RF  \n",
       "4                         grid-based xgb  "
      ]
     },
     "metadata": {},
     "output_type": "display_data"
    }
   ],
   "source": [
    "param_grid = {\n",
    "    'model__learning_rate': [0.1, 0.2],\n",
    "    'model__max_depth': [3, 6],\n",
    "    'model__min_child_weight': [1, 2],\n",
    "    'model__subsample': [0.5, 0.7],\n",
    "    'model__n_estimators': [100]}\n",
    "\n",
    "pipe = Pipeline([('cols', transformer_ss),\n",
    "                 ('smote', smote),\n",
    "                 ('model', model_xgb)])\n",
    "\n",
    "search = GridSearchCV(pipe, param_grid, cv=kfold, n_jobs=JOBS, scoring='f1', return_train_score=True)\n",
    "search.fit(X, y)\n",
    "model_history.add_model(search.best_estimator_, X, y, display_results=True, notes='grid-based xgb')"
   ]
  },
  {
   "cell_type": "code",
   "execution_count": 31,
   "id": "75b05871",
   "metadata": {},
   "outputs": [
    {
     "name": "stdout",
     "output_type": "stream",
     "text": [
      "Train: 0.20610178622542447\n",
      "Test: 0.1587684531770599\n"
     ]
    },
    {
     "data": {
      "image/png": "[encoded data removed]",
      "text/plain": [
       "<Figure size 576x864 with 1 Axes>"
      ]
     },
     "metadata": {
      "needs_background": "light"
     },
     "output_type": "display_data"
    },
    {
     "data": {
      "image/png": "[encoded data removed]",
      "text/plain": [
       "<Figure size 432x288 with 2 Axes>"
      ]
     },
     "metadata": {
      "needs_background": "light"
     },
     "output_type": "display_data"
    }
   ],
   "source": [
    "train_test_scores(search)\n",
    "plot_importances(search, X)\n",
    "plot_confusion_matrix(search.best_estimator_, X, y);"
   ]
  },
  {
   "cell_type": "code",
   "execution_count": 32,
   "id": "cea2a1a6",
   "metadata": {},
   "outputs": [
    {
     "data": {
      "text/plain": [
       "0.21849750730617157"
      ]
     },
     "execution_count": 32,
     "metadata": {},
     "output_type": "execute_result"
    }
   ],
   "source": [
    "fp = 1783\n",
    "fn = 7309\n",
    "tp = 1271\n",
    "tn = 23588\n",
    "\n",
    "tp / (tp+0.5*(fp+fn))"
   ]
  },
  {
   "cell_type": "markdown",
   "id": "2d3b28fb",
   "metadata": {},
   "source": [
    "# To do\n",
    "\n",
    "- Look into individual cases to see why resolution would be set as Arrest, yet arrest flag was not flipped\n",
    "- Once a model is selected, how should the results be presented?\n",
    "    - Back up any sort of conclusion with hypothesis testing\n",
    "    - If it is a tree-based model, consider printing out the graphical representation of the tree that was used\n",
    "    - Regarding how to gain meaning from results:\n",
    "        - Perhaps use hypothesis testing to see extent of results\n",
    "        - If linear model: bootstrapping can be used to get coefficients\n",
    "        - If non-linear (non-parametric) models: once final model is selected, run it again without race (e.g.) to see how error changes. Also see how much the error changes when dropping other features?\n",
    "    - Could also use step-forward (e.g.) feature selection function that was implemented in the lab project. Make sure to change from R2 eval metric to F1 (or whatever I end up using). Also make sure this is looking at the result on validation data, not just overall data (reduce overfitting). \n",
    "    \n",
    "- Try running from scratch with different 'Arrest' flag metric\n",
    "- Where input (e.g. Officer Age) is continuous: run hypothesis test. Alternatively, do bootstapping for categorical  "
   ]
  },
  {
   "cell_type": "markdown",
   "id": "7afcd907",
   "metadata": {},
   "source": [
    "# Questions\n",
    "- Why does F1 get worse for logreg once GridSearch is implemented?\n",
    "- In cases of grid search, should I be just adding best_estimator_ to the model history to avoid re-running everything within the model history object?\n",
    "- Discuss age interpolation function\n",
    "- How do I decide which \"arrest metric\" to use?\n",
    "\n",
    "##### For report \"next steps\" section:\n",
    "- More formulaic feature selection process\n",
    "- Create model for filling in missing ages instead of dropping values"
   ]
  },
  {
   "cell_type": "code",
   "execution_count": null,
   "id": "e3d987db",
   "metadata": {},
   "outputs": [],
   "source": []
  },
  {
   "cell_type": "code",
   "execution_count": null,
   "id": "804e1876",
   "metadata": {},
   "outputs": [],
   "source": []
  }
 ],
 "metadata": {
  "kernelspec": {
   "display_name": "learn-env",
   "language": "python",
   "name": "learn-env"
  },
  "language_info": {
   "codemirror_mode": {
    "name": "ipython",
    "version": 3
   },
   "file_extension": ".py",
   "mimetype": "text/x-python",
   "name": "python",
   "nbconvert_exporter": "python",
   "pygments_lexer": "ipython3",
   "version": "3.8.3"
  }
 },
 "nbformat": 4,
 "nbformat_minor": 5
}
