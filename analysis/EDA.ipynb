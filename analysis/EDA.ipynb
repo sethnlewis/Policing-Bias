{
 "cells": [
  {
   "cell_type": "markdown",
   "id": "2f31f49b",
   "metadata": {},
   "source": [
    "https://data.seattle.gov/Public-Safety/Terry-Stops/28ny-9ts8"
   ]
  },
  {
   "cell_type": "code",
   "execution_count": 32,
   "id": "346b2afa",
   "metadata": {},
   "outputs": [
    {
     "name": "stdout",
     "output_type": "stream",
     "text": [
      "The autoreload extension is already loaded. To reload it, use:\n",
      "  %reload_ext autoreload\n"
     ]
    }
   ],
   "source": [
    "import pandas as pd\n",
    "import numpy as np\n",
    "import matplotlib.pyplot as plt\n",
    "from datetime import time\n",
    "import os, sys\n",
    "\n",
    "from sklearn.pipeline import make_pipeline, Pipeline\n",
    "from sklearn.model_selection import train_test_split\n",
    "from sklearn.preprocessing import OneHotEncoder, LabelEncoder\n",
    "from sklearn.compose import make_column_selector, make_column_transformer\n",
    "from sklearn.linear_model import LogisticRegression\n",
    "from sklearn.neighbors import KNeighborsClassifier\n",
    "from sklearn.preprocessing import StandardScaler\n",
    "\n",
    "%load_ext autoreload\n",
    "%autoreload 2\n",
    "pd.set_option('display.max_columns', 100)\n",
    "\n",
    "RANDOM_STATE = 100"
   ]
  },
  {
   "cell_type": "code",
   "execution_count": 12,
   "id": "269b391a",
   "metadata": {},
   "outputs": [],
   "source": [
    "path = os.path.join('..', 'data', 'raw', 'terry-stops.csv')\n",
    "df = pd.read_csv(path, dtype='str')\n",
    "\n",
    "# Strip spaces, as relevant\n",
    "for col in df.columns:\n",
    "    df[col] = df[col].str.strip()"
   ]
  },
  {
   "cell_type": "code",
   "execution_count": 13,
   "id": "6843b3ef",
   "metadata": {},
   "outputs": [
    {
     "name": "stdout",
     "output_type": "stream",
     "text": [
      "<class 'pandas.core.frame.DataFrame'>\n",
      "RangeIndex: 47213 entries, 0 to 47212\n",
      "Data columns (total 23 columns):\n",
      " #   Column                    Non-Null Count  Dtype \n",
      "---  ------                    --------------  ----- \n",
      " 0   Subject Age Group         47213 non-null  object\n",
      " 1   Subject ID                47213 non-null  object\n",
      " 2   GO / SC Num               47213 non-null  object\n",
      " 3   Terry Stop ID             47213 non-null  object\n",
      " 4   Stop Resolution           47213 non-null  object\n",
      " 5   Weapon Type               47213 non-null  object\n",
      " 6   Officer ID                47213 non-null  object\n",
      " 7   Officer YOB               47213 non-null  object\n",
      " 8   Officer Gender            47213 non-null  object\n",
      " 9   Officer Race              47213 non-null  object\n",
      " 10  Subject Perceived Race    47213 non-null  object\n",
      " 11  Subject Perceived Gender  47213 non-null  object\n",
      " 12  Reported Date             47213 non-null  object\n",
      " 13  Reported Time             47213 non-null  object\n",
      " 14  Initial Call Type         47213 non-null  object\n",
      " 15  Final Call Type           47213 non-null  object\n",
      " 16  Call Type                 47213 non-null  object\n",
      " 17  Officer Squad             46609 non-null  object\n",
      " 18  Arrest Flag               47213 non-null  object\n",
      " 19  Frisk Flag                47213 non-null  object\n",
      " 20  Precinct                  47213 non-null  object\n",
      " 21  Sector                    47213 non-null  object\n",
      " 22  Beat                      47213 non-null  object\n",
      "dtypes: object(23)\n",
      "memory usage: 8.3+ MB\n"
     ]
    }
   ],
   "source": [
    "df.info()"
   ]
  },
  {
   "cell_type": "code",
   "execution_count": null,
   "id": "40a1d8c8",
   "metadata": {},
   "outputs": [],
   "source": []
  },
  {
   "cell_type": "code",
   "execution_count": null,
   "id": "17ec9667",
   "metadata": {},
   "outputs": [],
   "source": []
  },
  {
   "cell_type": "code",
   "execution_count": 14,
   "id": "ef11f4d8",
   "metadata": {},
   "outputs": [],
   "source": [
    "# ------ CLEAN DATA ONE COLUMN AT A TIME -------\n",
    "\n",
    "# Subject Age Group\n",
    "df['Subject Age Group'].replace('-', np.nan, inplace=True)\n",
    "\n",
    "# Subject ID\n",
    "df['Subject ID'].replace('-1', np.nan, inplace=True)\n",
    "\n",
    "# Weapon Type\n",
    "df['Weapon Type'].replace('-', 'None', inplace=True)\n",
    "df['Weapon Type'].replace('Firearm Other', 'Firearm', inplace=True)\n",
    "df['Weapon Type'].replace('Other Firearm', 'Firearm', inplace=True)\n",
    "df['Weapon Type'].replace('Firearm (unk type)', 'Firearm', inplace=True)\n",
    "df['Weapon Type'].replace('None/Not Applicable', 'None', inplace=True)\n",
    "df['Weapon Type'].replace('Brass Knuckles', 'Club, Blackjack, Brass Knuckles', inplace=True)\n",
    "df['Weapon Type'].replace('Blackjack', 'Club, Blackjack, Brass Knuckles', inplace=True)\n",
    "df['Weapon Type'].replace('Club', 'Club, Blackjack, Brass Knuckles', inplace=True)\n",
    "df['Weapon Type'].replace('Shotgun', 'Rifle', inplace=True)\n",
    "\n",
    "# Officer Year of Birth\n",
    "df['Officer YOB'] = df['Officer YOB'].astype('int')\n",
    "\n",
    "# Officer Race\n",
    "df['Officer Race'].replace('Unknown', np.nan, inplace=True)\n",
    "df['Officer Race'].replace('Not Specified', np.nan, inplace=True)\n",
    "\n",
    "# Subject Perceived Race\n",
    "df['Subject Perceived Race'].replace('-', np.nan, inplace=True)\n",
    "df['Subject Perceived Race'].replace('Other', np.nan, inplace=True)\n",
    "df['Subject Perceived Race'].replace('Unknown', np.nan, inplace=True)\n",
    "\n",
    "\n",
    "# Subject Perceived Gender\n",
    "df['Subject Perceived Gender'].replace('Unable to Determine', np.nan, inplace=True)\n",
    "df['Subject Perceived Gender'].replace('-', np.nan, inplace=True)\n",
    "df['Subject Perceived Gender'].replace('Unknown', np.nan, inplace=True)\n",
    "df['Subject Perceived Gender'].replace('Male', 'M', inplace=True)\n",
    "df['Subject Perceived Gender'].replace('Female', 'F', inplace=True)\n",
    "# Regarding below line: only 4 individuals remained in the non-binary category after dropping rows with na's in relevant fields\n",
    "# I'm reluctant to remove this category given the potential to investigate one tiny aspect of the societal bias against \n",
    "# non-binary folks. However, with a sample size of 4, it is not statistically significant enough to provide meaningful results\n",
    "df['Subject Perceived Gender'].replace('Gender Diverse (gender non-conforming and/or transgender)', np.nan, inplace=True)\n",
    "\n",
    "\n",
    "# Reported Date\n",
    "df['Reported Date'] = df['Reported Date'].astype('datetime64')\n",
    "\n",
    "# Exclude for now simply because datetime.time shows up as 'object' type during ohe, which caused problems downstream\n",
    "#if 'datetime.time' not in str(type(df['Reported Time'][0])): # Use if statement to avoid error when re-running\n",
    "#    df['Reported Time'] = [time.fromisoformat(t) for t in df['Reported Time']]\n",
    "\n",
    "# Reported Time\n",
    "df['Reported Hour'] = [int(x[:2]) for x in df['Reported Time']]\n",
    "    \n",
    "# Call Type\n",
    "df['Call Type'].replace('TEXT MESSAGE', '-', inplace=True)\n",
    "df['Call Type'].replace('SCHEDULED EVENT (RECURRING)', '-', inplace=True)\n",
    "    \n",
    "# Frisk Flag\n",
    "df['Frisk Flag'].replace('-', np.nan, inplace=True)\n",
    "\n",
    "# Precinct\n",
    "df['Precinct'].replace('-', 'Unknown', inplace=True)\n",
    "df['Precinct'].replace('FK ERROR', 'Unknown', inplace=True)\n",
    "#df['Precinct'].replace('OOJ', 'Unknown', inplace=True)\n",
    "df['Precinct'].replace('SouthWest', 'Southwest', inplace=True)\n",
    "\n",
    "# Sector\n",
    "df['Sector'].replace('99', '-', inplace=True)\n",
    "\n",
    "# Beat\n",
    "df['Beat'].replace('S', '-', inplace=True)\n",
    "df['Beat'].replace('99', '-', inplace=True)\n",
    "\n",
    "\n",
    "# Categorize \"Call Types\". Variable used to create dictionary in CSV\n",
    "call_types = pd.concat([df['Call Type'], df['Initial Call Type'], df['Final Call Type']]).value_counts().keys().values\n",
    "path = os.path.join('..', 'data', 'categorize call types.csv')\n",
    "call_type_dictionary = pd.read_csv(path)\n",
    "call_type_dictionary = dict(zip(call_type_dictionary.iloc[:, 0], call_type_dictionary.iloc[:, 1]))\n",
    "\n",
    "\n",
    "    \n",
    "#--- INCOMPLETE!\n",
    "df['Initial Call Type'] = df['Initial Call Type'].map(call_type_dictionary)\n",
    "df['Final Call Type'] = df['Final Call Type'].map(call_type_dictionary)\n",
    "df['Call Type'] = df['Call Type'].map(call_type_dictionary)\n"
   ]
  },
  {
   "cell_type": "code",
   "execution_count": 15,
   "id": "46d0dfdc",
   "metadata": {},
   "outputs": [],
   "source": [
    "# Engineer new features\n",
    "\n",
    "# Calculate Officer Age\n",
    "if 'Officer YOB' in df.columns:\n",
    "    df['Officer Age'] = df['Reported Date'].apply(lambda x: x.year) - df['Officer YOB']\n",
    "    df['Officer Age'] = df['Officer Age'].apply(lambda x: np.nan if x > 100 else x)\n",
    "    df.drop('Officer YOB', axis=1, inplace=True)\n",
    "\n",
    "    \n",
    "# Determine whether or not weapon was involved\n",
    "#has_weapon = lambda x: 'No' if x == 'None' else 'Yes'\n",
    "df['Weapon (Y/N)'] = (df['Weapon Type'] != 'None').astype('int')\n",
    "\n",
    "\n",
    "# Calculate the number of stops per subject\n",
    "offense_ct_dict = dict(df['Subject ID'].value_counts())\n",
    "df['Offense Count'] = df['Subject ID'].map(offense_ct_dict)\n",
    "# Identify whether a subject has been involved in multiple stops\n",
    "df['Repeat Offender (Y/N)'] = (df['Offense Count'] > 1).astype('int')\n",
    "# Drop \"Offense Count\" for now given the number of missing values\n",
    "if 'Offense Count' in df:\n",
    "    df.drop('Offense Count', axis=1, inplace=True)\n",
    "\n",
    "\n",
    "\n",
    "# Identify whether race of officer is same as race of subject\n",
    "df['Different Race'] = (df['Officer Race'] != df['Subject Perceived Race']).astype('int')\n",
    "\n",
    "# Identify whether gender of officer is same as gender of subject\n",
    "df['Different Gender'] = (df['Officer Gender'] == df['Subject Perceived Gender']).astype('int')"
   ]
  },
  {
   "cell_type": "code",
   "execution_count": 16,
   "id": "190066e9",
   "metadata": {},
   "outputs": [],
   "source": [
    "# Rename columns and drop 'na' rows\n",
    "if 'Arrest Flag' in df.columns:\n",
    "    df['Arrest (Y/N)'] = (df['Arrest Flag'] == 'Y').astype('int')\n",
    "    df.drop('Arrest Flag', axis=1, inplace=True)\n",
    "    \n",
    "if 'Frisk Flag' in df.columns:\n",
    "    df['Frisk (Y/N)'] = (df['Frisk Flag'] == 'Y').astype('int')\n",
    "    df.drop('Frisk Flag', axis=1, inplace=True)\n",
    "    \n"
   ]
  },
  {
   "cell_type": "code",
   "execution_count": 17,
   "id": "d42bf1db",
   "metadata": {},
   "outputs": [],
   "source": [
    "# Refine dataset to continous and OHE values\n",
    "\n",
    "# Separate columns by type\n",
    "# Identify continuous vs. string type features\n",
    "str_columns = []\n",
    "continuous_columns = []\n",
    "for col in df.columns:\n",
    "    if type(df.dropna()[col].iloc[0]) == type('abc'):\n",
    "        str_columns.append(col)\n",
    "    else:\n",
    "        continuous_columns.append(col)\n",
    "# Determine which columns are most valuable to OHE\n",
    "cols_to_ohe = []\n",
    "for col in str_columns:\n",
    "    if len(df[col].value_counts().index) < 30:\n",
    "        cols_to_ohe.append(col)\n",
    "\n",
    "df_refined = pd.concat([df[continuous_columns], df[cols_to_ohe]], axis=1)\n",
    "df_refined.dropna(inplace=True)\n",
    "df_refined.reset_index(inplace=True, drop=True)"
   ]
  },
  {
   "cell_type": "code",
   "execution_count": 18,
   "id": "307347b9",
   "metadata": {},
   "outputs": [
    {
     "name": "stdout",
     "output_type": "stream",
     "text": [
      "<class 'pandas.core.frame.DataFrame'>\n",
      "RangeIndex: 40340 entries, 0 to 40339\n",
      "Data columns (total 19 columns):\n",
      " #   Column                    Non-Null Count  Dtype         \n",
      "---  ------                    --------------  -----         \n",
      " 0   Reported Date             40340 non-null  datetime64[ns]\n",
      " 1   Reported Hour             40340 non-null  int64         \n",
      " 2   Officer Age               40340 non-null  float64       \n",
      " 3   Weapon (Y/N)              40340 non-null  int32         \n",
      " 4   Repeat Offender (Y/N)     40340 non-null  int32         \n",
      " 5   Different Race            40340 non-null  int32         \n",
      " 6   Different Gender          40340 non-null  int32         \n",
      " 7   Arrest (Y/N)              40340 non-null  int32         \n",
      " 8   Frisk (Y/N)               40340 non-null  int32         \n",
      " 9   Subject Age Group         40340 non-null  object        \n",
      " 10  Stop Resolution           40340 non-null  object        \n",
      " 11  Weapon Type               40340 non-null  object        \n",
      " 12  Officer Gender            40340 non-null  object        \n",
      " 13  Officer Race              40340 non-null  object        \n",
      " 14  Subject Perceived Race    40340 non-null  object        \n",
      " 15  Subject Perceived Gender  40340 non-null  object        \n",
      " 16  Call Type                 40340 non-null  object        \n",
      " 17  Precinct                  40340 non-null  object        \n",
      " 18  Sector                    40340 non-null  object        \n",
      "dtypes: datetime64[ns](1), float64(1), int32(6), int64(1), object(10)\n",
      "memory usage: 4.9+ MB\n"
     ]
    }
   ],
   "source": [
    "df_refined.info()"
   ]
  },
  {
   "cell_type": "markdown",
   "id": "e3ba3379",
   "metadata": {},
   "source": [
    "### Begin encoding and modeling"
   ]
  },
  {
   "cell_type": "code",
   "execution_count": 37,
   "id": "c59568d5",
   "metadata": {},
   "outputs": [],
   "source": [
    "# Split data\n",
    "X = df_refined.drop('Arrest (Y/N)', axis=1)\n",
    "y = df_refined['Arrest (Y/N)']\n",
    "\n",
    "X_train, X_test, y_train, y_test = train_test_split(X, y, random_state = RANDOM_STATE)"
   ]
  },
  {
   "cell_type": "code",
   "execution_count": 52,
   "id": "e354ccfb",
   "metadata": {},
   "outputs": [
    {
     "data": {
      "text/plain": [
       "0.9344240621384895"
      ]
     },
     "execution_count": 52,
     "metadata": {},
     "output_type": "execute_result"
    }
   ],
   "source": [
    "ohe = OneHotEncoder(drop='first')\n",
    "string_selector = make_column_selector(dtype_include='object')\n",
    "string_transformer = make_column_transformer((ohe, string_selector))\n",
    "\n",
    "\n",
    "logreg = LogisticRegression(random_state=RANDOM_STATE, max_iter=1000)\n",
    "\n",
    "clf = KNeighborsClassifier()\n",
    "\n",
    "pipe = Pipeline([('string_selector', string_transformer), ('model', logreg)])\n",
    "pipe.fit(X_train, y_train)\n",
    "pipe.score(X_train, y_train)"
   ]
  },
  {
   "cell_type": "code",
   "execution_count": 53,
   "id": "6c6cf81d",
   "metadata": {},
   "outputs": [
    {
     "data": {
      "text/plain": [
       "0.9357461576598909"
      ]
     },
     "execution_count": 53,
     "metadata": {},
     "output_type": "execute_result"
    }
   ],
   "source": [
    "pipe.score(X_test, y_test)"
   ]
  },
  {
   "cell_type": "code",
   "execution_count": 21,
   "id": "486a5816",
   "metadata": {},
   "outputs": [
    {
     "data": {
      "text/plain": [
       "ColumnTransformer(transformers=[('onehotencoder', OneHotEncoder(drop='first'),\n",
       "                                 <sklearn.compose._column_transformer.make_column_selector object at 0x00000259F3CD2FA0>)])"
      ]
     },
     "execution_count": 21,
     "metadata": {},
     "output_type": "execute_result"
    }
   ],
   "source": [
    "string_transformer"
   ]
  },
  {
   "cell_type": "code",
   "execution_count": null,
   "id": "7a052a79",
   "metadata": {},
   "outputs": [],
   "source": [
    "string_selector"
   ]
  },
  {
   "cell_type": "markdown",
   "id": "d545df96",
   "metadata": {},
   "source": [
    "# notes from study group\n",
    "\n",
    "Create ModelHistory class like they mentioned during your last one-on-one. "
   ]
  }
 ],
 "metadata": {
  "kernelspec": {
   "display_name": "Python 3",
   "language": "python",
   "name": "python3"
  },
  "language_info": {
   "codemirror_mode": {
    "name": "ipython",
    "version": 3
   },
   "file_extension": ".py",
   "mimetype": "text/x-python",
   "name": "python",
   "nbconvert_exporter": "python",
   "pygments_lexer": "ipython3",
   "version": "3.8.3"
  }
 },
 "nbformat": 4,
 "nbformat_minor": 5
}
