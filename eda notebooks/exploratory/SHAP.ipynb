{
 "cells": [
  {
   "cell_type": "markdown",
   "id": "e324230f",
   "metadata": {},
   "source": [
    "https://shap.readthedocs.io/en/latest/example_notebooks/tabular_examples/tree_based_models/Basic%20SHAP%20Interaction%20Value%20Example%20in%20XGBoost.html"
   ]
  },
  {
   "cell_type": "code",
   "execution_count": 1,
   "id": "db856425",
   "metadata": {},
   "outputs": [],
   "source": [
    "import xgboost\n",
    "import numpy as np\n",
    "import shap"
   ]
  },
  {
   "cell_type": "code",
   "execution_count": 2,
   "id": "feef7e65",
   "metadata": {},
   "outputs": [],
   "source": [
    "# simulate some binary data and a linear outcome with an interaction term\n",
    "# note we make the features in X perfectly independent of each other to make\n",
    "# it easy to solve for the exact SHAP values\n",
    "N = 2000\n",
    "X = np.zeros((N,5))\n",
    "X[:1000,0] = 1\n",
    "X[:500,1] = 1\n",
    "X[1000:1500,1] = 1\n",
    "X[:250,2] = 1\n",
    "X[500:750,2] = 1\n",
    "X[1000:1250,2] = 1\n",
    "X[1500:1750,2] = 1\n",
    "X[:,0:3] -= 0.5\n",
    "y = 2*X[:,0] - 3*X[:,1]"
   ]
  },
  {
   "cell_type": "code",
   "execution_count": 3,
   "id": "448ca597",
   "metadata": {},
   "outputs": [
    {
     "data": {
      "text/plain": [
       "array([[0.25012506, 0.        , 0.        , 0.        , 0.        ],\n",
       "       [0.        , 0.25012506, 0.        , 0.        , 0.        ],\n",
       "       [0.        , 0.        , 0.25012506, 0.        , 0.        ],\n",
       "       [0.        , 0.        , 0.        , 0.        , 0.        ],\n",
       "       [0.        , 0.        , 0.        , 0.        , 0.        ]])"
      ]
     },
     "execution_count": 3,
     "metadata": {},
     "output_type": "execute_result"
    }
   ],
   "source": [
    "# ensure the variables are independent\n",
    "np.cov(X.T)"
   ]
  },
  {
   "cell_type": "code",
   "execution_count": 4,
   "id": "0ec9a422",
   "metadata": {},
   "outputs": [
    {
     "data": {
      "text/plain": [
       "array([0., 0., 0., 0., 0.])"
      ]
     },
     "execution_count": 4,
     "metadata": {},
     "output_type": "execute_result"
    }
   ],
   "source": [
    "# and mean centered\n",
    "X.mean(0)"
   ]
  },
  {
   "cell_type": "code",
   "execution_count": 5,
   "id": "60a7310a",
   "metadata": {},
   "outputs": [
    {
     "name": "stdout",
     "output_type": "stream",
     "text": [
      "Model error = 0.0\n",
      "0:[f1<0] yes=1,no=2,missing=1,gain=4500,cover=2000\n",
      "\t1:[f0<0] yes=3,no=4,missing=3,gain=1000,cover=1000\n",
      "\t\t3:leaf=0.5,cover=500\n",
      "\t\t4:leaf=2.5,cover=500\n",
      "\t2:[f0<0] yes=5,no=6,missing=5,gain=1000,cover=1000\n",
      "\t\t5:leaf=-2.5,cover=500\n",
      "\t\t6:leaf=-0.5,cover=500\n",
      "\n"
     ]
    }
   ],
   "source": [
    "# train a model with single tree\n",
    "Xd = xgboost.DMatrix(X, label=y)\n",
    "model = xgboost.train({\n",
    "    'eta':1, 'max_depth':3, 'base_score': 0, \"lambda\": 0\n",
    "}, Xd, 1)\n",
    "print(\"Model error =\", np.linalg.norm(y-model.predict(Xd)))\n",
    "print(model.get_dump(with_stats=True)[0])"
   ]
  },
  {
   "cell_type": "code",
   "execution_count": 6,
   "id": "53657921",
   "metadata": {},
   "outputs": [
    {
     "data": {
      "text/plain": [
       "0.0"
      ]
     },
     "execution_count": 6,
     "metadata": {},
     "output_type": "execute_result"
    }
   ],
   "source": [
    "# make sure the SHAP values add up to marginal predictions\n",
    "pred = model.predict(Xd, output_margin=True)\n",
    "explainer = shap.TreeExplainer(model)\n",
    "shap_values = explainer.shap_values(Xd)\n",
    "np.abs(shap_values.sum(1) + explainer.expected_value - pred).max()"
   ]
  },
  {
   "cell_type": "code",
   "execution_count": 7,
   "id": "3a4d346e",
   "metadata": {},
   "outputs": [
    {
     "data": {
      "image/png": "[encoded data removed]",
      "text/plain": [
       "<Figure size 576x252 with 2 Axes>"
      ]
     },
     "metadata": {
      "needs_background": "light"
     },
     "output_type": "display_data"
    }
   ],
   "source": [
    "shap.summary_plot(shap_values, X)"
   ]
  },
  {
   "cell_type": "code",
   "execution_count": null,
   "id": "5de794a6",
   "metadata": {},
   "outputs": [],
   "source": []
  }
 ],
 "metadata": {
  "kernelspec": {
   "display_name": "Python 3",
   "language": "python",
   "name": "python3"
  },
  "language_info": {
   "codemirror_mode": {
    "name": "ipython",
    "version": 3
   },
   "file_extension": ".py",
   "mimetype": "text/x-python",
   "name": "python",
   "nbconvert_exporter": "python",
   "pygments_lexer": "ipython3",
   "version": "3.8.3"
  }
 },
 "nbformat": 4,
 "nbformat_minor": 5
}
