{
 "cells": [
  {
   "cell_type": "markdown",
   "id": "0984eb31",
   "metadata": {},
   "source": [
    "# Introduction\n",
    "\n",
    "This analysis seeks to add understanding to data regarding police interactions known as Terry stops. According to [Merriam-Webster](https://www.merriam-webster.com/legal/Terry%20stop), a Terry stop is \"a stop and limited search of a person for weapons justified by a police officer's reasonable conclusion that a crime is being or about to be committed by a person who may be armed and whose responses to questioning do not dispel the officer's fear of danger to the officer or to others.\" This type of interaction will be analyzed in depth.\n",
    "\n",
    "More specifically, the analysis will create a model to predict whether an infraction will be added to a subject's record -- whether that is through an arrest, referral for prosecution, citation or offense report. A criminal record can have enormous impacts on an individual's life, and whether or not a subject gets let off or not have countless consequences, including employment, child custody, adoption, driving, firearms, immigration, punishment for subsequent crimes, financial aid for college admissions, and housing, among others [(1)](https://www.nealdavislaw.com/criminal-defense-guides/criminal-record-consequences.html). As a result of these lasting consequences, it can be valuable to understand patterns and potential biases within the way infractions are addressed within different demographics. The analysis explores topics such as race, gender, age, location, and more. \n",
    "\n",
    "\n",
    "## Data Sources\n",
    "\n",
    "The city of Seattle [provides](https://data.seattle.gov/Public-Safety/Terry-Stops/28ny-9ts8) substantial publicly available data about these encounters. There are over 47,000 records spanning a period from 2015 to 2021. It includes 23 different features, including topics such as race, gender, age, location, call type, and the final resolution of the stop -- whether it ended in arrest or citation, for example.\n",
    "\n",
    "## The Process\n",
    "This analysis will follow the general structure listed here:\n",
    "1. Setup and Data Import\n",
    "2. Data Cleaning\n",
    "3. Feature Engineering\n",
    "4. Graphical Exploratory Data Analysis (EDA)\n",
    "5. Feature Selection\n",
    "6. Modeling\n",
    "7. Results Interpretation\n",
    "8. Conclusion\n",
    "\n",
    "### Additional Notes\n",
    "This notebook provides a somewhat condensed analysis compared to the full sequence necessary to understand the all details of choosing specific models and the nitty-gritty details of feature selection. Please refer to the EDA notebook in this folder for that analysis."
   ]
  },
  {
   "cell_type": "markdown",
   "id": "4af5e76d",
   "metadata": {},
   "source": [
    "## Part I: Setup and Data Import\n",
    "**Import relevant packages**"
   ]
  },
  {
   "cell_type": "code",
   "execution_count": 1,
   "id": "820b03c6",
   "metadata": {},
   "outputs": [],
   "source": [
    "# Basic packages\n",
    "import pandas as pd\n",
    "import numpy as np\n",
    "import matplotlib.pyplot as plt\n",
    "import pickle\n",
    "import os, sys\n",
    "from datetime import time\n",
    "\n",
    "# Data manipulation packages\n",
    "from imblearn.over_sampling import SMOTE\n",
    "from sklearn.preprocessing import StandardScaler, MinMaxScaler\n",
    "from sklearn.model_selection import train_test_split\n",
    "\n",
    "# Modeling packages\n",
    "from sklearn.preprocessing import OneHotEncoder\n",
    "from sklearn.compose import make_column_selector, make_column_transformer\n",
    "from sklearn.model_selection import KFold, GridSearchCV\n",
    "from imblearn.pipeline import Pipeline\n",
    "from sklearn.linear_model import LogisticRegression, LinearRegression\n",
    "from sklearn.neighbors import KNeighborsClassifier\n",
    "from sklearn.tree import DecisionTreeClassifier\n",
    "from sklearn.ensemble import RandomForestClassifier\n",
    "from sklearn.base import clone\n",
    "from xgboost import XGBClassifier\n",
    "\n",
    "# Model evaluation packages\n",
    "import shap\n",
    "from sklearn.metrics import f1_score, plot_confusion_matrix\n",
    "\n",
    "# Basic settings for an easier to use notebook\n",
    "%load_ext autoreload\n",
    "%autoreload 2\n",
    "%matplotlib inline\n",
    "pd.set_option('display.max_columns', 100)\n",
    "\n",
    "\n",
    "path_to_src = os.path.join('..', 'src')\n",
    "sys.path.insert(1, path_to_src)\n",
    "from custom_functions import *"
   ]
  },
  {
   "cell_type": "markdown",
   "id": "33a09d4b",
   "metadata": {},
   "source": [
    "**Declare static variables used throughout notebook**"
   ]
  },
  {
   "cell_type": "code",
   "execution_count": 2,
   "id": "cfb155a2",
   "metadata": {},
   "outputs": [],
   "source": [
    "# Global static variable declarations used throughout notebook\n",
    "RANDOM_STATE = 0\n",
    "raw_terry_path = os.path.join('..', 'data', 'raw', 'terry-stops.csv')\n",
    "processed_data_path = os.path.join('..', 'data', 'processed')\n",
    "path_to_figures = os.path.join('..', 'images')\n",
    "\n",
    "\n",
    "\n",
    "UNKNOWN = 'Not provided'\n",
    "N_SPLITS = 3\n",
    "JOBS = 2"
   ]
  },
  {
   "cell_type": "markdown",
   "id": "1b396ce0",
   "metadata": {},
   "source": [
    "**Import full dataset from *data* folder**"
   ]
  },
  {
   "cell_type": "code",
   "execution_count": 3,
   "id": "c1a31bec",
   "metadata": {},
   "outputs": [],
   "source": [
    "df = pd.read_csv(raw_terry_path, dtype='str')\n",
    "\n",
    "# Strip spaces, as relevant\n",
    "for col in df.columns:\n",
    "    df[col] = df[col].str.strip()"
   ]
  },
  {
   "cell_type": "code",
   "execution_count": 4,
   "id": "31a7546a",
   "metadata": {},
   "outputs": [
    {
     "name": "stdout",
     "output_type": "stream",
     "text": [
      "<class 'pandas.core.frame.DataFrame'>\n",
      "RangeIndex: 47213 entries, 0 to 47212\n",
      "Data columns (total 23 columns):\n",
      " #   Column                    Non-Null Count  Dtype \n",
      "---  ------                    --------------  ----- \n",
      " 0   Subject Age Group         47213 non-null  object\n",
      " 1   Subject ID                47213 non-null  object\n",
      " 2   GO / SC Num               47213 non-null  object\n",
      " 3   Terry Stop ID             47213 non-null  object\n",
      " 4   Stop Resolution           47213 non-null  object\n",
      " 5   Weapon Type               47213 non-null  object\n",
      " 6   Officer ID                47213 non-null  object\n",
      " 7   Officer YOB               47213 non-null  object\n",
      " 8   Officer Gender            47213 non-null  object\n",
      " 9   Officer Race              47213 non-null  object\n",
      " 10  Subject Perceived Race    47213 non-null  object\n",
      " 11  Subject Perceived Gender  47213 non-null  object\n",
      " 12  Reported Date             47213 non-null  object\n",
      " 13  Reported Time             47213 non-null  object\n",
      " 14  Initial Call Type         47213 non-null  object\n",
      " 15  Final Call Type           47213 non-null  object\n",
      " 16  Call Type                 47213 non-null  object\n",
      " 17  Officer Squad             46609 non-null  object\n",
      " 18  Arrest Flag               47213 non-null  object\n",
      " 19  Frisk Flag                47213 non-null  object\n",
      " 20  Precinct                  47213 non-null  object\n",
      " 21  Sector                    47213 non-null  object\n",
      " 22  Beat                      47213 non-null  object\n",
      "dtypes: object(23)\n",
      "memory usage: 8.3+ MB\n"
     ]
    }
   ],
   "source": [
    "df.info()"
   ]
  },
  {
   "cell_type": "markdown",
   "id": "bf1e49d4",
   "metadata": {},
   "source": [
    "# Part II: Data Cleaning\n",
    "**Dictionaries are used to categorize, reclassify, and correct typographical errors for each column as relevant.**"
   ]
  },
  {
   "cell_type": "code",
   "execution_count": 5,
   "id": "dd95311c",
   "metadata": {},
   "outputs": [],
   "source": [
    "# ------ CLEAN DATA ONE COLUMN AT A TIME -------\n",
    "\n",
    "# Subject Age Group\n",
    "df['Subject Age Group'].replace('-', np.nan, inplace=True)\n",
    "\n",
    "# Subject ID\n",
    "df['Subject ID'].replace('-1', UNKNOWN, inplace=True)\n",
    "\n",
    "\n",
    "# Officer Year of Birth\n",
    "df['Officer YOB'] = df['Officer YOB'].astype('int')\n",
    "\n",
    "\n",
    "# Officer Race\n",
    "race_dict = {'Unknown': UNKNOWN, \n",
    "            'Not Specified': UNKNOWN,\n",
    "            '-': UNKNOWN,\n",
    "            'Other': UNKNOWN, \n",
    "            'Unknown': UNKNOWN}\n",
    "df['Officer Race'].replace(race_dict, inplace=True)\n",
    "df['Subject Perceived Race'].replace(race_dict, inplace=True)\n",
    "\n",
    "\n",
    "# Gender\n",
    "gender_dict = {'Unable to Determine': UNKNOWN,\n",
    "              '-': UNKNOWN,\n",
    "               'Unknown': UNKNOWN,\n",
    "              'Gender Diverse (gender non-conforming and/or transgender)': 'Non-Binary',\n",
    "               'N': 'Non-Binary',\n",
    "               'M': 'Male',\n",
    "               'F': 'Female'}\n",
    "df['Subject Perceived Gender'].replace(gender_dict, inplace=True)\n",
    "df['Officer Gender'].replace(gender_dict, inplace=True)\n",
    "\n",
    "\n",
    "# Race - grouped for naming consistency and aggregating small sample sizes \n",
    "# for statistical significance\n",
    "race_dict = {'Two or More Races': 'Multi-Racial',\n",
    "            'Hispanic or Latino': 'Hispanic',\n",
    "            'Nat Hawaiian/Oth Pac Islander': 'Native', \n",
    "            'American Indian/Alaska Native': 'Native',\n",
    "            'Native Hawaiian or Other Pacific Islander': 'Native',\n",
    "            'American Indian or Alaska Native': 'Native'}\n",
    "df['Subject Perceived Race'].replace(race_dict, inplace=True)\n",
    "df['Officer Race'].replace(race_dict, inplace=True)\n",
    "\n",
    "\n",
    "# Reported date and hour\n",
    "df['Reported Date'] = df['Reported Date'].astype('datetime64')\n",
    "    \n",
    "    \n",
    "# Call Type\n",
    "call_type_dict = {'-': UNKNOWN,\n",
    "                 'SCHEDULED EVENT (RECURRING)': UNKNOWN,\n",
    "                 'TEXT MESSAGE': UNKNOWN,\n",
    "                 'TELEPHONE OTHER, NOT 911': UNKNOWN,\n",
    "                 'ONVIEW': 'Onview', \n",
    "                 'ALARM CALL (NOT POLICE ALARM)': 'Alarm'}\n",
    "df['Call Type'].replace(call_type_dict, inplace=True)\n",
    "    \n",
    "    \n",
    "# Frisk Flag\n",
    "df['Frisk Flag'].replace('-', np.nan, inplace=True)\n",
    "\n",
    "\n",
    "# Precinct\n",
    "precinct_dict = {'-': UNKNOWN,\n",
    "                'FK ERROR': UNKNOWN,\n",
    "                 'Unknown': UNKNOWN,\n",
    "                'SouthWest': 'Southwest', \n",
    "                'OOJ': UNKNOWN}\n",
    "df['Precinct'].replace(precinct_dict, inplace=True)\n",
    "\n",
    "\n",
    "# Sector\n",
    "df['Sector'].replace(['99', '-'], UNKNOWN, inplace=True)\n",
    "\n",
    "\n",
    "# Subject age group\n",
    "df['Subject Age Group'].replace('-', np.nan, inplace=True)\n",
    "\n",
    "\n",
    "# Required for downstream one-hot encoding\n",
    "df['Officer Squad'].fillna(UNKNOWN, inplace=True)\n",
    "\n",
    "\n",
    "# Change 'Y' and 'N' to binary 1/0\n",
    "df['Arrest (Y/N)'] = (df['Arrest Flag'] == 'Y').astype('int')\n",
    "df.drop('Arrest Flag', axis=1, inplace=True)\n",
    "    \n",
    "# Change 'Y' and 'N' to binary 1/0\n",
    "df['Frisk (Y/N)'] = (df['Frisk Flag'] == 'Y').astype('int')\n",
    "df.drop('Frisk Flag', axis=1, inplace=True)\n",
    "\n",
    "\n",
    "# Difficult decision to make, but with a sample size of only 5 people, the \n",
    "# amount of data is insufficient to provide a statistically significant \n",
    "# understanding of how non-binary appearance affects arrest rate\n",
    "df['Subject Perceived Gender'].replace('Non-Binary', UNKNOWN, inplace=True)\n",
    "df['Officer Gender'].replace('Non-Binary', UNKNOWN, inplace=True)\n",
    "\n",
    "\n",
    "# Weapon Type\n",
    "weapon_type_dict = {'Firearm Other': 'Firearm', \n",
    "                    'Lethal Cutting Instrument': 'Knife', \n",
    "                    'Handgun': 'Firearm', \n",
    "                    '-': 'None', \n",
    "                    'Club, Blackjack, Brass Knuckles': UNKNOWN, \n",
    "                    'Knife/Cutting/Stabbing Instrument': 'Knife', \n",
    "                    'Other Firearm': 'Firearm', \n",
    "                    'Rifle': 'Firearm', \n",
    "                    'Fire/Incendiary Device': UNKNOWN, \n",
    "                    'Blunt Object/Striking Implement': UNKNOWN, \n",
    "                    'Firearm (unk type)': 'Firearm', \n",
    "                    'Mace/Pepper Spray': UNKNOWN, \n",
    "                    'None/Not Applicable': 'None', \n",
    "                    'Club': UNKNOWN, \n",
    "                    'Taser/Stun Gun': UNKNOWN, \n",
    "                    'Shotgun': 'Firearm', \n",
    "                    'Brass Knuckles': UNKNOWN, \n",
    "                    'Automatic Handgun': 'Firearm', \n",
    "                    'Blackjack': UNKNOWN, \n",
    "                    'Personal Weapons (hands, feet, etc.)': UNKNOWN}\n",
    "df['Weapon Type'].replace(weapon_type_dict, inplace=True)\n",
    "\n",
    "\n",
    "\n",
    "# Remove missing values\n",
    "df.dropna(inplace=True)"
   ]
  },
  {
   "cell_type": "markdown",
   "id": "c7b308df",
   "metadata": {},
   "source": [
    "**Display info about the remaining data**"
   ]
  },
  {
   "cell_type": "code",
   "execution_count": 6,
   "id": "88cc4abe",
   "metadata": {},
   "outputs": [
    {
     "name": "stdout",
     "output_type": "stream",
     "text": [
      "<class 'pandas.core.frame.DataFrame'>\n",
      "Int64Index: 45664 entries, 214 to 47212\n",
      "Data columns (total 23 columns):\n",
      " #   Column                    Non-Null Count  Dtype         \n",
      "---  ------                    --------------  -----         \n",
      " 0   Subject Age Group         45664 non-null  object        \n",
      " 1   Subject ID                45664 non-null  object        \n",
      " 2   GO / SC Num               45664 non-null  object        \n",
      " 3   Terry Stop ID             45664 non-null  object        \n",
      " 4   Stop Resolution           45664 non-null  object        \n",
      " 5   Weapon Type               45664 non-null  object        \n",
      " 6   Officer ID                45664 non-null  object        \n",
      " 7   Officer YOB               45664 non-null  int32         \n",
      " 8   Officer Gender            45664 non-null  object        \n",
      " 9   Officer Race              45664 non-null  object        \n",
      " 10  Subject Perceived Race    45664 non-null  object        \n",
      " 11  Subject Perceived Gender  45664 non-null  object        \n",
      " 12  Reported Date             45664 non-null  datetime64[ns]\n",
      " 13  Reported Time             45664 non-null  object        \n",
      " 14  Initial Call Type         45664 non-null  object        \n",
      " 15  Final Call Type           45664 non-null  object        \n",
      " 16  Call Type                 45664 non-null  object        \n",
      " 17  Officer Squad             45664 non-null  object        \n",
      " 18  Precinct                  45664 non-null  object        \n",
      " 19  Sector                    45664 non-null  object        \n",
      " 20  Beat                      45664 non-null  object        \n",
      " 21  Arrest (Y/N)              45664 non-null  int32         \n",
      " 22  Frisk (Y/N)               45664 non-null  int32         \n",
      "dtypes: datetime64[ns](1), int32(3), object(19)\n",
      "memory usage: 7.8+ MB\n"
     ]
    }
   ],
   "source": [
    "df.info()"
   ]
  },
  {
   "cell_type": "markdown",
   "id": "1a4acf03",
   "metadata": {},
   "source": [
    "# Part III: Feature Engineering\n",
    "**See EDA notebook for more details on feature engineering. Below are the final selected choices.**"
   ]
  },
  {
   "cell_type": "markdown",
   "id": "097b9b5c",
   "metadata": {},
   "source": [
    "**Calculate officer age based on their year of birth and the year the Terry stop occurred.**"
   ]
  },
  {
   "cell_type": "code",
   "execution_count": 7,
   "id": "797d751f",
   "metadata": {},
   "outputs": [],
   "source": [
    "df['Officer Age'] = df['Reported Date'].apply(lambda x: x.year) - \\\n",
    "                    df['Officer YOB']\n",
    "\n",
    "# Fill missing values with median\n",
    "# Note there are some outliers with unrealistically high ages. Replace w/median\n",
    "median_age = df.loc[df['Officer Age']<100, 'Officer Age'].median()\n",
    "replace_with_med = lambda x: median_age if x > 100 else x\n",
    "df['Officer Age'] = df['Officer Age'].apply(replace_with_med).astype('int')\n",
    "df.drop('Officer YOB', axis=1, inplace=True)"
   ]
  },
  {
   "cell_type": "markdown",
   "id": "f36b9106",
   "metadata": {},
   "source": [
    "**Create binary metric indicating whether the subject had a weapon.**"
   ]
  },
  {
   "cell_type": "code",
   "execution_count": 8,
   "id": "b8d7bf14",
   "metadata": {},
   "outputs": [],
   "source": [
    "df['Weapon (Y/N)'] = (df['Weapon Type'] != 'None').astype('int')"
   ]
  },
  {
   "cell_type": "markdown",
   "id": "4f2c0010",
   "metadata": {},
   "source": [
    "**Identify whether the officer is of the same race and same gender as the subject.**"
   ]
  },
  {
   "cell_type": "code",
   "execution_count": 9,
   "id": "24d9b100",
   "metadata": {},
   "outputs": [],
   "source": [
    "#Race\n",
    "df['Same Race (Y/N)'] = (df['Officer Race'] == df['Subject Perceived Race'])\\\n",
    "                                               .astype('int')\n",
    "\n",
    "# Gender\n",
    "df['Same Gender (Y/N)'] = (df['Officer Gender'] == \\\n",
    "                           df['Subject Perceived Gender']).astype('int')"
   ]
  },
  {
   "cell_type": "markdown",
   "id": "921d42a0",
   "metadata": {},
   "source": [
    "**Estimate subject age based on the categorical age buckets and the statistical distribution of ages within the dataset.** \n",
    "\n",
    "Note that these estimates are never outside of the age \"buckets\" provided in the original dataset so no data integrity is lost. Instead, granularity is added that does, in aggregate, bring increased accuracy to the feature. The red dots represent a histogram of each age bucket in the original dataset. For example, there are roughly 600 records categorized in the 45-55 years old bucket. The blue lines represent a histogram of the estimated ages in the final dataset. They are sampled from a distribution of the overall age buckets. In the EDA section, it was determined that this methodology provides a small degree of increased model accuracy over the alternative of age bracket categories. "
   ]
  },
  {
   "cell_type": "code",
   "execution_count": 10,
   "id": "0060f09c",
   "metadata": {},
   "outputs": [
    {
     "name": "stdout",
     "output_type": "stream",
     "text": [
      "Avg: 34.47090666023801, std: 17.752934029806642\n"
     ]
    },
    {
     "data": {
      "image/png": "[encoded data removed]",
      "text/plain": [
       "<Figure size 432x288 with 1 Axes>"
      ]
     },
     "metadata": {
      "needs_background": "light"
     },
     "output_type": "display_data"
    }
   ],
   "source": [
    "from estimate_ages import estimate_age_from_categorical\n",
    "df['Subject Age (Est)'] = estimate_age_from_categorical(df)\n",
    "\n",
    "# Remove the categorical feature after estimating the continuous feature \n",
    "# based on its values\n",
    "df.drop('Subject Age Group', axis=1, inplace=True)"
   ]
  },
  {
   "cell_type": "markdown",
   "id": "9c2dc3e9",
   "metadata": {},
   "source": [
    "**Categorize \"Stop Resolution\" to create an appropriate target metric.**\n",
    "\n",
    "The most appropriate target was determined to be one that will have a lasting impact on the subject's criminal record. Refer to the below dictionary to see how those are classified. \n",
    "\n",
    "**Going forward, a \"negative outcome\" refers to a resolution that will persist on the subject's criminal record following the interaction.**"
   ]
  },
  {
   "cell_type": "code",
   "execution_count": 11,
   "id": "6142308a",
   "metadata": {},
   "outputs": [],
   "source": [
    "dict_resolution = {\n",
    "    'Field Contact': 'Neutral',\n",
    "    'Offense Report': 'Negative',\n",
    "    'Arrest': 'Negative',\n",
    "    'Referred for Prosecution': 'Negative',\n",
    "    'Citation / Infraction': 'Negative'}\n",
    "\n",
    "df['Resolution: Negative (Y/N)'] = (df['Stop Resolution'].map(dict_resolution)\\\n",
    "                                    == 'Negative')\n",
    "df['Resolution: Negative (Y/N)'] = (df['Resolution: Negative (Y/N)'])\\\n",
    "                                   .astype('int')\n",
    "\n",
    "# Remove original pre-categorization feature\n",
    "df.drop('Stop Resolution', axis=1, inplace=True)"
   ]
  },
  {
   "cell_type": "code",
   "execution_count": 12,
   "id": "c5edfc6c",
   "metadata": {},
   "outputs": [],
   "source": [
    "# Remove missing values and reset index\n",
    "df.dropna(inplace=True)\n",
    "df.reset_index(inplace=True, drop=True)"
   ]
  },
  {
   "cell_type": "markdown",
   "id": "9a2210c8",
   "metadata": {},
   "source": [
    "# Part IV: Graphical EDA\n",
    "\n",
    "Explore the relationships between selected features.\n",
    "\n",
    "**First, investigate the relationship between age and a negative outcome.**"
   ]
  },
  {
   "cell_type": "code",
   "execution_count": 79,
   "id": "cb6a525f",
   "metadata": {},
   "outputs": [
    {
     "data": {
      "image/png": "[encoded data removed]",
      "text/plain": [
       "<Figure size 1008x432 with 2 Axes>"
      ]
     },
     "metadata": {
      "needs_background": "light"
     },
     "output_type": "display_data"
    }
   ],
   "source": [
    "# Create data to plot\n",
    "min_age = df['Subject Age (Est)'].min()\n",
    "max_age = df['Subject Age (Est)'].max()\n",
    "ages = list(range(min_age, max_age+1))\n",
    "negative_outcome_ct = []\n",
    "negative_outcome_rate = []\n",
    "\n",
    "for age in ages:\n",
    "    grouped = df.loc[df['Subject Age (Est)'] == age]\n",
    "    target = grouped['Resolution: Negative (Y/N)']\n",
    "    negative_outcome_ct.append(target.sum())\n",
    "    negative_outcome_rate.append(target.mean())\n",
    "\n",
    "    \n",
    "# Create plot\n",
    "fig, axes = plt.subplots(nrows=1, ncols=2,figsize=(14, 6))\n",
    "plt.suptitle('Relationship Between Subject Age and Negative Outcome', \n",
    "             fontsize=18)\n",
    "\n",
    "#axes[0].plot(ages, negative_outcome_rate)\n",
    "axes[0].scatter(ages, negative_outcome_rate)\n",
    "axes[0].set_ylabel('Average Rate of Negative Outcome (%)', fontsize=15)\n",
    "axes[0].set_xlabel('Age', fontsize=15)\n",
    "axes[0].tick_params('x', labelsize=15)\n",
    "\n",
    "# Add linear regression to the scatter plot to show negative correlation\n",
    "# Note that this does not include a train-test split since it is not a \n",
    "# main point in this exploration, merely part of the EDA\n",
    "linreg = LinearRegression()\n",
    "ages_array = np.array(df['Subject Age (Est)']).reshape(-1,1)\n",
    "resolution_array = np.array(df['Resolution: Negative (Y/N)']).reshape(-1,1)\n",
    "linreg.fit(ages_array, resolution_array)\n",
    "preds = linreg.predict(ages_array)\n",
    "axes[0].plot([ages_array.min(), ages_array.max()], [preds[0], preds[-1]], \n",
    "            color='g', label='Linear Regression Best Fit')\n",
    "axes[0].legend()\n",
    "\n",
    "\n",
    "\n",
    "axes[1].bar(ages, negative_outcome_ct)\n",
    "axes[1].set_ylabel('Total Negative Outcomes in Dataset', fontsize=15);\n",
    "\n",
    "\n",
    "axes[1].set_xlabel('Age', fontsize=15)\n",
    "axes[1].tick_params('x', labelsize=15)\n",
    "\n",
    "name = 'Subject-Age-vs.-Negative-Outcome.png'\n",
    "path = os.path.join(path_to_figures, name)\n",
    "fig.savefig(path)"
   ]
  },
  {
   "cell_type": "markdown",
   "id": "ebc3389b",
   "metadata": {},
   "source": [
    "**Investigate the relationship between Officer Age and a negative outcome**"
   ]
  },
  {
   "cell_type": "code",
   "execution_count": 76,
   "id": "93102740",
   "metadata": {},
   "outputs": [
    {
     "data": {
      "image/png": "[encoded data removed]",
      "text/plain": [
       "<Figure size 1008x432 with 2 Axes>"
      ]
     },
     "metadata": {
      "needs_background": "light"
     },
     "output_type": "display_data"
    }
   ],
   "source": [
    "# Create data to plot\n",
    "min_age = df['Officer Age'].min()\n",
    "max_age = df['Officer Age'].max()\n",
    "ages = list(range(min_age, max_age+1))\n",
    "negative_outcome_ct = []\n",
    "negative_outcome_rate = []\n",
    "\n",
    "for age in ages:\n",
    "    grouped = df.loc[df['Officer Age'] == age]\n",
    "    target = grouped['Resolution: Negative (Y/N)']\n",
    "    negative_outcome_ct.append(target.sum())\n",
    "    negative_outcome_rate.append(target.mean())\n",
    "\n",
    "    \n",
    "# Create plot\n",
    "fig, axes = plt.subplots(nrows=1, ncols=2,figsize=(14, 6))\n",
    "plt.suptitle('Relationship Between Officer Age and Negative Outcome')\n",
    "\n",
    "axes[0].scatter(ages, negative_outcome_rate)\n",
    "axes[0].set_ylabel('Average Rate of Negative Outcome (%)')\n",
    "\n",
    "\n",
    "# Add linear regression to the scatter plot to show correlation\n",
    "# Note that this does not include a train-test split since it is not a \n",
    "# main point in this exploration, merely part of the EDA\n",
    "officer_age = np.array(df['Officer Age']).reshape(-1, 1)\n",
    "resolution = np.array(df['Resolution: Negative (Y/N)']).reshape(-1, 1)\n",
    "linreg.fit(officer_age, resolution)\n",
    "preds = linreg.predict(officer_age)\n",
    "axes[0].plot([officer_age.min(), officer_age.max()], [preds[0], preds[-1]], \n",
    "            color='g', label='Linear Regression Best Fit')\n",
    "axes[0].legend()\n",
    "\n",
    "\n",
    "\n",
    "\n",
    "axes[1].bar(ages, negative_outcome_ct)\n",
    "axes[1].set_ylabel('Total Negative Outcomes in Dataset');\n",
    "\n",
    "name = 'Officer-Age-vs.-Negative-Outcome.png'\n",
    "path = os.path.join(path_to_figures, name)\n",
    "fig.savefig(path)"
   ]
  },
  {
   "cell_type": "markdown",
   "id": "730bec18",
   "metadata": {},
   "source": [
    "**Investigate the relationship between subject race and a negative outcome**"
   ]
  },
  {
   "cell_type": "code",
   "execution_count": null,
   "id": "213c2906",
   "metadata": {},
   "outputs": [],
   "source": [
    "# Create data to plot\n",
    "subject_races = df['Subject Perceived Race'].unique()\n",
    "negative_outcome_ct = []\n",
    "negative_outcome_rate = []\n",
    "\n",
    "for race in subject_races:\n",
    "    grouped = df.loc[df['Subject Perceived Race'] == race]\n",
    "    target = grouped['Resolution: Negative (Y/N)']\n",
    "    negative_outcome_ct.append(target.sum())\n",
    "    negative_outcome_rate.append(target.mean())\n",
    "\n",
    "# Sort results in descending order\n",
    "zipped = zip(subject_races, negative_outcome_rate)\n",
    "zipped_sorted = sorted(zipped, key = lambda x: x[1], reverse=False)\n",
    "\n",
    "# Extract from tuples\n",
    "races = [x[0] for x in zipped_sorted]\n",
    "rates = [x[1] for x in zipped_sorted]\n",
    "\n",
    "\n",
    "# Create plot - AVERAGE RATE OF NEGATIVE OUTCOME\n",
    "plt.tight_layout()\n",
    "plt.figure(figsize=(8, 4))\n",
    "plt.title('Relationship Between Subject Race and Negative Outcome', \n",
    "          fontsize=20)\n",
    "plt.barh(races, rates)\n",
    "plt.xlabel('Average Rate of Negative Outcome (%)');\n",
    "plt.xlim(0,0.8)\n",
    "\n",
    "\n",
    "for index,data in enumerate(rates):\n",
    "    plt.text(y=index , x =data + 0.01 , s=f\"{round(data, 3)}\")\n",
    "    \n",
    "plt.tight_layout()\n",
    "name = 'Subject-Race-vs.-Arrest-Rate.png'\n",
    "path = os.path.join(path_to_figures, name)\n",
    "plt.savefig(path)"
   ]
  },
  {
   "cell_type": "markdown",
   "id": "96443703",
   "metadata": {},
   "source": [
    "**Investigate other interesting relationships**"
   ]
  },
  {
   "cell_type": "code",
   "execution_count": null,
   "id": "d069de74",
   "metadata": {},
   "outputs": [],
   "source": [
    "# Gender metrics\n",
    "x_axis = 'Subject Perceived Gender'\n",
    "y_axis = ['Resolution: Negative (Y/N)']\n",
    "bar_plot(df, x_axis, y_axis, 'mean', verbose=True)\n",
    "\n",
    "# Officer race\n",
    "x_axis = 'Officer Race'\n",
    "bar_plot(df, x_axis, y_axis, 'mean',verbose=True)\n",
    "\n",
    "# Officer gender\n",
    "x_axis = 'Officer Gender'\n",
    "bar_plot(df, x_axis, y_axis, 'mean', verbose=True)"
   ]
  },
  {
   "cell_type": "markdown",
   "id": "49ad7497",
   "metadata": {},
   "source": [
    "# Part V: Feature Selection\n",
    "Most of the feature selection has already been completed through the feature cleaning and engineering processes. However, it is now time to select only the most appropriate features. Below, two types of features are selected: 1) those with continuous values, and 2) those with a categorical nature. Categoricals are identified as those with a reasonable small number of features. For example, although Officer ID is a non-continuous feature, there are over 1,200 officers in the database, which would create an unreasonable dataset once one-hot encoded as an input to the models. "
   ]
  },
  {
   "cell_type": "code",
   "execution_count": null,
   "id": "fff603b6",
   "metadata": {},
   "outputs": [],
   "source": [
    "# Separate columns by type\n",
    "obj_columns = df.select_dtypes('object').columns\n",
    "continuous_columns = df.select_dtypes('number').columns\n",
    "\n",
    "# Determine which columns are most valuable to OHE based on small \n",
    "# enough number of values\n",
    "cols_to_ohe = []\n",
    "for col in obj_columns:\n",
    "    if len(df[col].value_counts().index) < 30:\n",
    "        cols_to_ohe.append(col)\n",
    "    else:\n",
    "        print('Excluding:', col)\n",
    "\n",
    "# Create new dataframe with only selected features\n",
    "df_refined = pd.concat([df[continuous_columns], df[cols_to_ohe]], axis=1)\n",
    "\n",
    "# Print features that are to be included in modeling process\n",
    "print('----------')\n",
    "[print('Including:', x) for x in df_refined.columns];"
   ]
  },
  {
   "cell_type": "markdown",
   "id": "7c04f5ce",
   "metadata": {},
   "source": [
    "**Plot distributions for features that are to be included.**"
   ]
  },
  {
   "cell_type": "code",
   "execution_count": null,
   "id": "4e42eacd",
   "metadata": {},
   "outputs": [],
   "source": [
    "# Determine number of subplots necessary based on number of features included\n",
    "nrows = int(np.ceil(df_refined.shape[1]/4))\n",
    "fig, axes = plt.subplots(ncols=4, nrows=nrows, figsize=(22, 4*nrows))\n",
    "\n",
    "# Plot each feature on its respective axis\n",
    "for ax, col in zip(axes.flatten(), df_refined.columns):\n",
    "    ax.hist(df_refined[col])\n",
    "    ax.set_title(col, fontdict={'fontsize': 22})\n",
    "    \n",
    "    if (len(df_refined[col].unique()) > 3) and \\\n",
    "       (len(df_refined[col].unique()) < 40):\n",
    "        rotation=90\n",
    "    else:\n",
    "        rotation=0\n",
    "    ax.tick_params('x', labelrotation=rotation, labelsize=16)\n",
    "    \n",
    "plt.subplots_adjust(wspace=.7, hspace=1)\n",
    "plt.suptitle('Select Feature Distributions', fontsize=25)\n",
    "\n",
    "name = 'Data-Distributions.png'\n",
    "path = os.path.join(path_to_figures, name)\n",
    "fig.savefig(path)"
   ]
  },
  {
   "cell_type": "markdown",
   "id": "c62758e0",
   "metadata": {},
   "source": [
    "# Part VI: Modeling"
   ]
  },
  {
   "cell_type": "markdown",
   "id": "2fcca787",
   "metadata": {},
   "source": [
    "Start by isolating test and train datasets"
   ]
  },
  {
   "cell_type": "code",
   "execution_count": null,
   "id": "a3229881",
   "metadata": {},
   "outputs": [],
   "source": [
    "# Create X and y to hold inputs and target, respectively\n",
    "df_refined.reset_index(inplace=True, drop=True)\n",
    "y_label = 'Resolution: Negative (Y/N)'\n",
    "X = df_refined.drop([y_label,'Frisk (Y/N)', 'Arrest (Y/N)'], axis=1)\n",
    "y = df_refined[y_label]\n",
    "\n",
    "# Train-test split\n",
    "X, X_test, y, y_test = train_test_split(X, y, random_state = RANDOM_STATE)"
   ]
  },
  {
   "cell_type": "code",
   "execution_count": null,
   "id": "89c6e2d1",
   "metadata": {},
   "outputs": [],
   "source": [
    "X.info()"
   ]
  },
  {
   "cell_type": "markdown",
   "id": "97d66f54",
   "metadata": {},
   "source": [
    "**Instantiate custom class called ModelHistory, which holds the results of each model as it is run, including the performance metrics and notes that can be input at runtime**"
   ]
  },
  {
   "cell_type": "code",
   "execution_count": null,
   "id": "e7d89ff5",
   "metadata": {},
   "outputs": [],
   "source": [
    "model_history = ModelHistory()"
   ]
  },
  {
   "cell_type": "markdown",
   "id": "a4590925",
   "metadata": {},
   "source": [
    "**Instantiate transformers and un-fit models that will be used throughout the modeling process. They are declared centrally in this one location to avoid repetition and ensure consistency across model types, selectors and transformers.**"
   ]
  },
  {
   "cell_type": "code",
   "execution_count": null,
   "id": "30311056",
   "metadata": {},
   "outputs": [],
   "source": [
    "# --- ONE HOT ENCODER ---\n",
    "# For each feature, drop the column containing unknown values. This eliminates\n",
    "# the need to drop rows with missing values for these categoricals\n",
    "droppers = [UNKNOWN]*X.select_dtypes('object').shape[1]\n",
    "one_hot_encoder = OneHotEncoder(sparse=False, drop=droppers, \n",
    "                                handle_unknown='error')\n",
    "\n",
    "# --- SELECTORS ---\n",
    "# Used in pipelines to select string types and numeric types\n",
    "string_selector = make_column_selector(dtype_include='object')\n",
    "number_selector = make_column_selector(dtype_include='number')\n",
    "\n",
    "# --- TRANSFORMERS ---\n",
    "# Used in pipelines to perform respective transformations\n",
    "transformer_basic = make_column_transformer((one_hot_encoder, string_selector),\n",
    "                                            n_jobs=JOBS)\n",
    "transformer_ss = make_column_transformer((one_hot_encoder, string_selector), \n",
    "                                          (StandardScaler(), number_selector), \n",
    "                                         n_jobs=JOBS)\n",
    "transformer_minmax = make_column_transformer((one_hot_encoder, string_selector), \n",
    "                                             (MinMaxScaler(), number_selector),\n",
    "                                             n_jobs=JOBS)\n",
    "\n",
    "# --- CROSS VALIDATION ---\n",
    "# KFold object used for all cross-fold validations\n",
    "kfold = KFold(N_SPLITS, shuffle=True, random_state=RANDOM_STATE)\n",
    "\n",
    "# --- RESAMPLING ---\n",
    "# SMOTE used for unbalanced datasets\n",
    "smote = SMOTE(random_state = RANDOM_STATE, n_jobs=JOBS)\n",
    "\n",
    "# --- MODELS ---\n",
    "model_logreg = LogisticRegression(random_state=RANDOM_STATE, max_iter=10000,\n",
    "                                  n_jobs=JOBS)\n",
    "model_knn = KNeighborsClassifier(n_jobs=JOBS)\n",
    "model_dt = DecisionTreeClassifier(random_state=RANDOM_STATE)\n",
    "model_rf = RandomForestClassifier(random_state=RANDOM_STATE)\n",
    "model_xgb = XGBClassifier(use_label_encoder=False, eval_metric = 'logloss', \n",
    "                          random_state=RANDOM_STATE, n_jobs=JOBS)"
   ]
  },
  {
   "cell_type": "markdown",
   "id": "e664c382",
   "metadata": {},
   "source": [
    "\n",
    "## Model Type 1: Logistic Regression"
   ]
  },
  {
   "cell_type": "code",
   "execution_count": null,
   "id": "817b1658",
   "metadata": {},
   "outputs": [],
   "source": [
    "# # --- BASELINE ---\n",
    "pipe = Pipeline([('cols', transformer_basic),\n",
    "                 ('model', model_logreg)])\n",
    "pipe.fit(X, y)\n",
    "model_history.add_model(pipe, X, y, notes='Logreg baseline model')\n",
    "\n",
    "\n",
    "# # --- ADD SMOTE ---\n",
    "pipe = Pipeline([('cols', transformer_basic),\n",
    "                 ('smote', smote),\n",
    "                 ('model', model_logreg)])\n",
    "pipe.fit(X, y)\n",
    "model_history.add_model(pipe, X, y, notes='Logreg with SMOTE resampling')\n",
    "\n",
    "\n",
    "# # --- ADD STANDARD SCALER ---\n",
    "pipe = Pipeline([('cols', transformer_ss),\n",
    "                 ('smote', smote),\n",
    "                 ('model', model_logreg)])\n",
    "pipe.fit(X, y)\n",
    "model_history.add_model(pipe, X, y, notes='Logreg w/SMOTE and StandardScaler')\n",
    "\n",
    "\n",
    "# # --- SWITCH TO MIN-MAX SCALER ---\n",
    "pipe = Pipeline([('cols', transformer_minmax),\n",
    "                 ('smote', smote),\n",
    "                 ('model', model_logreg)])\n",
    "pipe.fit(X, y)\n",
    "model_history.add_model(pipe, X, y, notes='Logreg w/SMOTE and MinMaxScaler')\n",
    "\n",
    "\n",
    "# # --- ADD GRID SEARCH AND CROSS VAL ---\n",
    "pipe = Pipeline([('cols', transformer_ss),\n",
    "                 ('model', model_logreg)])\n",
    "param_grid = {'model__C': np.logspace(-1, 4, 10)}\n",
    "search = GridSearchCV(pipe, param_grid, cv=kfold, n_jobs=JOBS, scoring='f1', \n",
    "                      return_train_score=True)\n",
    "search.fit(X, y);\n",
    "model_history.add_model(search.best_estimator_, X, y, display_results=True, \n",
    "                        notes='Logreg w/standard scaler, grid search, cross-val')\n",
    "\n",
    "# Create object to hold best-in-class performer\n",
    "final_model_logreg = search.best_estimator_"
   ]
  },
  {
   "cell_type": "markdown",
   "id": "d6752289",
   "metadata": {},
   "source": [
    "**Print F1 score for both train and test datasets in cross-validation. Subsequently, plot the confusion matrix**"
   ]
  },
  {
   "cell_type": "code",
   "execution_count": null,
   "id": "2faab427",
   "metadata": {},
   "outputs": [],
   "source": [
    "train_test_scores(search)\n",
    "plot_confusion_matrix(final_model_logreg, X, y);"
   ]
  },
  {
   "cell_type": "markdown",
   "id": "d6cb83e0",
   "metadata": {},
   "source": [
    "## Model Type 2: K-Nearest Neighbors"
   ]
  },
  {
   "cell_type": "code",
   "execution_count": null,
   "id": "90d31ea2",
   "metadata": {},
   "outputs": [],
   "source": [
    "# Declare pipeline with standard scaler\n",
    "pipe = Pipeline([('cols', transformer_ss),\n",
    "                 ('model', model_knn)])\n",
    "\n",
    "# Set parameter grid to search across\n",
    "param_grid = {'model__leaf_size': [50],\n",
    "               'model__n_neighbors': [3, 5, 7, 9]} \n",
    "\n",
    "# Instantiate and fit grid search object\n",
    "search = GridSearchCV(pipe, param_grid, cv=kfold, n_jobs=JOBS, scoring='f1', \n",
    "                      return_train_score=True)\n",
    "search.fit(X, y)\n",
    "\n",
    "# Add results to model_history object\n",
    "model_history.add_model(search.best_estimator_, X, y, display_results=True, \n",
    "                        notes='KNN w/grid-search and cross-val')\n",
    "\n",
    "# Create object to hold best-in-class performer\n",
    "final_model_knn = search.best_estimator_"
   ]
  },
  {
   "cell_type": "markdown",
   "id": "2c09e707",
   "metadata": {},
   "source": [
    "**Print F1 score for both train and test datasets in cross-validation. Subsequently, plot the confusion matrix**"
   ]
  },
  {
   "cell_type": "code",
   "execution_count": null,
   "id": "a10770e0",
   "metadata": {},
   "outputs": [],
   "source": [
    "train_test_scores(search)\n",
    "plot_confusion_matrix(final_model_knn, X, y);"
   ]
  },
  {
   "cell_type": "markdown",
   "id": "eb51a1b7",
   "metadata": {},
   "source": [
    "## Model Type 3: Decision Tree"
   ]
  },
  {
   "cell_type": "code",
   "execution_count": null,
   "id": "fe6f0c93",
   "metadata": {},
   "outputs": [],
   "source": [
    "# Declare pipeline with standard scaler\n",
    "pipe = Pipeline([('cols', transformer_ss),\n",
    "                 ('model', model_dt)])\n",
    "\n",
    "# Set parameter grid to search across\n",
    "param_grid = {'model__max_depth': [3, 5, 7], \n",
    "              'model__criterion': ['gini', 'entropy'],\n",
    "              'model__min_samples_split': [5, 10],\n",
    "              'model__min_samples_leaf': [5, 10]} \n",
    "\n",
    "# Instantiate and fit grid search object\n",
    "search = GridSearchCV(pipe, param_grid, cv=kfold, n_jobs=JOBS, scoring='f1', \n",
    "                      return_train_score=True)\n",
    "search.fit(X, y)\n",
    "\n",
    "# Add results to model_history object\n",
    "model_history.add_model(search.best_estimator_, X, y, display_results=True, \n",
    "                        notes='grid-based decision tree, cross-val')\n",
    "\n",
    "# Create object to hold best-in-class performer\n",
    "final_model_dt = search.best_estimator_"
   ]
  },
  {
   "cell_type": "markdown",
   "id": "c0d5fda7",
   "metadata": {},
   "source": [
    "**Print F1 score for both train and test datasets in cross-validation. Subsequently, plot the confusion matrix**"
   ]
  },
  {
   "cell_type": "code",
   "execution_count": null,
   "id": "5793c7ca",
   "metadata": {},
   "outputs": [],
   "source": [
    "train_test_scores(search)\n",
    "plot_importances(search, X)\n",
    "plot_confusion_matrix(final_model_dt, X, y);"
   ]
  },
  {
   "cell_type": "markdown",
   "id": "a2c99944",
   "metadata": {},
   "source": [
    "## Model Type 4: Random Forest"
   ]
  },
  {
   "cell_type": "code",
   "execution_count": null,
   "id": "61729014",
   "metadata": {},
   "outputs": [],
   "source": [
    "# Declare pipeline with standard scaler\n",
    "pipe = Pipeline([('cols', transformer_ss),\n",
    "                 ('model', model_rf)])\n",
    "\n",
    "# Set parameter grid to search across\n",
    "param_grid = {\n",
    "    'model__n_estimators': [25, 75, 150],\n",
    "    'model__criterion': ['gini', 'entropy'],\n",
    "    'model__max_depth': [3, 6, 10],\n",
    "    'model__min_samples_split': [5, 10],\n",
    "    'model__min_samples_leaf': [3, 6]}\n",
    "\n",
    "# Instantiate and fit grid search object\n",
    "search = GridSearchCV(pipe, param_grid, cv=kfold, n_jobs=JOBS, scoring='f1', \n",
    "                      return_train_score=True)\n",
    "search.fit(X, y)\n",
    "\n",
    "# Add results to model_history object\n",
    "model_history.add_model(search.best_estimator_, X, y, display_results=True, \n",
    "                        notes='grid-based RF, cross-val')\n",
    "\n",
    "# Create object to hold best-in-class performer\n",
    "final_model_rf = search.best_estimator_"
   ]
  },
  {
   "cell_type": "markdown",
   "id": "49a5d0b5",
   "metadata": {},
   "source": [
    "**Print F1 score for both train and test datasets in cross-validation. Subsequently, plot the confusion matrix**"
   ]
  },
  {
   "cell_type": "code",
   "execution_count": null,
   "id": "342b9fe5",
   "metadata": {},
   "outputs": [],
   "source": [
    "train_test_scores(search)\n",
    "plot_importances(search, X)\n",
    "plot_confusion_matrix(final_model_rf, X, y);"
   ]
  },
  {
   "cell_type": "markdown",
   "id": "77a67654",
   "metadata": {},
   "source": [
    "## Model Type 5: XG Boost"
   ]
  },
  {
   "cell_type": "code",
   "execution_count": null,
   "id": "e3a93e48",
   "metadata": {},
   "outputs": [],
   "source": [
    "# Declare pipeline with standard scaler\n",
    "pipe = Pipeline([('cols', transformer_ss),\n",
    "                 ('model', model_xgb)])\n",
    "\n",
    "# Set parameter grid to search across\n",
    "param_grid = {\n",
    "    'model__learning_rate': [0.1, 0.2],\n",
    "    'model__max_depth': [3, 6],\n",
    "    'model__min_child_weight': [1, 2],\n",
    "    'model__subsample': [0.5, 0.7],\n",
    "    'model__n_estimators': [100, 150]}\n",
    "\n",
    "# Instantiate and fit grid search object\n",
    "search = GridSearchCV(pipe, param_grid, cv=kfold, n_jobs=JOBS, scoring='f1', \n",
    "                      return_train_score=True)\n",
    "search.fit(X, y)\n",
    "\n",
    "# Add results to model_history object\n",
    "model_history.add_model(search.best_estimator_, X, y, display_results=True, \n",
    "                        notes='grid-based xgb, cross-val')\n",
    "\n",
    "# Create object to hold best-in-class performer\n",
    "final_model_xgb = search.best_estimator_"
   ]
  },
  {
   "cell_type": "markdown",
   "id": "88257d2d",
   "metadata": {},
   "source": [
    "**Print F1 score for both train and test datasets in cross-validation. Subsequently, plot the confusion matrix**"
   ]
  },
  {
   "cell_type": "code",
   "execution_count": null,
   "id": "006fada1",
   "metadata": {},
   "outputs": [],
   "source": [
    "train_test_scores(search)\n",
    "plot_importances(search, X)\n",
    "plot_confusion_matrix(final_model_xgb, X, y);"
   ]
  },
  {
   "cell_type": "markdown",
   "id": "d52cc8ad",
   "metadata": {},
   "source": [
    "**Produce SHAP plot to visualize feature importance distribution and sign**\n",
    "\n",
    "Notes on interpreting SHAP plot visualizations: https://blog.datascienceheroes.com/how-to-interpret-shap-values-in-r/"
   ]
  },
  {
   "cell_type": "code",
   "execution_count": null,
   "id": "64df3965",
   "metadata": {},
   "outputs": [],
   "source": [
    "produce_shap_plot(X.copy(), y, clone(final_model_xgb))"
   ]
  },
  {
   "cell_type": "markdown",
   "id": "15e125b9",
   "metadata": {},
   "source": [
    "# Part VII: Results Interpretation\n",
    "\n",
    "Based on the output scores stored in the model_history object, we can identify XG Boost as the top performing model in terms of performance on the F1 metric. "
   ]
  },
  {
   "cell_type": "code",
   "execution_count": null,
   "id": "6427af1b",
   "metadata": {},
   "outputs": [],
   "source": [
    "best_model = final_model_xgb"
   ]
  },
  {
   "cell_type": "markdown",
   "id": "7a078ff7",
   "metadata": {},
   "source": [
    "## Deeper dive: Race\n",
    "\n",
    "Given that race appears among the most impactful features in the modeling process, below is a brief investigation of whether race alone can create a predictive model. If there were no racial bias in the policing system, the model would be inconclusive since individuals of all races would receive a negative resolution equally often."
   ]
  },
  {
   "cell_type": "code",
   "execution_count": null,
   "id": "112cf52c",
   "metadata": {},
   "outputs": [],
   "source": [
    "# Isolate *only* race metrics\n",
    "X_race = X[['Subject Perceived Race', 'Officer Race']]\n",
    "\n",
    "# One-hot encode\n",
    "droppers = [UNKNOWN]*X_race.select_dtypes('object').shape[1]\n",
    "one_hot_encoder_race = OneHotEncoder(sparse=False, drop=droppers, \n",
    "                                     handle_unknown='error')\n",
    "\n",
    "# Apply Scaler to numeric features and one-hot encode categorical features\n",
    "transformer_ss_race = make_column_transformer((one_hot_encoder_race, string_selector), \n",
    "                                          (StandardScaler(), number_selector), \n",
    "                                              n_jobs=JOBS)\n",
    "\n",
    "# Declare pipeline with standard scaler\n",
    "pipe = Pipeline([('cols', transformer_ss_race),\n",
    "                 ('model', model_xgb)])\n",
    "\n",
    "# Set parameter grid to search across\n",
    "param_grid = {\n",
    "    'model__learning_rate': [0.1, 0.2],\n",
    "    'model__max_depth': [3, 6],\n",
    "    'model__min_child_weight': [1, 2],\n",
    "    'model__subsample': [0.5, 0.7],\n",
    "    'model__n_estimators': [100, 150]}\n",
    "\n",
    "# Instantiate and fit grid search object\n",
    "search = GridSearchCV(pipe, param_grid, cv=kfold, n_jobs=JOBS, scoring='f1', \n",
    "                      return_train_score=True)\n",
    "search.fit(X_race, y)\n",
    "\n",
    "# Add results to model_history object\n",
    "model_history.add_model(search.best_estimator_, X_race, y, \n",
    "                        display_results=False, \n",
    "                        notes='grid-based xgb, RACE ONLY, optimize F1')"
   ]
  },
  {
   "cell_type": "markdown",
   "id": "60b2ed16",
   "metadata": {},
   "source": [
    "**Try optimizing the above model to maximize accuracy instead of F1 score.**"
   ]
  },
  {
   "cell_type": "code",
   "execution_count": null,
   "id": "13007f08",
   "metadata": {},
   "outputs": [],
   "source": [
    "# Instantiate and fit grid search object\n",
    "search = GridSearchCV(pipe, param_grid, cv=kfold, n_jobs=JOBS, \n",
    "                      scoring='accuracy')\n",
    "search.fit(X_race, y)\n",
    "\n",
    "# Add results to model_history object\n",
    "model_history.add_model(search.best_estimator_, X_race, y, \n",
    "                        display_results=True, \n",
    "                        notes='grid-based xgb, RACE ONLY, optimize accuracy')\n",
    "model_race_only = search.best_estimator_"
   ]
  },
  {
   "cell_type": "code",
   "execution_count": null,
   "id": "e84750ca",
   "metadata": {},
   "outputs": [],
   "source": [
    "plot_confusion_matrix(model_race_only, X_race.copy(), y)\n",
    "\n",
    "plt.figure()\n",
    "produce_shap_plot(X_race.copy(), y, clone(model_race_only))\n",
    "\n",
    "plot_importances(model_race_only, X_race);\n"
   ]
  },
  {
   "cell_type": "markdown",
   "id": "7d80b601",
   "metadata": {},
   "source": [
    "## Findings from Race-only model:\n",
    "\n",
    "As can be seen in the SHAP plot above, non-white subjects are by far stronger predictors of negative outcomes than white subjects. Officer race had a notably smaller impact than subject race, but there is still a clear disparity. "
   ]
  },
  {
   "cell_type": "markdown",
   "id": "77b4ffe7",
   "metadata": {},
   "source": [
    "**Output all results as one DataFrame to be used in report**"
   ]
  },
  {
   "cell_type": "code",
   "execution_count": null,
   "id": "e4dd1010",
   "metadata": {},
   "outputs": [],
   "source": [
    "# Save results to image for use in report\n",
    "name = 'Results-DF2.png'\n",
    "path = os.path.join(path_to_figures, name)    \n",
    "history_df = model_history.get_results()\n",
    "history_df[['Notes', 'F1 Score', 'Accuracy', 'n_features']]"
   ]
  },
  {
   "cell_type": "markdown",
   "id": "9b721a56",
   "metadata": {},
   "source": [
    "## Apply full model to \"test\" dataset\n",
    "\n",
    "Calculate F1 score and display the confusion matrix."
   ]
  },
  {
   "cell_type": "code",
   "execution_count": null,
   "id": "b4b8b0ec",
   "metadata": {},
   "outputs": [],
   "source": [
    "f1_scores = cross_val_score(best_model, X_test, y_test, scoring='f1', cv=kfold)\n",
    "f1 = f1_scores.mean()\n",
    "print('Cross-validation F1 scores on test data:', f1_scores)\n",
    "print('Mean F1 score on test data:', f1)\n",
    "\n",
    "\n",
    "accuracy_scores = cross_val_score(best_model, X_test, y_test, \n",
    "                                  scoring='accuracy', cv=kfold)\n",
    "accuracy = accuracy_scores.mean()\n",
    "print('Cross-validation accuracy scores on test data:', accuracy_scores)\n",
    "print('Mean accuracy score on test data:', accuracy)\n",
    "\n",
    "\n",
    "plot_confusion_matrix(final_model_xgb, X, y);\n",
    "plt.title('Confusion Matrix for Final Model')\n",
    "\n",
    "\n",
    "name = 'Final-Model-Confusion-Matrix.png'\n",
    "path = os.path.join(path_to_figures, name)\n",
    "plt.savefig(path)"
   ]
  },
  {
   "cell_type": "markdown",
   "id": "3f35a10e",
   "metadata": {},
   "source": [
    "**To better disect the results, the SHAP plot below provides substantial value. Although it isn't visually intuitive, upon close inspection the plot provides very valuation information.**"
   ]
  },
  {
   "cell_type": "code",
   "execution_count": null,
   "id": "2de4fe0a",
   "metadata": {},
   "outputs": [],
   "source": [
    "produce_shap_plot(X_test.copy(), y_test, clone(final_model_xgb), \n",
    "                  df_train_for_fitting_only=X.copy(), \n",
    "                  target_train_for_fitting_only=y,\n",
    "                  savefig=True)\n",
    "\n",
    "plot_importances(best_model, X_test)"
   ]
  },
  {
   "cell_type": "markdown",
   "id": "8a56250d",
   "metadata": {},
   "source": [
    "# Part VIII: Conclusion\n",
    "\n",
    "The investigation brings about a valuable understanding of the most relevant indicators of negative outcomes of a Terry stop in the Seattle area. The below observations are determined by both the SHAP plot and significance plot above, in conjunction with the findings in the EDA section. \n",
    "\n",
    "The valuable predictors of a negative outcome for a Terry stop are:\n",
    "- Origin of the call, such as a 911 or an onview stop\n",
    "- Police precinct where stop took place\n",
    "- Subject perceived race\n",
    "\n",
    "Take note that each of these factors is more impactful than intuitive indicators of what might lead to a negative outcome, include:\n",
    "- Whether or not the subject has a weapon\n",
    "- Officer gender\n",
    "\n",
    "\n",
    "\n",
    "Other interesting trends include:\n",
    "- A moderately predictive model can be created using *exclusively* racial data. If there were no systemic societal racial bias, the model would be inconclusive since individuals of all races would receive a negative resolution equally often. This is clearly not the case.\n",
    "- Stops originating from a 911 call or onview stop are strong indicators of a negative outcome for the subject.\n",
    "- As subject age increases, negative outcomes become less likely. \n",
    "- As officer age increases, negative outcomes become more likely.\n",
    "- Subjects of the following races are strongly associated with more negative outcomes: Black or African American, Hispanic, Native (American Indian, Alaska Native, Native Hawaiian or Other Pacific Islander). White subjects are less frequently associated with negative outcomes.\n",
    "- Stops by Hispanic officers are correlated with lower likelihood of a negative subject outcome. \n",
    "\n",
    "### Further Investigation\n",
    "\n",
    "Inevitably, this analysis leaves many valuable insights undiscovered. Further investigation could include areas such as:\n",
    "\n",
    "- Detailed study of the \"call type\" feature. The dataset gives information about the reason that the stop was initiated, which could speculatively provide powerful insights and add substantial model accuracy. \n",
    "- More in-depth study of geographical importance. The dataset provides breakdowns based on district, etc. Although these features are directly used within the model, feature engineering could likely provide additional value.\n",
    "- Comparison with city demographics. Although we have distributions based on race, we don't use metrics about race in the Seattle area at large. This could provide insight into how often stops are made of different races. Additionally, the call types broken down by race, age and gender would be an interesting topic to investigate further.\n",
    "- Expanding the scope of the study dramatically, it could prove valuable to perform similar analysis on data from other cities that may make related datasets available. An understanding could be gathered about that area, but also the comparison with other areas could identify underlying geographical trends. "
   ]
  }
 ],
 "metadata": {
  "kernelspec": {
   "display_name": "Python 3",
   "language": "python",
   "name": "python3"
  },
  "language_info": {
   "codemirror_mode": {
    "name": "ipython",
    "version": 3
   },
   "file_extension": ".py",
   "mimetype": "text/x-python",
   "name": "python",
   "nbconvert_exporter": "python",
   "pygments_lexer": "ipython3",
   "version": "3.8.3"
  }
 },
 "nbformat": 4,
 "nbformat_minor": 5
}
